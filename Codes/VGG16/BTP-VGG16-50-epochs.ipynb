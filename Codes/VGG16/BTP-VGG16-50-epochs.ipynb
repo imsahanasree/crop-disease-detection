{
  "cells": [
    {
      "cell_type": "code",
      "execution_count": 3,
      "metadata": {
        "_cell_guid": "b1076dfc-b9ad-4769-8c92-a6c4dae69d19",
        "_uuid": "8f2839f25d086af736a60e9eeb907d3b93b6e0e5",
        "colab": {
          "base_uri": "https://localhost:8080/"
        },
        "id": "3_HjethpAPFR",
        "outputId": "cd3d6497-24e4-4087-cbea-27b0d1b3a2a0"
      },
      "outputs": [
        {
          "output_type": "stream",
          "name": "stdout",
          "text": [
            "[INFO]: Tensorflow version2.9.2\n",
            "[INFO]: GPU usage/device:GPU:0\n"
          ]
        }
      ],
      "source": [
        "#Import tensorflow and keras library\n",
        "import tensorflow as tf\n",
        "import keras_preprocessing\n",
        "from tensorflow.keras.preprocessing import image\n",
        "import pickle\n",
        "from tensorflow.keras.preprocessing.image import ImageDataGenerator\n",
        "from keras.callbacks import TensorBoard\n",
        "from keras.models import Sequential\n",
        "from keras.layers import Convolution2D,MaxPooling2D,Flatten,Dense,Dropout\n",
        "from tensorflow.keras.layers import BatchNormalization\n",
        "from tensorflow.keras.optimizers import Adam\n",
        "import keras\n",
        "from tensorflow.keras.callbacks import ModelCheckpoint\n",
        "\n",
        "print(\"[INFO]: Tensorflow version{}\".format(tf.__version__))\n",
        "state_gpu = tf.test.gpu_device_name()\n",
        "print(\"[INFO]: GPU usage{0}\".format(state_gpu))"
      ]
    },
    {
      "cell_type": "code",
      "source": [
        "# Importing the images \n",
        "from google.colab import drive\n",
        "drive.mount('/content/drive')"
      ],
      "metadata": {
        "colab": {
          "base_uri": "https://localhost:8080/"
        },
        "id": "8znChDsIBi-4",
        "outputId": "e070dc0c-044e-4083-e8b9-8be13b942370"
      },
      "execution_count": 5,
      "outputs": [
        {
          "output_type": "stream",
          "name": "stdout",
          "text": [
            "Mounted at /content/drive\n"
          ]
        }
      ]
    },
    {
      "cell_type": "code",
      "source": [
        "# from zipfile import ZipFile\n",
        "# with ZipFile('/content/drive/MyDrive/BTP/Dataset/tomato.zip','r') as zipObj:\n",
        "#   zipObj.extractall('/content/drive/MyDrive/BTP/Dataset/dataset')"
      ],
      "metadata": {
        "id": "4Ax-U93PCLNi"
      },
      "execution_count": null,
      "outputs": []
    },
    {
      "cell_type": "code",
      "source": [
        "train_datagen=ImageDataGenerator(validation_split=0.2,rescale=1./255,\n",
        "                                 horizontal_flip=True,rotation_range=.2,shear_range=.2)\n",
        "test_datagen=ImageDataGenerator(rescale=1./255)"
      ],
      "metadata": {
        "id": "zORkxp3x4_fx"
      },
      "execution_count": 6,
      "outputs": []
    },
    {
      "cell_type": "code",
      "execution_count": 7,
      "metadata": {
        "id": "eAkYeJD4APFb"
      },
      "outputs": [],
      "source": [
        "TRAINING_DIR = '/content/drive/MyDrive/BTP/Dataset/dataset/New Plant Diseases Dataset(Augmented)/train/' \n",
        "TESTING_DIR = '/content/drive/MyDrive/BTP/Dataset/dataset/New Plant Diseases Dataset(Augmented)/valid/'"
      ]
    },
    {
      "cell_type": "code",
      "source": [
        "training_set=train_datagen.flow_from_directory(TRAINING_DIR,\n",
        "                                               target_size=(224,224),class_mode=\"categorical\",batch_size=32,shuffle=True,subset=\"training\")\n",
        "\n",
        "validation_generator = train_datagen.flow_from_directory(\n",
        "        TRAINING_DIR,\n",
        "        target_size=(224, 224),\n",
        "        batch_size=32,\n",
        "        class_mode='categorical',\n",
        "        shuffle=True,\n",
        "        subset=\"validation\")\n",
        "\n",
        "test_set=test_datagen.flow_from_directory(TESTING_DIR,\n",
        "                                          target_size=(224,224),batch_size=32,class_mode=\"categorical\",shuffle=True)"
      ],
      "metadata": {
        "colab": {
          "base_uri": "https://localhost:8080/"
        },
        "id": "w1l9rY-LyZBA",
        "outputId": "ec14d23d-0168-4609-c50c-95968a5e1682"
      },
      "execution_count": 8,
      "outputs": [
        {
          "output_type": "stream",
          "name": "stdout",
          "text": [
            "Found 14678 images belonging to 10 classes.\n",
            "Found 3667 images belonging to 10 classes.\n",
            "Found 4585 images belonging to 10 classes.\n"
          ]
        }
      ]
    },
    {
      "cell_type": "code",
      "execution_count": 9,
      "metadata": {
        "id": "ZQ3tLewdAPFc"
      },
      "outputs": [],
      "source": [
        "# TARGET_SIZE = (150,150)\n",
        "# # TRAIN_BATCH_SIZE = 128\n",
        "# # VALID_BATCH_SIZE = 32\n",
        "# SEED = 42\n",
        "\n",
        "# #Data Iterator\n",
        "# train_data = train_gen.flow_from_directory(\n",
        "# TRAINING_DIR,\n",
        "# target_size = TARGET_SIZE,\n",
        "# class_mode = 'categorical',\n",
        "# color_mode = \"rgb\",\n",
        "# batch_size = 32,\n",
        "# shuffle = True,\n",
        "# seed = SEED,\n",
        "# subset=\"training\"\n",
        "# )\n",
        "\n",
        "# validation_generator = train_gen.flow_from_directory(\n",
        "#         TRAINING_DIR,\n",
        "#         target_size=(150, 150),\n",
        "#         batch_size=32,\n",
        "#         class_mode='categorical',\n",
        "#         shuffle=True,\n",
        "#         subset=\"validation\")\n",
        "\n",
        "\n",
        "# test_data = valid_gen.flow_from_directory(\n",
        "\n",
        "# TESTING_DIR,\n",
        "# target_size = TARGET_SIZE,\n",
        "# class_mode = 'categorical',\n",
        "# color_mode = \"rgb\",\n",
        "# batch_size = 32\n",
        "# )"
      ]
    },
    {
      "cell_type": "code",
      "source": [
        "from glob import glob\n",
        "folder=glob(\"/content/drive/MyDrive/BTP/Dataset/dataset/New Plant Diseases Dataset(Augmented)/train/*\")\n",
        "folder"
      ],
      "metadata": {
        "colab": {
          "base_uri": "https://localhost:8080/"
        },
        "id": "7A9TVsGpy4zY",
        "outputId": "6e4eecd7-345d-451b-db68-9bf39c04d3a7"
      },
      "execution_count": 10,
      "outputs": [
        {
          "output_type": "execute_result",
          "data": {
            "text/plain": [
              "['/content/drive/MyDrive/BTP/Dataset/dataset/New Plant Diseases Dataset(Augmented)/train/Tomato___Bacterial_spot',\n",
              " '/content/drive/MyDrive/BTP/Dataset/dataset/New Plant Diseases Dataset(Augmented)/train/Tomato___Early_blight',\n",
              " '/content/drive/MyDrive/BTP/Dataset/dataset/New Plant Diseases Dataset(Augmented)/train/Tomato___Late_blight',\n",
              " '/content/drive/MyDrive/BTP/Dataset/dataset/New Plant Diseases Dataset(Augmented)/train/Tomato___Leaf_Mold',\n",
              " '/content/drive/MyDrive/BTP/Dataset/dataset/New Plant Diseases Dataset(Augmented)/train/Tomato___Septoria_leaf_spot',\n",
              " '/content/drive/MyDrive/BTP/Dataset/dataset/New Plant Diseases Dataset(Augmented)/train/Tomato___Spider_mites Two-spotted_spider_mite',\n",
              " '/content/drive/MyDrive/BTP/Dataset/dataset/New Plant Diseases Dataset(Augmented)/train/Tomato___Target_Spot',\n",
              " '/content/drive/MyDrive/BTP/Dataset/dataset/New Plant Diseases Dataset(Augmented)/train/Tomato___Tomato_Yellow_Leaf_Curl_Virus',\n",
              " '/content/drive/MyDrive/BTP/Dataset/dataset/New Plant Diseases Dataset(Augmented)/train/Tomato___Tomato_mosaic_virus',\n",
              " '/content/drive/MyDrive/BTP/Dataset/dataset/New Plant Diseases Dataset(Augmented)/train/Tomato___healthy']"
            ]
          },
          "metadata": {},
          "execution_count": 10
        }
      ]
    },
    {
      "cell_type": "code",
      "execution_count": 11,
      "metadata": {
        "id": "HRF-R7jfAPFe",
        "colab": {
          "base_uri": "https://localhost:8080/"
        },
        "outputId": "fc10ae26-879e-47c2-8bea-c52d2209dcca"
      },
      "outputs": [
        {
          "output_type": "stream",
          "name": "stdout",
          "text": [
            "Downloading data from https://storage.googleapis.com/tensorflow/keras-applications/vgg16/vgg16_weights_tf_dim_ordering_tf_kernels_notop.h5\n",
            "58889256/58889256 [==============================] - 3s 0us/step\n"
          ]
        }
      ],
      "source": [
        "from tensorflow import keras\n",
        "from keras.applications.vgg16 import VGG16\n",
        "base_model = keras.applications.VGG16(weights='imagenet', include_top=False, input_shape=[224, 224, 3])\n",
        "#load weight from local file which is just added\n",
        "#base_model = applications.VGG16(weights='../input/vgg16/vgg16_weights_tf_dim_ordering_tf_kernels_notop.h5', include_top=False, input_shape=(img_rows, img_cols, img_channel))\n",
        "\n",
        "base_model_weights_path = '/kaggle/input/vgg16/vgg16_weights_tf_dim_ordering_tf_kernels_notop.h5'\n",
        "# base_model = VGG16(weights=base_model_weights_path, include_top=False, input_shape=(224, 224, 3))\n",
        "\n",
        "x = keras.layers.Flatten() (base_model.output)\n",
        "x = keras.layers.Dense(256, activation=\"relu\")(x)\n",
        "x = keras.layers.Dropout(0.25)(x)\n",
        "output = keras.layers.Dense(units=len(folder), activation='softmax')(x)\n",
        "model = keras.models.Model(inputs=base_model.input, outputs=output)\n",
        "\n",
        "# The newly added layers are initialized with random values.\n",
        "# Make sure based model remain unchanged until newly added layers weights get reasonable values.\n",
        "for layer in base_model.layers:\n",
        "    layer.trainable = False"
      ]
    },
    {
      "cell_type": "code",
      "execution_count": 12,
      "metadata": {
        "colab": {
          "base_uri": "https://localhost:8080/"
        },
        "id": "cwSSsjfeAPFh",
        "outputId": "11b2e9c3-3593-4cf9-c08e-09d0fb19b9ff"
      },
      "outputs": [
        {
          "output_type": "stream",
          "name": "stdout",
          "text": [
            "Model: \"model\"\n",
            "_________________________________________________________________\n",
            " Layer (type)                Output Shape              Param #   \n",
            "=================================================================\n",
            " input_1 (InputLayer)        [(None, 224, 224, 3)]     0         \n",
            "                                                                 \n",
            " block1_conv1 (Conv2D)       (None, 224, 224, 64)      1792      \n",
            "                                                                 \n",
            " block1_conv2 (Conv2D)       (None, 224, 224, 64)      36928     \n",
            "                                                                 \n",
            " block1_pool (MaxPooling2D)  (None, 112, 112, 64)      0         \n",
            "                                                                 \n",
            " block2_conv1 (Conv2D)       (None, 112, 112, 128)     73856     \n",
            "                                                                 \n",
            " block2_conv2 (Conv2D)       (None, 112, 112, 128)     147584    \n",
            "                                                                 \n",
            " block2_pool (MaxPooling2D)  (None, 56, 56, 128)       0         \n",
            "                                                                 \n",
            " block3_conv1 (Conv2D)       (None, 56, 56, 256)       295168    \n",
            "                                                                 \n",
            " block3_conv2 (Conv2D)       (None, 56, 56, 256)       590080    \n",
            "                                                                 \n",
            " block3_conv3 (Conv2D)       (None, 56, 56, 256)       590080    \n",
            "                                                                 \n",
            " block3_pool (MaxPooling2D)  (None, 28, 28, 256)       0         \n",
            "                                                                 \n",
            " block4_conv1 (Conv2D)       (None, 28, 28, 512)       1180160   \n",
            "                                                                 \n",
            " block4_conv2 (Conv2D)       (None, 28, 28, 512)       2359808   \n",
            "                                                                 \n",
            " block4_conv3 (Conv2D)       (None, 28, 28, 512)       2359808   \n",
            "                                                                 \n",
            " block4_pool (MaxPooling2D)  (None, 14, 14, 512)       0         \n",
            "                                                                 \n",
            " block5_conv1 (Conv2D)       (None, 14, 14, 512)       2359808   \n",
            "                                                                 \n",
            " block5_conv2 (Conv2D)       (None, 14, 14, 512)       2359808   \n",
            "                                                                 \n",
            " block5_conv3 (Conv2D)       (None, 14, 14, 512)       2359808   \n",
            "                                                                 \n",
            " block5_pool (MaxPooling2D)  (None, 7, 7, 512)         0         \n",
            "                                                                 \n",
            " flatten (Flatten)           (None, 25088)             0         \n",
            "                                                                 \n",
            " dense (Dense)               (None, 256)               6422784   \n",
            "                                                                 \n",
            " dropout (Dropout)           (None, 256)               0         \n",
            "                                                                 \n",
            " dense_1 (Dense)             (None, 10)                2570      \n",
            "                                                                 \n",
            "=================================================================\n",
            "Total params: 21,140,042\n",
            "Trainable params: 6,425,354\n",
            "Non-trainable params: 14,714,688\n",
            "_________________________________________________________________\n"
          ]
        }
      ],
      "source": [
        "model.summary()"
      ]
    },
    {
      "cell_type": "code",
      "execution_count": 13,
      "metadata": {
        "id": "XQZZbqXSAPFi",
        "colab": {
          "base_uri": "https://localhost:8080/"
        },
        "outputId": "6b6def35-13a0-4eac-b087-2d24093c2b92"
      },
      "outputs": [
        {
          "output_type": "stream",
          "name": "stderr",
          "text": [
            "/usr/local/lib/python3.8/dist-packages/keras/optimizers/optimizer_v2/adam.py:110: UserWarning: The `lr` argument is deprecated, use `learning_rate` instead.\n",
            "  super(Adam, self).__init__(name, **kwargs)\n"
          ]
        }
      ],
      "source": [
        "LEARNING_RATE = 0.0001\n",
        "#LEARNING_RATE = 0.001\n",
        "\n",
        "#Optimizer\n",
        "opt = Adam(lr = LEARNING_RATE)\n",
        "model.compile(optimizer=opt, loss=keras.losses.categorical_crossentropy, metrics=['accuracy'])"
      ]
    },
    {
      "cell_type": "code",
      "execution_count": 12,
      "metadata": {
        "colab": {
          "base_uri": "https://localhost:8080/"
        },
        "id": "IB6I7fl2APFk",
        "outputId": "b4ca89a5-7aad-4983-9479-f044c7add792"
      },
      "outputs": [
        {
          "output_type": "stream",
          "name": "stdout",
          "text": [
            "Epoch 1/50\n",
            "459/459 [==============================] - 261s 543ms/step - loss: 0.8931 - accuracy: 0.7093 - val_loss: 0.6022 - val_accuracy: 0.8045\n",
            "Epoch 2/50\n",
            "459/459 [==============================] - 242s 526ms/step - loss: 0.4764 - accuracy: 0.8471 - val_loss: 0.4530 - val_accuracy: 0.8489\n",
            "Epoch 3/50\n",
            "459/459 [==============================] - 242s 526ms/step - loss: 0.3496 - accuracy: 0.8883 - val_loss: 0.4331 - val_accuracy: 0.8541\n",
            "Epoch 4/50\n",
            "459/459 [==============================] - 242s 528ms/step - loss: 0.2876 - accuracy: 0.9093 - val_loss: 0.3808 - val_accuracy: 0.8724\n",
            "Epoch 5/50\n",
            "459/459 [==============================] - 242s 527ms/step - loss: 0.2377 - accuracy: 0.9242 - val_loss: 0.3564 - val_accuracy: 0.8803\n",
            "Epoch 6/50\n",
            "459/459 [==============================] - 244s 532ms/step - loss: 0.1997 - accuracy: 0.9385 - val_loss: 0.3495 - val_accuracy: 0.8795\n",
            "Epoch 7/50\n",
            "459/459 [==============================] - 244s 531ms/step - loss: 0.1677 - accuracy: 0.9518 - val_loss: 0.3449 - val_accuracy: 0.8846\n",
            "Epoch 8/50\n",
            "459/459 [==============================] - 246s 536ms/step - loss: 0.1491 - accuracy: 0.9526 - val_loss: 0.2829 - val_accuracy: 0.8983\n",
            "Epoch 9/50\n",
            "459/459 [==============================] - 241s 525ms/step - loss: 0.1311 - accuracy: 0.9605 - val_loss: 0.3231 - val_accuracy: 0.8915\n",
            "Epoch 10/50\n",
            "459/459 [==============================] - 242s 527ms/step - loss: 0.1215 - accuracy: 0.9646 - val_loss: 0.2971 - val_accuracy: 0.8972\n",
            "Epoch 11/50\n",
            "459/459 [==============================] - 239s 522ms/step - loss: 0.1047 - accuracy: 0.9675 - val_loss: 0.3165 - val_accuracy: 0.8868\n",
            "Epoch 12/50\n",
            "459/459 [==============================] - 240s 522ms/step - loss: 0.0873 - accuracy: 0.9753 - val_loss: 0.2675 - val_accuracy: 0.9092\n",
            "Epoch 13/50\n",
            "459/459 [==============================] - 240s 523ms/step - loss: 0.0758 - accuracy: 0.9790 - val_loss: 0.2971 - val_accuracy: 0.9024\n",
            "Epoch 14/50\n",
            "459/459 [==============================] - 240s 523ms/step - loss: 0.0713 - accuracy: 0.9810 - val_loss: 0.2650 - val_accuracy: 0.9095\n",
            "Epoch 15/50\n",
            "459/459 [==============================] - 240s 523ms/step - loss: 0.0646 - accuracy: 0.9824 - val_loss: 0.3153 - val_accuracy: 0.8923\n",
            "Epoch 16/50\n",
            "459/459 [==============================] - 238s 518ms/step - loss: 0.0588 - accuracy: 0.9845 - val_loss: 0.2852 - val_accuracy: 0.9067\n",
            "Epoch 17/50\n",
            "459/459 [==============================] - 237s 517ms/step - loss: 0.0463 - accuracy: 0.9889 - val_loss: 0.3325 - val_accuracy: 0.8969\n",
            "Epoch 18/50\n",
            "459/459 [==============================] - 237s 517ms/step - loss: 0.0523 - accuracy: 0.9849 - val_loss: 0.2846 - val_accuracy: 0.9106\n",
            "Epoch 19/50\n",
            "459/459 [==============================] - 249s 543ms/step - loss: 0.0466 - accuracy: 0.9877 - val_loss: 0.2652 - val_accuracy: 0.9130\n",
            "Epoch 20/50\n",
            "459/459 [==============================] - 242s 526ms/step - loss: 0.0394 - accuracy: 0.9907 - val_loss: 0.2980 - val_accuracy: 0.9081\n",
            "Epoch 21/50\n",
            "459/459 [==============================] - 243s 529ms/step - loss: 0.0399 - accuracy: 0.9888 - val_loss: 0.3008 - val_accuracy: 0.9059\n",
            "Epoch 22/50\n",
            "459/459 [==============================] - 243s 530ms/step - loss: 0.0325 - accuracy: 0.9923 - val_loss: 0.3440 - val_accuracy: 0.8953\n",
            "Epoch 23/50\n",
            "459/459 [==============================] - 241s 525ms/step - loss: 0.0357 - accuracy: 0.9901 - val_loss: 0.3299 - val_accuracy: 0.8961\n",
            "Epoch 24/50\n",
            "459/459 [==============================] - 254s 554ms/step - loss: 0.0320 - accuracy: 0.9911 - val_loss: 0.2599 - val_accuracy: 0.9141\n",
            "Epoch 25/50\n",
            "459/459 [==============================] - 239s 521ms/step - loss: 0.0289 - accuracy: 0.9922 - val_loss: 0.2698 - val_accuracy: 0.9171\n",
            "Epoch 26/50\n",
            "459/459 [==============================] - 237s 516ms/step - loss: 0.0274 - accuracy: 0.9933 - val_loss: 0.3284 - val_accuracy: 0.9059\n",
            "Epoch 27/50\n",
            "459/459 [==============================] - 236s 515ms/step - loss: 0.0236 - accuracy: 0.9943 - val_loss: 0.2944 - val_accuracy: 0.9103\n",
            "Epoch 28/50\n",
            "459/459 [==============================] - 237s 517ms/step - loss: 0.0280 - accuracy: 0.9920 - val_loss: 0.2917 - val_accuracy: 0.9133\n",
            "Epoch 29/50\n",
            "459/459 [==============================] - 238s 519ms/step - loss: 0.0261 - accuracy: 0.9925 - val_loss: 0.3353 - val_accuracy: 0.9021\n",
            "Epoch 30/50\n",
            "459/459 [==============================] - 239s 521ms/step - loss: 0.0210 - accuracy: 0.9948 - val_loss: 0.3015 - val_accuracy: 0.9092\n",
            "Epoch 31/50\n",
            "459/459 [==============================] - 238s 518ms/step - loss: 0.0253 - accuracy: 0.9923 - val_loss: 0.3660 - val_accuracy: 0.9005\n",
            "Epoch 32/50\n",
            "459/459 [==============================] - 237s 517ms/step - loss: 0.0204 - accuracy: 0.9947 - val_loss: 0.3092 - val_accuracy: 0.9122\n",
            "Epoch 33/50\n",
            "459/459 [==============================] - 235s 513ms/step - loss: 0.0180 - accuracy: 0.9951 - val_loss: 0.3180 - val_accuracy: 0.9152\n",
            "Epoch 34/50\n",
            "459/459 [==============================] - 236s 514ms/step - loss: 0.0146 - accuracy: 0.9969 - val_loss: 0.2945 - val_accuracy: 0.9155\n",
            "Epoch 35/50\n",
            "459/459 [==============================] - 236s 515ms/step - loss: 0.0192 - accuracy: 0.9945 - val_loss: 0.2901 - val_accuracy: 0.9176\n",
            "Epoch 36/50\n",
            "459/459 [==============================] - 237s 517ms/step - loss: 0.0148 - accuracy: 0.9965 - val_loss: 0.2912 - val_accuracy: 0.9155\n",
            "Epoch 37/50\n",
            "459/459 [==============================] - 236s 515ms/step - loss: 0.0221 - accuracy: 0.9938 - val_loss: 0.3332 - val_accuracy: 0.9119\n",
            "Epoch 38/50\n",
            "459/459 [==============================] - 237s 515ms/step - loss: 0.0156 - accuracy: 0.9958 - val_loss: 0.3013 - val_accuracy: 0.9160\n",
            "Epoch 39/50\n",
            "459/459 [==============================] - 237s 516ms/step - loss: 0.0146 - accuracy: 0.9959 - val_loss: 0.2937 - val_accuracy: 0.9166\n",
            "Epoch 40/50\n",
            "459/459 [==============================] - 236s 513ms/step - loss: 0.0191 - accuracy: 0.9948 - val_loss: 0.3780 - val_accuracy: 0.9016\n",
            "Epoch 41/50\n",
            "459/459 [==============================] - 237s 516ms/step - loss: 0.0219 - accuracy: 0.9933 - val_loss: 0.3676 - val_accuracy: 0.9065\n",
            "Epoch 42/50\n",
            "459/459 [==============================] - 237s 516ms/step - loss: 0.0130 - accuracy: 0.9967 - val_loss: 0.3351 - val_accuracy: 0.9119\n",
            "Epoch 43/50\n",
            "459/459 [==============================] - 236s 514ms/step - loss: 0.0093 - accuracy: 0.9982 - val_loss: 0.3243 - val_accuracy: 0.9144\n",
            "Epoch 44/50\n",
            "459/459 [==============================] - 236s 515ms/step - loss: 0.0177 - accuracy: 0.9943 - val_loss: 0.3460 - val_accuracy: 0.9062\n",
            "Epoch 45/50\n",
            "459/459 [==============================] - 236s 515ms/step - loss: 0.0159 - accuracy: 0.9952 - val_loss: 0.3645 - val_accuracy: 0.9046\n",
            "Epoch 46/50\n",
            "459/459 [==============================] - 236s 515ms/step - loss: 0.0159 - accuracy: 0.9952 - val_loss: 0.3057 - val_accuracy: 0.9171\n",
            "Epoch 47/50\n",
            "459/459 [==============================] - 237s 517ms/step - loss: 0.0126 - accuracy: 0.9958 - val_loss: 0.3748 - val_accuracy: 0.9051\n",
            "Epoch 48/50\n",
            "459/459 [==============================] - 238s 518ms/step - loss: 0.0122 - accuracy: 0.9965 - val_loss: 0.3310 - val_accuracy: 0.9114\n",
            "Epoch 49/50\n",
            "459/459 [==============================] - 237s 516ms/step - loss: 0.0211 - accuracy: 0.9931 - val_loss: 0.3234 - val_accuracy: 0.9133\n",
            "Epoch 50/50\n",
            "459/459 [==============================] - 237s 516ms/step - loss: 0.0118 - accuracy: 0.9969 - val_loss: 0.3671 - val_accuracy: 0.9035\n"
          ]
        }
      ],
      "source": [
        "#TRAINING_NUM = train_data.n #or train_data.samples\n",
        "# VALID_NUM = test_data.n\n",
        "EPOCHS = 50\n",
        "\n",
        "# STEP_SIZE_TRAIN = TRAINING_NUM // TRAIN_BATCH_SIZE \n",
        "# STEP_SIZE_VALID = VALID_NUM // VALID_BATCH_SIZE\n",
        "\n",
        "# Fit model to get reasonable weights for newly added layers.\n",
        "history = model.fit(x = training_set, validation_data=validation_generator,epochs=EPOCHS)\n",
        "\n",
        "# history = model.fit_generator(train_data,\n",
        "#                              validation_data = validation_generator,\n",
        "#                              epochs = EPOCHS)"
      ]
    },
    {
      "cell_type": "code",
      "execution_count": 13,
      "metadata": {
        "id": "CS54zB_qAPFm",
        "colab": {
          "base_uri": "https://localhost:8080/",
          "height": 535
        },
        "outputId": "6a18440d-cb8b-4ad0-e3f5-488aa220c1ae"
      },
      "outputs": [
        {
          "output_type": "display_data",
          "data": {
            "text/plain": [
              "<Figure size 1080x576 with 1 Axes>"
            ],
            "image/png": "[encoded data removed]"
          },
          "metadata": {
            "needs_background": "light"
          }
        },
        {
          "output_type": "display_data",
          "data": {
            "text/plain": [
              "<Figure size 1080x576 with 1 Axes>"
            ],
            "image/png": "[encoded data removed]"
          },
          "metadata": {
            "needs_background": "light"
          }
        }
      ],
      "source": [
        "import matplotlib.pyplot as plt\n",
        "\n",
        "plt.figure( figsize = (15,8)) \n",
        "    \n",
        "plt.subplot(221)  \n",
        "# Accuracy \n",
        "plt.plot(model.history.history['accuracy'])\n",
        "plt.plot(model.history.history['val_accuracy'])\n",
        "plt.title('Model Accuracy')\n",
        "plt.ylabel('Accuracy')\n",
        "plt.xlabel('Epoch')\n",
        "plt.legend(['Training set', 'Validation set'], loc='upper left')\n",
        "plt.show()\n",
        "\n",
        "\n",
        "# Loss\n",
        "plt.figure( figsize = (15,8)) \n",
        "plt.subplot(222)  \n",
        "plt.plot(model.history.history['loss'])\n",
        "plt.plot(model.history.history['val_loss'])\n",
        "plt.title('Model Loss')\n",
        "plt.ylabel('Loss')\n",
        "plt.xlabel('Epoch')\n",
        "plt.legend(['Training set', 'Validation set'], loc='upper left')\n",
        "plt.show()"
      ]
    },
    {
      "cell_type": "code",
      "execution_count": 14,
      "metadata": {
        "id": "Kr-JgBdYAPFo",
        "colab": {
          "base_uri": "https://localhost:8080/"
        },
        "outputId": "3c8f8023-2c57-47f7-a801-adc9ef2f0fdf"
      },
      "outputs": [
        {
          "output_type": "stream",
          "name": "stdout",
          "text": [
            "[INFO] Best Validation Accuracy: % 91.76438450813293\n"
          ]
        }
      ],
      "source": [
        "best_val_acc = max(history.history['val_accuracy'])\n",
        "print(\"[INFO] Best Validation Accuracy: %\",best_val_acc*100)"
      ]
    },
    {
      "cell_type": "code",
      "source": [
        "# Scores is just a list containing loss and accuracy value\n",
        "scores=model.evaluate(training_set)\n",
        "scores2=model.evaluate(test_set)\n",
        "print(\"Training Loss is : \"+str(scores[0]))\n",
        "print(\"Training Accuracy is : \"+str(scores[1]*100)+\" %\")\n",
        "print(\"Testing Loss is : \"+str(scores2[0]))\n",
        "print(\"Testing Accuracy is : \"+str(scores2[1]*100)+\" %\")"
      ],
      "metadata": {
        "id": "3FG1-j-AQlpx",
        "colab": {
          "base_uri": "https://localhost:8080/",
          "height": 235
        },
        "outputId": "e12d6627-7114-48ef-fa8c-cb5d834b7905"
      },
      "execution_count": 2,
      "outputs": [
        {
          "output_type": "error",
          "ename": "NameError",
          "evalue": "ignored",
          "traceback": [
            "\u001b[0;31m---------------------------------------------------------------------------\u001b[0m",
            "\u001b[0;31mNameError\u001b[0m                                 Traceback (most recent call last)",
            "\u001b[0;32m<ipython-input-2-a69797e4cfc7>\u001b[0m in \u001b[0;36m<module>\u001b[0;34m\u001b[0m\n\u001b[1;32m      1\u001b[0m \u001b[0;31m# Scores is just a list containing loss and accuracy value\u001b[0m\u001b[0;34m\u001b[0m\u001b[0;34m\u001b[0m\u001b[0;34m\u001b[0m\u001b[0m\n\u001b[0;32m----> 2\u001b[0;31m \u001b[0mscores\u001b[0m\u001b[0;34m=\u001b[0m\u001b[0mmodel\u001b[0m\u001b[0;34m.\u001b[0m\u001b[0mevaluate\u001b[0m\u001b[0;34m(\u001b[0m\u001b[0mtraining_set\u001b[0m\u001b[0;34m)\u001b[0m\u001b[0;34m\u001b[0m\u001b[0;34m\u001b[0m\u001b[0m\n\u001b[0m\u001b[1;32m      3\u001b[0m \u001b[0mscores2\u001b[0m\u001b[0;34m=\u001b[0m\u001b[0mmodel\u001b[0m\u001b[0;34m.\u001b[0m\u001b[0mevaluate\u001b[0m\u001b[0;34m(\u001b[0m\u001b[0mtest_set\u001b[0m\u001b[0;34m)\u001b[0m\u001b[0;34m\u001b[0m\u001b[0;34m\u001b[0m\u001b[0m\n\u001b[1;32m      4\u001b[0m \u001b[0mprint\u001b[0m\u001b[0;34m(\u001b[0m\u001b[0;34m\"Training Loss is : \"\u001b[0m\u001b[0;34m+\u001b[0m\u001b[0mstr\u001b[0m\u001b[0;34m(\u001b[0m\u001b[0mscores\u001b[0m\u001b[0;34m[\u001b[0m\u001b[0;36m0\u001b[0m\u001b[0;34m]\u001b[0m\u001b[0;34m)\u001b[0m\u001b[0;34m)\u001b[0m\u001b[0;34m\u001b[0m\u001b[0;34m\u001b[0m\u001b[0m\n\u001b[1;32m      5\u001b[0m \u001b[0mprint\u001b[0m\u001b[0;34m(\u001b[0m\u001b[0;34m\"Training Accuracy is : \"\u001b[0m\u001b[0;34m+\u001b[0m\u001b[0mstr\u001b[0m\u001b[0;34m(\u001b[0m\u001b[0mscores\u001b[0m\u001b[0;34m[\u001b[0m\u001b[0;36m1\u001b[0m\u001b[0;34m]\u001b[0m\u001b[0;34m*\u001b[0m\u001b[0;36m100\u001b[0m\u001b[0;34m)\u001b[0m\u001b[0;34m+\u001b[0m\u001b[0;34m\" %\"\u001b[0m\u001b[0;34m)\u001b[0m\u001b[0;34m\u001b[0m\u001b[0;34m\u001b[0m\u001b[0m\n",
            "\u001b[0;31mNameError\u001b[0m: name 'model' is not defined"
          ]
        }
      ]
    },
    {
      "cell_type": "markdown",
      "source": [
        "# FINE-TUNING"
      ],
      "metadata": {
        "id": "EDb2jhumSX87"
      }
    },
    {
      "cell_type": "code",
      "execution_count": 14,
      "metadata": {
        "id": "HndY3ZWaAPFq",
        "colab": {
          "base_uri": "https://localhost:8080/"
        },
        "outputId": "5390b4de-e6f1-4c19-ff2f-f58f4e0132f2"
      },
      "outputs": [
        {
          "output_type": "stream",
          "name": "stderr",
          "text": [
            "/usr/local/lib/python3.8/dist-packages/keras/optimizers/optimizer_v2/gradient_descent.py:108: UserWarning: The `lr` argument is deprecated, use `learning_rate` instead.\n",
            "  super(SGD, self).__init__(name, **kwargs)\n"
          ]
        }
      ],
      "source": [
        "for layer in base_model.layers:\n",
        "    layer.trainable = True\n",
        "\n",
        "# compile the model with a SGD/momentum optimizer\n",
        "# and a very slow learning rate (This ensures the base model weights do not change a lot)\n",
        "model.compile(loss='categorical_crossentropy',\n",
        "              optimizer=keras.optimizers.SGD(lr=1e-4, momentum=0.9),\n",
        "              metrics=['accuracy'])"
      ]
    },
    {
      "cell_type": "code",
      "execution_count": null,
      "metadata": {
        "id": "xS1Xtg_3APFs",
        "outputId": "3daa3dbc-57e0-45d2-dfe9-18aede6eb40d",
        "colab": {
          "base_uri": "https://localhost:8080/"
        }
      },
      "outputs": [
        {
          "output_type": "stream",
          "name": "stdout",
          "text": [
            "Epoch 1/50\n",
            " 24/459 [>.............................] - ETA: 2:33:56 - loss: 2.3915 - accuracy: 0.1135"
          ]
        }
      ],
      "source": [
        "EPOCHS = 50\n",
        "\n",
        "# STEP_SIZE_TRAIN = TRAINING_NUM // TRAIN_BATCH_SIZE \n",
        "# STEP_SIZE_VALID = VALID_NUM // VALID_BATCH_SIZE\n",
        "\n",
        "# Fit model to get reasonable weights for newly added layers.\n",
        "history = model.fit(x = training_set, validation_data=validation_generator,epochs=EPOCHS)\n"
      ]
    },
    {
      "cell_type": "code",
      "execution_count": null,
      "metadata": {
        "id": "Ps7c3-7kAPFv"
      },
      "outputs": [],
      "source": [
        "best_val_acc = max(history.history['val_accuracy'])\n",
        "print(\"[INFO] Best Validation Accuracy: %\",best_val_acc*100)"
      ]
    },
    {
      "cell_type": "code",
      "execution_count": null,
      "metadata": {
        "id": "6NdG6UCdAPFy"
      },
      "outputs": [],
      "source": [
        "import matplotlib.pyplot as plt\n",
        "\n",
        "plt.figure( figsize = (15,8)) \n",
        "    \n",
        "plt.subplot(221)  \n",
        "# Accuracy \n",
        "plt.plot(model.history.history['accuracy'])\n",
        "plt.plot(model.history.history['val_accuracy'])\n",
        "plt.title('Model Accuracy')\n",
        "plt.ylabel('Accuracy')\n",
        "plt.xlabel('Epoch')\n",
        "plt.legend(['Training set', 'Validation set'], loc='upper left')\n",
        "plt.show()\n",
        "\n",
        "\n",
        "# Loss\n",
        "plt.figure( figsize = (15,8)) \n",
        "plt.subplot(222)  \n",
        "plt.plot(model.history.history['loss'])\n",
        "plt.plot(model.history.history['val_loss'])\n",
        "plt.title('Model Loss')\n",
        "plt.ylabel('Loss')\n",
        "plt.xlabel('Epoch')\n",
        "plt.legend(['Training set', 'Validation set'], loc='upper left')\n",
        "plt.show()"
      ]
    },
    {
      "cell_type": "code",
      "source": [
        "# Scores is just a list containing loss and accuracy value\n",
        "scores=model.evaluate(training_set)\n",
        "scores2=model.evaluate(test_set)\n",
        "print(\"Training Loss is : \"+str(scores[0]))\n",
        "print(\"Training Accuracy is : \"+str(scores[1]*100)+\" %\")\n",
        "print(\"Testing Loss is : \"+str(scores2[0]))\n",
        "print(\"Testing Accuracy is : \"+str(scores2[1]*100)+\" %\")"
      ],
      "metadata": {
        "id": "j_YN0tkUM8yZ"
      },
      "execution_count": null,
      "outputs": []
    },
    {
      "cell_type": "code",
      "source": [],
      "metadata": {
        "id": "kJRlY8FZGGZ-"
      },
      "execution_count": null,
      "outputs": []
    }
  ],
  "metadata": {
    "kernelspec": {
      "display_name": "Python 3.9.7 64-bit",
      "language": "python",
      "name": "python3"
    },
    "language_info": {
      "codemirror_mode": {
        "name": "ipython",
        "version": 3
      },
      "file_extension": ".py",
      "mimetype": "text/x-python",
      "name": "python",
      "nbconvert_exporter": "python",
      "pygments_lexer": "ipython3",
      "version": "3.9.7"
    },
    "vscode": {
      "interpreter": {
        "hash": "8c93b56f12893a73f3fb26b619faf35eb67f0f4410719b74190040acf104b72e"
      }
    },
    "colab": {
      "provenance": []
    },
    "accelerator": "GPU",
    "gpuClass": "standard"
  },
  "nbformat": 4,
  "nbformat_minor": 0
}