{
  "cells": [
    {
      "cell_type": "code",
      "execution_count": 1,
      "metadata": {
        "id": "Agt1zntm7NSI"
      },
      "outputs": [],
      "source": [
        "# Tomato Leaf Disease Detection\n",
        "\n",
        "# In this program I will build 3 differnt CNN models to find maximum accuracy.\n",
        "# I will then build two transfer learning model approaches namely Incpetion-V3 and VGG-16\n",
        "\n",
        "# Then, I will do the testing with the model from which we obtain highest accuracy.\n",
        "\n",
        "# Code I: I have used one FC layer with batch size = default\n",
        "# CodeII: I have used two FC layer with batch size = default\n",
        "# Code III: I have used one FC layer with batch size = 64"
      ]
    },
    {
      "cell_type": "code",
      "execution_count": 2,
      "metadata": {
        "id": "QF4UJuKM7NSN"
      },
      "outputs": [],
      "source": [
        "# Importing Libraries\n",
        "\n",
        "import numpy as np\n",
        "import pandas as pd\n",
        "import matplotlib.pyplot as plt\n",
        "import seaborn as sns\n",
        "%matplotlib inline\n",
        "import tensorflow as tf\n",
        "from keras.preprocessing.image import ImageDataGenerator"
      ]
    },
    {
      "cell_type": "code",
      "execution_count": 3,
      "metadata": {
        "colab": {
          "base_uri": "https://localhost:8080/"
        },
        "id": "bExrfoFz7NSO",
        "outputId": "ddbf3d2a-e26b-40c1-9fd8-67f3a5350b0f"
      },
      "outputs": [
        {
          "name": "stdout",
          "output_type": "stream",
          "text": [
            "Mounted at /content/drive\n"
          ]
        }
      ],
      "source": [
        "# Importing the images \n",
        "from google.colab import drive\n",
        "drive.mount('/content/drive')"
      ]
    },
    {
      "cell_type": "code",
      "execution_count": 4,
      "metadata": {
        "id": "qWAzeqUynv2u"
      },
      "outputs": [],
      "source": [
        "# from zipfile import ZipFile\n",
        "# with ZipFile('/content/drive/MyDrive/BTP/Dataset/tomato.zip','r') as zipObj:\n",
        "#   zipObj.extractall('/content/drive/MyDrive/BTP/Dataset/dataset')"
      ]
    },
    {
      "cell_type": "code",
      "execution_count": 5,
      "metadata": {
        "id": "ytOfCPALylp3"
      },
      "outputs": [],
      "source": [
        "TRAINING_DIR = '/content/drive/MyDrive/BTP/Dataset/dataset/New Plant Diseases Dataset(Augmented)/train/' \n",
        "TESTING_DIR = '/content/drive/MyDrive/BTP/Dataset/dataset/New Plant Diseases Dataset(Augmented)/valid/'"
      ]
    },
    {
      "cell_type": "code",
      "execution_count": 6,
      "metadata": {
        "colab": {
          "base_uri": "https://localhost:8080/"
        },
        "id": "5CPTGgrv7NSP",
        "outputId": "e6672f0c-0667-4547-b6dd-51c830c28677"
      },
      "outputs": [
        {
          "name": "stdout",
          "output_type": "stream",
          "text": [
            "Found 14678 images belonging to 10 classes.\n"
          ]
        }
      ],
      "source": [
        "#It provides a host of different augmentation techniques like standardization, rotation, \n",
        "#shifts, flips, brightness change, and many more\n",
        "train_datagen = ImageDataGenerator(\n",
        "        validation_split=0.2,\n",
        "        rescale=1./255,\n",
        "        shear_range=0.2,\n",
        "        zoom_range=0.2,\n",
        "        horizontal_flip=True)\n",
        "\n",
        "test_datagen = ImageDataGenerator(rescale=1./255)\n",
        "\n",
        "train_generator = train_datagen.flow_from_directory(\n",
        "        TRAINING_DIR,\n",
        "        target_size=(150, 150),\n",
        "        batch_size=32,\n",
        "        class_mode='categorical',\n",
        "        shuffle=True,\n",
        "        subset=\"training\")"
      ]
    },
    {
      "cell_type": "code",
      "execution_count": 7,
      "metadata": {
        "colab": {
          "base_uri": "https://localhost:8080/"
        },
        "id": "Y261dxjZP8pK",
        "outputId": "c1110797-3bf3-4d66-ee39-3a11f7d021b6"
      },
      "outputs": [
        {
          "name": "stdout",
          "output_type": "stream",
          "text": [
            "Found 3667 images belonging to 10 classes.\n"
          ]
        }
      ],
      "source": [
        "validation_generator = train_datagen.flow_from_directory(\n",
        "        TRAINING_DIR,\n",
        "        target_size=(150, 150),\n",
        "        batch_size=32,\n",
        "        class_mode='categorical',\n",
        "        shuffle=True,\n",
        "        subset=\"validation\")"
      ]
    },
    {
      "cell_type": "code",
      "execution_count": 8,
      "metadata": {
        "colab": {
          "base_uri": "https://localhost:8080/"
        },
        "id": "d64DAiEd7NSP",
        "outputId": "7a1e518c-cbea-44cf-986f-ccdbe4c2fc24"
      },
      "outputs": [
        {
          "name": "stdout",
          "output_type": "stream",
          "text": [
            "Found 4585 images belonging to 10 classes.\n"
          ]
        }
      ],
      "source": [
        "test_generator = test_datagen.flow_from_directory(\n",
        "        TESTING_DIR,\n",
        "        target_size=(150, 150),\n",
        "        batch_size=32,\n",
        "        class_mode='categorical',\n",
        "        shuffle=True)"
      ]
    },
    {
      "cell_type": "code",
      "execution_count": 9,
      "metadata": {
        "id": "kxA1xsGYJGqT"
      },
      "outputs": [],
      "source": [
        "# train_X=train_generator\n",
        "# train_Y=train_generator.classes\n",
        "# test_X=test_generator\n",
        "# test_Y = test_generator.classes\n",
        "# print(\"Train_X or X_train\",train_X)\n",
        "# print(\"Train_Y or Y_train\",train_Y)\n",
        "# print(\"Test_X or X_test\",test_X)\n",
        "# print(\"Test_Y or Y_test\",test_Y)\n"
      ]
    },
    {
      "cell_type": "markdown",
      "metadata": {
        "id": "x-GH3AEi2gbn"
      },
      "source": [
        "# Creating the first CNN model\n",
        "\n",
        "## 1. Using K-Fold Cross Valdation\n",
        "\n"
      ]
    },
    {
      "cell_type": "code",
      "execution_count": 10,
      "metadata": {
        "id": "TKjOlLuKJDvy"
      },
      "outputs": [],
      "source": [
        "# from sklearn.model_selection import train_test_split\n",
        "# # fix random seed for reproducibility\n",
        "# seed = 7\n",
        "# # split into 67% for train and 33% for test\n",
        "# X_train, X_test, y_train, y_test = train_test_split(train_generator, test_generator, test_size=0.33)\n"
      ]
    },
    {
      "cell_type": "code",
      "execution_count": 11,
      "metadata": {
        "id": "h6TfSRECxqib"
      },
      "outputs": [],
      "source": [
        "# X_train=train_X\n",
        "# Y_train=train_Y\n",
        "\n",
        "X_train, Y_train = next(train_generator)\n",
        "X_test, Y_test = next(validation_generator)"
      ]
    },
    {
      "cell_type": "code",
      "execution_count": 12,
      "metadata": {
        "id": "M4eWcDSlJjh8"
      },
      "outputs": [],
      "source": [
        "# print(\"X_Train\",X_train)\n",
        "# print(\"Y_Train\",Y_train)"
      ]
    },
    {
      "cell_type": "code",
      "execution_count": 13,
      "metadata": {
        "colab": {
          "base_uri": "https://localhost:8080/"
        },
        "id": "0aC7QBfAw97q",
        "outputId": "52e3ad54-ab04-4130-9f79-97d00c803d2c"
      },
      "outputs": [
        {
          "name": "stdout",
          "output_type": "stream",
          "text": [
            "Epoch 1/30\n",
            "1/1 [==============================] - 9s 9s/step - loss: 0.6834 - accuracy: 0.0400\n",
            "Epoch 2/30\n",
            "1/1 [==============================] - 0s 28ms/step - loss: 0.5350 - accuracy: 0.1600\n",
            "Epoch 3/30\n",
            "1/1 [==============================] - 0s 23ms/step - loss: 0.4384 - accuracy: 0.1200\n",
            "Epoch 4/30\n",
            "1/1 [==============================] - 0s 22ms/step - loss: 0.3883 - accuracy: 0.2000\n",
            "Epoch 5/30\n",
            "1/1 [==============================] - 0s 21ms/step - loss: 0.3127 - accuracy: 0.2400\n",
            "Epoch 6/30\n",
            "1/1 [==============================] - 0s 21ms/step - loss: 0.2909 - accuracy: 0.1200\n",
            "Epoch 7/30\n",
            "1/1 [==============================] - 0s 22ms/step - loss: 0.2897 - accuracy: 0.1600\n",
            "Epoch 8/30\n",
            "1/1 [==============================] - 0s 22ms/step - loss: 0.2837 - accuracy: 0.2800\n",
            "Epoch 9/30\n",
            "1/1 [==============================] - 0s 19ms/step - loss: 0.2694 - accuracy: 0.3600\n",
            "Epoch 10/30\n",
            "1/1 [==============================] - 0s 20ms/step - loss: 0.2493 - accuracy: 0.4800\n",
            "Epoch 11/30\n",
            "1/1 [==============================] - 0s 20ms/step - loss: 0.2299 - accuracy: 0.7200\n",
            "Epoch 12/30\n",
            "1/1 [==============================] - 0s 18ms/step - loss: 0.2089 - accuracy: 0.9200\n",
            "Epoch 13/30\n",
            "1/1 [==============================] - 0s 20ms/step - loss: 0.1885 - accuracy: 1.0000\n",
            "Epoch 14/30\n",
            "1/1 [==============================] - 0s 24ms/step - loss: 0.1697 - accuracy: 0.9600\n",
            "Epoch 15/30\n",
            "1/1 [==============================] - 0s 24ms/step - loss: 0.1495 - accuracy: 1.0000\n",
            "Epoch 16/30\n",
            "1/1 [==============================] - 0s 22ms/step - loss: 0.1273 - accuracy: 1.0000\n",
            "Epoch 17/30\n",
            "1/1 [==============================] - 0s 22ms/step - loss: 0.1068 - accuracy: 1.0000\n",
            "Epoch 18/30\n",
            "1/1 [==============================] - 0s 19ms/step - loss: 0.0877 - accuracy: 1.0000\n",
            "Epoch 19/30\n",
            "1/1 [==============================] - 0s 23ms/step - loss: 0.0692 - accuracy: 1.0000\n",
            "Epoch 20/30\n",
            "1/1 [==============================] - 0s 23ms/step - loss: 0.0545 - accuracy: 1.0000\n",
            "Epoch 21/30\n",
            "1/1 [==============================] - 0s 20ms/step - loss: 0.0407 - accuracy: 1.0000\n",
            "Epoch 22/30\n",
            "1/1 [==============================] - 0s 22ms/step - loss: 0.0292 - accuracy: 1.0000\n",
            "Epoch 23/30\n",
            "1/1 [==============================] - 0s 20ms/step - loss: 0.0212 - accuracy: 1.0000\n",
            "Epoch 24/30\n",
            "1/1 [==============================] - 0s 24ms/step - loss: 0.0144 - accuracy: 1.0000\n",
            "Epoch 25/30\n",
            "1/1 [==============================] - 0s 20ms/step - loss: 0.0098 - accuracy: 1.0000\n",
            "Epoch 26/30\n",
            "1/1 [==============================] - 0s 23ms/step - loss: 0.0066 - accuracy: 1.0000\n",
            "Epoch 27/30\n",
            "1/1 [==============================] - 0s 21ms/step - loss: 0.0047 - accuracy: 1.0000\n",
            "Epoch 28/30\n",
            "1/1 [==============================] - 0s 22ms/step - loss: 0.0032 - accuracy: 1.0000\n",
            "Epoch 29/30\n",
            "1/1 [==============================] - 0s 22ms/step - loss: 0.0022 - accuracy: 1.0000\n",
            "Epoch 30/30\n",
            "1/1 [==============================] - 0s 20ms/step - loss: 0.0016 - accuracy: 1.0000\n",
            "1/1 [==============================] - 0s 223ms/step - loss: 0.5453 - accuracy: 0.2857\n",
            "accuracy: 28.57%\n",
            "Epoch 1/30\n",
            "1/1 [==============================] - 1s 501ms/step - loss: 0.6927 - accuracy: 0.1200\n",
            "Epoch 2/30\n",
            "1/1 [==============================] - 0s 27ms/step - loss: 0.5105 - accuracy: 0.1200\n",
            "Epoch 3/30\n",
            "1/1 [==============================] - 0s 24ms/step - loss: 0.4921 - accuracy: 0.1600\n",
            "Epoch 4/30\n",
            "1/1 [==============================] - 0s 26ms/step - loss: 0.4047 - accuracy: 0.2400\n",
            "Epoch 5/30\n",
            "1/1 [==============================] - 0s 23ms/step - loss: 0.3525 - accuracy: 0.1600\n",
            "Epoch 6/30\n",
            "1/1 [==============================] - 0s 25ms/step - loss: 0.3333 - accuracy: 0.1600\n",
            "Epoch 7/30\n",
            "1/1 [==============================] - 0s 26ms/step - loss: 0.3092 - accuracy: 0.3600\n",
            "Epoch 8/30\n",
            "1/1 [==============================] - 0s 22ms/step - loss: 0.2960 - accuracy: 0.6400\n",
            "Epoch 9/30\n",
            "1/1 [==============================] - 0s 23ms/step - loss: 0.2769 - accuracy: 0.6000\n",
            "Epoch 10/30\n",
            "1/1 [==============================] - 0s 20ms/step - loss: 0.2551 - accuracy: 0.6800\n",
            "Epoch 11/30\n",
            "1/1 [==============================] - 0s 22ms/step - loss: 0.2413 - accuracy: 0.7600\n",
            "Epoch 12/30\n",
            "1/1 [==============================] - 0s 22ms/step - loss: 0.2265 - accuracy: 0.7200\n",
            "Epoch 13/30\n",
            "1/1 [==============================] - 0s 25ms/step - loss: 0.2076 - accuracy: 0.8000\n",
            "Epoch 14/30\n",
            "1/1 [==============================] - 0s 23ms/step - loss: 0.1848 - accuracy: 0.8400\n",
            "Epoch 15/30\n",
            "1/1 [==============================] - 0s 22ms/step - loss: 0.1636 - accuracy: 0.8400\n",
            "Epoch 16/30\n",
            "1/1 [==============================] - 0s 22ms/step - loss: 0.1451 - accuracy: 0.9600\n",
            "Epoch 17/30\n",
            "1/1 [==============================] - 0s 20ms/step - loss: 0.1254 - accuracy: 1.0000\n",
            "Epoch 18/30\n",
            "1/1 [==============================] - 0s 20ms/step - loss: 0.1064 - accuracy: 1.0000\n",
            "Epoch 19/30\n",
            "1/1 [==============================] - 0s 23ms/step - loss: 0.0885 - accuracy: 1.0000\n",
            "Epoch 20/30\n",
            "1/1 [==============================] - 0s 20ms/step - loss: 0.0703 - accuracy: 1.0000\n",
            "Epoch 21/30\n",
            "1/1 [==============================] - 0s 20ms/step - loss: 0.0550 - accuracy: 1.0000\n",
            "Epoch 22/30\n",
            "1/1 [==============================] - 0s 19ms/step - loss: 0.0434 - accuracy: 1.0000\n",
            "Epoch 23/30\n",
            "1/1 [==============================] - 0s 21ms/step - loss: 0.0330 - accuracy: 1.0000\n",
            "Epoch 24/30\n",
            "1/1 [==============================] - 0s 19ms/step - loss: 0.0232 - accuracy: 1.0000\n",
            "Epoch 25/30\n",
            "1/1 [==============================] - 0s 20ms/step - loss: 0.0179 - accuracy: 1.0000\n",
            "Epoch 26/30\n",
            "1/1 [==============================] - 0s 21ms/step - loss: 0.0133 - accuracy: 1.0000\n",
            "Epoch 27/30\n",
            "1/1 [==============================] - 0s 21ms/step - loss: 0.0093 - accuracy: 1.0000\n",
            "Epoch 28/30\n",
            "1/1 [==============================] - 0s 20ms/step - loss: 0.0069 - accuracy: 1.0000\n",
            "Epoch 29/30\n",
            "1/1 [==============================] - 0s 19ms/step - loss: 0.0047 - accuracy: 1.0000\n",
            "Epoch 30/30\n",
            "1/1 [==============================] - 0s 23ms/step - loss: 0.0033 - accuracy: 1.0000\n",
            "1/1 [==============================] - 0s 313ms/step - loss: 0.7793 - accuracy: 0.2857\n",
            "accuracy: 28.57%\n",
            "Epoch 1/30\n",
            "1/1 [==============================] - 1s 680ms/step - loss: 0.6475 - accuracy: 0.1923\n",
            "Epoch 2/30\n",
            "1/1 [==============================] - 0s 23ms/step - loss: 0.4624 - accuracy: 0.1538\n",
            "Epoch 3/30\n",
            "1/1 [==============================] - 0s 24ms/step - loss: 0.5357 - accuracy: 0.1923\n",
            "Epoch 4/30\n",
            "1/1 [==============================] - 0s 19ms/step - loss: 0.4483 - accuracy: 0.1923\n",
            "Epoch 5/30\n",
            "1/1 [==============================] - 0s 20ms/step - loss: 0.4015 - accuracy: 0.1923\n",
            "Epoch 6/30\n",
            "1/1 [==============================] - 0s 22ms/step - loss: 0.3342 - accuracy: 0.1923\n",
            "Epoch 7/30\n",
            "1/1 [==============================] - 0s 20ms/step - loss: 0.2841 - accuracy: 0.3077\n",
            "Epoch 8/30\n",
            "1/1 [==============================] - 0s 20ms/step - loss: 0.2744 - accuracy: 0.7308\n",
            "Epoch 9/30\n",
            "1/1 [==============================] - 0s 22ms/step - loss: 0.2663 - accuracy: 0.4615\n",
            "Epoch 10/30\n",
            "1/1 [==============================] - 0s 20ms/step - loss: 0.2314 - accuracy: 0.5769\n",
            "Epoch 11/30\n",
            "1/1 [==============================] - 0s 21ms/step - loss: 0.2116 - accuracy: 0.7692\n",
            "Epoch 12/30\n",
            "1/1 [==============================] - 0s 20ms/step - loss: 0.1939 - accuracy: 0.8077\n",
            "Epoch 13/30\n",
            "1/1 [==============================] - 0s 25ms/step - loss: 0.1701 - accuracy: 0.8462\n",
            "Epoch 14/30\n",
            "1/1 [==============================] - 0s 26ms/step - loss: 0.1477 - accuracy: 0.8462\n",
            "Epoch 15/30\n",
            "1/1 [==============================] - 0s 22ms/step - loss: 0.1320 - accuracy: 0.8462\n",
            "Epoch 16/30\n",
            "1/1 [==============================] - 0s 22ms/step - loss: 0.1118 - accuracy: 0.9231\n",
            "Epoch 17/30\n",
            "1/1 [==============================] - 0s 28ms/step - loss: 0.0900 - accuracy: 0.9615\n",
            "Epoch 18/30\n",
            "1/1 [==============================] - 0s 21ms/step - loss: 0.0764 - accuracy: 0.9615\n",
            "Epoch 19/30\n",
            "1/1 [==============================] - 0s 19ms/step - loss: 0.0599 - accuracy: 1.0000\n",
            "Epoch 20/30\n",
            "1/1 [==============================] - 0s 21ms/step - loss: 0.0451 - accuracy: 1.0000\n",
            "Epoch 21/30\n",
            "1/1 [==============================] - 0s 22ms/step - loss: 0.0355 - accuracy: 1.0000\n",
            "Epoch 22/30\n",
            "1/1 [==============================] - 0s 22ms/step - loss: 0.0264 - accuracy: 1.0000\n",
            "Epoch 23/30\n",
            "1/1 [==============================] - 0s 21ms/step - loss: 0.0208 - accuracy: 1.0000\n",
            "Epoch 24/30\n",
            "1/1 [==============================] - 0s 21ms/step - loss: 0.0146 - accuracy: 1.0000\n",
            "Epoch 25/30\n",
            "1/1 [==============================] - 0s 23ms/step - loss: 0.0107 - accuracy: 1.0000\n",
            "Epoch 26/30\n",
            "1/1 [==============================] - 0s 22ms/step - loss: 0.0077 - accuracy: 1.0000\n",
            "Epoch 27/30\n",
            "1/1 [==============================] - 0s 21ms/step - loss: 0.0053 - accuracy: 1.0000\n",
            "Epoch 28/30\n",
            "1/1 [==============================] - 0s 27ms/step - loss: 0.0043 - accuracy: 1.0000\n",
            "Epoch 29/30\n",
            "1/1 [==============================] - 0s 20ms/step - loss: 0.0033 - accuracy: 1.0000\n",
            "Epoch 30/30\n",
            "1/1 [==============================] - 0s 19ms/step - loss: 0.0022 - accuracy: 1.0000\n",
            "1/1 [==============================] - 0s 170ms/step - loss: 0.5397 - accuracy: 0.0000e+00\n",
            "accuracy: 0.00%\n",
            "Epoch 1/30\n",
            "1/1 [==============================] - 1s 517ms/step - loss: 0.6836 - accuracy: 0.1154\n",
            "Epoch 2/30\n",
            "1/1 [==============================] - 0s 28ms/step - loss: 0.4756 - accuracy: 0.0000e+00\n",
            "Epoch 3/30\n",
            "1/1 [==============================] - 0s 21ms/step - loss: 0.4205 - accuracy: 0.1538\n",
            "Epoch 4/30\n",
            "1/1 [==============================] - 0s 20ms/step - loss: 0.3598 - accuracy: 0.1538\n",
            "Epoch 5/30\n",
            "1/1 [==============================] - 0s 22ms/step - loss: 0.3072 - accuracy: 0.1923\n",
            "Epoch 6/30\n",
            "1/1 [==============================] - 0s 22ms/step - loss: 0.2947 - accuracy: 0.4231\n",
            "Epoch 7/30\n",
            "1/1 [==============================] - 0s 22ms/step - loss: 0.2922 - accuracy: 0.1923\n",
            "Epoch 8/30\n",
            "1/1 [==============================] - 0s 20ms/step - loss: 0.2764 - accuracy: 0.4615\n",
            "Epoch 9/30\n",
            "1/1 [==============================] - 0s 21ms/step - loss: 0.2570 - accuracy: 0.6923\n",
            "Epoch 10/30\n",
            "1/1 [==============================] - 0s 33ms/step - loss: 0.2442 - accuracy: 0.8077\n",
            "Epoch 11/30\n",
            "1/1 [==============================] - 0s 21ms/step - loss: 0.2276 - accuracy: 0.6923\n",
            "Epoch 12/30\n",
            "1/1 [==============================] - 0s 22ms/step - loss: 0.2095 - accuracy: 0.8462\n",
            "Epoch 13/30\n",
            "1/1 [==============================] - 0s 21ms/step - loss: 0.1928 - accuracy: 0.9615\n",
            "Epoch 14/30\n",
            "1/1 [==============================] - 0s 22ms/step - loss: 0.1752 - accuracy: 1.0000\n",
            "Epoch 15/30\n",
            "1/1 [==============================] - 0s 22ms/step - loss: 0.1561 - accuracy: 1.0000\n",
            "Epoch 16/30\n",
            "1/1 [==============================] - 0s 19ms/step - loss: 0.1355 - accuracy: 1.0000\n",
            "Epoch 17/30\n",
            "1/1 [==============================] - 0s 19ms/step - loss: 0.1153 - accuracy: 1.0000\n",
            "Epoch 18/30\n",
            "1/1 [==============================] - 0s 19ms/step - loss: 0.0976 - accuracy: 1.0000\n",
            "Epoch 19/30\n",
            "1/1 [==============================] - 0s 21ms/step - loss: 0.0804 - accuracy: 1.0000\n",
            "Epoch 20/30\n",
            "1/1 [==============================] - 0s 19ms/step - loss: 0.0640 - accuracy: 1.0000\n",
            "Epoch 21/30\n",
            "1/1 [==============================] - 0s 20ms/step - loss: 0.0491 - accuracy: 1.0000\n",
            "Epoch 22/30\n",
            "1/1 [==============================] - 0s 20ms/step - loss: 0.0369 - accuracy: 1.0000\n",
            "Epoch 23/30\n",
            "1/1 [==============================] - 0s 20ms/step - loss: 0.0273 - accuracy: 1.0000\n",
            "Epoch 24/30\n",
            "1/1 [==============================] - 0s 20ms/step - loss: 0.0194 - accuracy: 1.0000\n",
            "Epoch 25/30\n",
            "1/1 [==============================] - 0s 21ms/step - loss: 0.0138 - accuracy: 1.0000\n",
            "Epoch 26/30\n",
            "1/1 [==============================] - 0s 18ms/step - loss: 0.0096 - accuracy: 1.0000\n",
            "Epoch 27/30\n",
            "1/1 [==============================] - 0s 19ms/step - loss: 0.0065 - accuracy: 1.0000\n",
            "Epoch 28/30\n",
            "1/1 [==============================] - 0s 19ms/step - loss: 0.0046 - accuracy: 1.0000\n",
            "Epoch 29/30\n",
            "1/1 [==============================] - 0s 18ms/step - loss: 0.0033 - accuracy: 1.0000\n",
            "Epoch 30/30\n",
            "1/1 [==============================] - 0s 18ms/step - loss: 0.0023 - accuracy: 1.0000\n",
            "1/1 [==============================] - 0s 123ms/step - loss: 0.6121 - accuracy: 0.1667\n",
            "accuracy: 16.67%\n",
            "Epoch 1/30\n",
            "1/1 [==============================] - 0s 481ms/step - loss: 0.6884 - accuracy: 0.0769\n",
            "Epoch 2/30\n",
            "1/1 [==============================] - 0s 21ms/step - loss: 0.4294 - accuracy: 0.1923\n",
            "Epoch 3/30\n",
            "1/1 [==============================] - 0s 21ms/step - loss: 0.3018 - accuracy: 0.2692\n",
            "Epoch 4/30\n",
            "1/1 [==============================] - 0s 19ms/step - loss: 0.2830 - accuracy: 0.2692\n",
            "Epoch 5/30\n",
            "1/1 [==============================] - 0s 20ms/step - loss: 0.2649 - accuracy: 0.6154\n",
            "Epoch 6/30\n",
            "1/1 [==============================] - 0s 19ms/step - loss: 0.2339 - accuracy: 0.6154\n",
            "Epoch 7/30\n",
            "1/1 [==============================] - 0s 21ms/step - loss: 0.2079 - accuracy: 0.6923\n",
            "Epoch 8/30\n",
            "1/1 [==============================] - 0s 19ms/step - loss: 0.1807 - accuracy: 0.8462\n",
            "Epoch 9/30\n",
            "1/1 [==============================] - 0s 22ms/step - loss: 0.1547 - accuracy: 0.8462\n",
            "Epoch 10/30\n",
            "1/1 [==============================] - 0s 22ms/step - loss: 0.1284 - accuracy: 0.8462\n",
            "Epoch 11/30\n",
            "1/1 [==============================] - 0s 21ms/step - loss: 0.1056 - accuracy: 0.9231\n",
            "Epoch 12/30\n",
            "1/1 [==============================] - 0s 21ms/step - loss: 0.0848 - accuracy: 0.9615\n",
            "Epoch 13/30\n",
            "1/1 [==============================] - 0s 19ms/step - loss: 0.0654 - accuracy: 0.9615\n",
            "Epoch 14/30\n",
            "1/1 [==============================] - 0s 22ms/step - loss: 0.0506 - accuracy: 1.0000\n",
            "Epoch 15/30\n",
            "1/1 [==============================] - 0s 21ms/step - loss: 0.0377 - accuracy: 1.0000\n",
            "Epoch 16/30\n",
            "1/1 [==============================] - 0s 20ms/step - loss: 0.0283 - accuracy: 1.0000\n",
            "Epoch 17/30\n",
            "1/1 [==============================] - 0s 26ms/step - loss: 0.0199 - accuracy: 1.0000\n",
            "Epoch 18/30\n",
            "1/1 [==============================] - 0s 23ms/step - loss: 0.0147 - accuracy: 1.0000\n",
            "Epoch 19/30\n",
            "1/1 [==============================] - 0s 22ms/step - loss: 0.0101 - accuracy: 1.0000\n",
            "Epoch 20/30\n",
            "1/1 [==============================] - 0s 22ms/step - loss: 0.0070 - accuracy: 1.0000\n",
            "Epoch 21/30\n",
            "1/1 [==============================] - 0s 19ms/step - loss: 0.0049 - accuracy: 1.0000\n",
            "Epoch 22/30\n",
            "1/1 [==============================] - 0s 20ms/step - loss: 0.0033 - accuracy: 1.0000\n",
            "Epoch 23/30\n",
            "1/1 [==============================] - 0s 21ms/step - loss: 0.0023 - accuracy: 1.0000\n",
            "Epoch 24/30\n",
            "1/1 [==============================] - 0s 21ms/step - loss: 0.0017 - accuracy: 1.0000\n",
            "Epoch 25/30\n",
            "1/1 [==============================] - 0s 20ms/step - loss: 0.0011 - accuracy: 1.0000\n",
            "Epoch 26/30\n",
            "1/1 [==============================] - 0s 23ms/step - loss: 7.9677e-04 - accuracy: 1.0000\n",
            "Epoch 27/30\n",
            "1/1 [==============================] - 0s 22ms/step - loss: 5.8154e-04 - accuracy: 1.0000\n",
            "Epoch 28/30\n",
            "1/1 [==============================] - 0s 27ms/step - loss: 4.4520e-04 - accuracy: 1.0000\n",
            "Epoch 29/30\n",
            "1/1 [==============================] - 0s 19ms/step - loss: 3.5289e-04 - accuracy: 1.0000\n",
            "Epoch 30/30\n",
            "1/1 [==============================] - 0s 22ms/step - loss: 2.6704e-04 - accuracy: 1.0000\n"
          ]
        },
        {
          "name": "stderr",
          "output_type": "stream",
          "text": [
            "WARNING:tensorflow:5 out of the last 5 calls to <function Model.make_test_function.<locals>.test_function at 0x7f235e681ee0> triggered tf.function retracing. Tracing is expensive and the excessive number of tracings could be due to (1) creating @tf.function repeatedly in a loop, (2) passing tensors with different shapes, (3) passing Python objects instead of tensors. For (1), please define your @tf.function outside of the loop. For (2), @tf.function has reduce_retracing=True option that can avoid unnecessary retracing. For (3), please refer to https://www.tensorflow.org/guide/function#controlling_retracing and https://www.tensorflow.org/api_docs/python/tf/function for  more details.\n"
          ]
        },
        {
          "name": "stdout",
          "output_type": "stream",
          "text": [
            "1/1 [==============================] - 0s 129ms/step - loss: 0.8132 - accuracy: 0.3333\n",
            "accuracy: 33.33%\n"
          ]
        }
      ],
      "source": [
        "from sklearn.model_selection import KFold, StratifiedKFold\n",
        "from sklearn.model_selection import cross_val_score\n",
        "\n",
        "from tensorflow.keras.models import Sequential\n",
        "from tensorflow.keras.layers import (\n",
        "    Dense,\n",
        "    Dropout,\n",
        "    MaxPooling2D,\n",
        "    Conv2D,\n",
        "    Flatten,\n",
        "    BatchNormalization,\n",
        ")\n",
        "\n",
        "\n",
        "cvscores = []\n",
        "kfold = KFold(n_splits=5, shuffle=True, random_state=5)\n",
        "\n",
        "for train, val in kfold.split(X_train, Y_train):\n",
        "    model = tf.keras.models.Sequential()\n",
        "\n",
        "    #Convolution layer 1\n",
        "    model.add(tf.keras.layers.Conv2D(filters=32,kernel_size = 3, activation='relu',input_shape=[150, 150,3]))\n",
        "    # cnn.add(BatchNormalization())\n",
        "\n",
        "    # Pooling 1\n",
        "    model.add(tf.keras.layers.MaxPool2D(pool_size=2, strides=2))\n",
        "    # cnn.add(BatchNormalization())\n",
        "\n",
        "    #Convolution layer 2\n",
        "    model.add(tf.keras.layers.Conv2D(filters=32,kernel_size = 3, activation='relu',input_shape=[150, 150,3]))\n",
        "    # cnn.add(Dropout(0.25))\n",
        "\n",
        "    # cnn.add(BatchNormalization())\n",
        "\n",
        "    # Pooling 2\n",
        "    model.add(tf.keras.layers.MaxPool2D(pool_size=2, strides=2))\n",
        "    # cnn.add(BatchNormalization())\n",
        "\n",
        "    # Flattening\n",
        "    model.add(tf.keras.layers.Flatten())\n",
        "    # cnn.add(BatchNormalization())\n",
        "\n",
        "    #Full Connection\n",
        "    model.add(tf.keras.layers.Dense(units=128,activation='relu'))\n",
        "    # cnn.add(BatchNormalization())\n",
        "\n",
        "    #Output Layer\n",
        "    model.add(tf.keras.layers.Dense(units=10,activation='softmax'))\n",
        "\n",
        "    #Compiling\n",
        "    model.compile(optimizer='adam',loss='binary_crossentropy',metrics=['accuracy'])\n",
        "\n",
        "    # # Summary of the model\n",
        "    # model.summary()\n",
        "\n",
        "    # temp = model.fit(X_train[train], Y_train[train],epochs=50)\n",
        "\n",
        "    temp = model.fit(\n",
        "        X_train[train], Y_train[train], batch_size=32, epochs=30, verbose=1\n",
        "    )\n",
        "\n",
        "    scores = model.evaluate(X_train[val], Y_train[val])\n",
        "    print(\"%s: %.2f%%\" % (model.metrics_names[1], scores[1] * 100))\n",
        "    cvscores.append(scores[1] * 100)\n",
        "\n"
      ]
    },
    {
      "cell_type": "code",
      "execution_count": 14,
      "metadata": {
        "colab": {
          "base_uri": "https://localhost:8080/"
        },
        "id": "1URDV2Z31ouA",
        "outputId": "73d310ff-5651-45aa-d2b3-c26dcaff00b2"
      },
      "outputs": [
        {
          "name": "stdout",
          "output_type": "stream",
          "text": [
            "[28.57142984867096, 28.57142984867096, 0.0, 16.66666716337204, 33.33333432674408]\n"
          ]
        }
      ],
      "source": [
        "print(cvscores)"
      ]
    },
    {
      "cell_type": "code",
      "execution_count": 15,
      "metadata": {
        "colab": {
          "base_uri": "https://localhost:8080/",
          "height": 300
        },
        "id": "hPEEI7AD1rRa",
        "outputId": "010541d7-ec22-47b1-c2b4-afb0a75e191d"
      },
      "outputs": [
        {
          "data": {
            "text/plain": [
              "Text(0, 0.5, 'val accuracy')"
            ]
          },
          "execution_count": 15,
          "metadata": {},
          "output_type": "execute_result"
        },
        {
          "data": {
            "image/png": "[encoded data removed]",
            "text/plain": [
              "<Figure size 432x288 with 1 Axes>"
            ]
          },
          "metadata": {
            "needs_background": "light"
          },
          "output_type": "display_data"
        }
      ],
      "source": [
        "plt.plot(cvscores)\n",
        "plt.xlabel(\"k-fold\")\n",
        "plt.ylabel(\"val accuracy\")"
      ]
    },
    {
      "cell_type": "code",
      "execution_count": 16,
      "metadata": {
        "colab": {
          "base_uri": "https://localhost:8080/"
        },
        "id": "n24sJM8o3UTA",
        "outputId": "8d5d761b-3127-426b-d8a5-9684a473eb7f"
      },
      "outputs": [
        {
          "name": "stderr",
          "output_type": "stream",
          "text": [
            "WARNING:tensorflow:6 out of the last 6 calls to <function Model.make_test_function.<locals>.test_function at 0x7f235e681ee0> triggered tf.function retracing. Tracing is expensive and the excessive number of tracings could be due to (1) creating @tf.function repeatedly in a loop, (2) passing tensors with different shapes, (3) passing Python objects instead of tensors. For (1), please define your @tf.function outside of the loop. For (2), @tf.function has reduce_retracing=True option that can avoid unnecessary retracing. For (3), please refer to https://www.tensorflow.org/guide/function#controlling_retracing and https://www.tensorflow.org/api_docs/python/tf/function for  more details.\n"
          ]
        },
        {
          "name": "stdout",
          "output_type": "stream",
          "text": [
            "459/459 [==============================] - 126s 274ms/step - loss: 1.2059 - accuracy: 0.2775\n",
            "144/144 [==============================] - 19s 131ms/step - loss: 1.3772 - accuracy: 0.2700\n",
            "Training Loss is : 1.2059253454208374\n",
            "Training Accuracy is : 27.749010920524597 %\n",
            "Testing Loss is : 1.3772268295288086\n",
            "Testing Accuracy is : 27.001091837882996 %\n"
          ]
        }
      ],
      "source": [
        "# Scores is just a list containing loss and accuracy value\n",
        "scores=model.evaluate(train_generator)\n",
        "scores2=model.evaluate(test_generator)\n",
        "print(\"Training Loss is : \"+str(scores[0]))\n",
        "print(\"Training Accuracy is : \"+str(scores[1]*100)+\" %\")\n",
        "print(\"Testing Loss is : \"+str(scores2[0]))\n",
        "print(\"Testing Accuracy is : \"+str(scores2[1]*100)+\" %\")"
      ]
    },
    {
      "cell_type": "code",
      "execution_count": 17,
      "metadata": {
        "colab": {
          "base_uri": "https://localhost:8080/"
        },
        "id": "rGiWL2qL2BVW",
        "outputId": "c1ce48c7-64b9-4c53-b731-fce678cb1104"
      },
      "outputs": [
        {
          "name": "stdout",
          "output_type": "stream",
          "text": [
            "Mean of the accuracies:  21.428572237491608\n",
            "Standard devaiation of the accuracies:  12.046772498733343\n"
          ]
        }
      ],
      "source": [
        "print(\"Mean of the accuracies: \", np.mean(cvscores))\n",
        "print(\"Standard devaiation of the accuracies: \", np.std(cvscores))\n"
      ]
    },
    {
      "cell_type": "code",
      "execution_count": 18,
      "metadata": {
        "colab": {
          "base_uri": "https://localhost:8080/",
          "height": 296
        },
        "id": "-g8O1QT72E0Z",
        "outputId": "f903ae6f-8abe-45f0-edab-09663bb12d5f"
      },
      "outputs": [
        {
          "data": {
            "text/plain": [
              "<matplotlib.legend.Legend at 0x7f23547ba3d0>"
            ]
          },
          "execution_count": 18,
          "metadata": {},
          "output_type": "execute_result"
        },
        {
          "data": {
            "image/png": "[encoded data removed]",
            "text/plain": [
              "<Figure size 432x288 with 1 Axes>"
            ]
          },
          "metadata": {
            "needs_background": "light"
          },
          "output_type": "display_data"
        }
      ],
      "source": [
        "plt.plot(temp.history[\"accuracy\"])\n",
        "plt.plot(temp.history[\"loss\"])\n",
        "plt.xlabel(\"epochs\")\n",
        "plt.ylabel(\"loss\")\n",
        "plt.legend([\"accuracy\", \"loss\"])\n",
        "\n"
      ]
    },
    {
      "cell_type": "markdown",
      "metadata": {
        "id": "ha77vdGb7NSQ"
      },
      "source": [
        "# Creating the first CNN model\n",
        "## 2. Using Hold-out method\n"
      ]
    },
    {
      "cell_type": "code",
      "execution_count": 19,
      "metadata": {
        "colab": {
          "base_uri": "https://localhost:8080/"
        },
        "id": "zX3Tw0XF7NSS",
        "outputId": "49263118-2ccb-44d5-9521-0665c981b7da"
      },
      "outputs": [
        {
          "name": "stdout",
          "output_type": "stream",
          "text": [
            "Model: \"sequential_5\"\n",
            "_________________________________________________________________\n",
            " Layer (type)                Output Shape              Param #   \n",
            "=================================================================\n",
            " conv2d_10 (Conv2D)          (None, 148, 148, 32)      896       \n",
            "                                                                 \n",
            " max_pooling2d_10 (MaxPoolin  (None, 74, 74, 32)       0         \n",
            " g2D)                                                            \n",
            "                                                                 \n",
            " conv2d_11 (Conv2D)          (None, 72, 72, 32)        9248      \n",
            "                                                                 \n",
            " max_pooling2d_11 (MaxPoolin  (None, 36, 36, 32)       0         \n",
            " g2D)                                                            \n",
            "                                                                 \n",
            " flatten_5 (Flatten)         (None, 41472)             0         \n",
            "                                                                 \n",
            " dense_10 (Dense)            (None, 128)               5308544   \n",
            "                                                                 \n",
            " dense_11 (Dense)            (None, 10)                1290      \n",
            "                                                                 \n",
            "=================================================================\n",
            "Total params: 5,319,978\n",
            "Trainable params: 5,319,978\n",
            "Non-trainable params: 0\n",
            "_________________________________________________________________\n",
            "Epoch 1/50\n",
            "459/459 [==============================] - 145s 315ms/step - loss: 0.1852 - accuracy: 0.6139 - val_loss: 0.1188 - val_accuracy: 0.7840\n",
            "Epoch 2/50\n",
            "459/459 [==============================] - 146s 319ms/step - loss: 0.1006 - accuracy: 0.8164 - val_loss: 0.1038 - val_accuracy: 0.8097\n",
            "Epoch 3/50\n",
            "459/459 [==============================] - 144s 314ms/step - loss: 0.0764 - accuracy: 0.8708 - val_loss: 0.0784 - val_accuracy: 0.8688\n",
            "Epoch 4/50\n",
            "459/459 [==============================] - 144s 315ms/step - loss: 0.0662 - accuracy: 0.8889 - val_loss: 0.0670 - val_accuracy: 0.8887\n",
            "Epoch 5/50\n",
            "459/459 [==============================] - 145s 317ms/step - loss: 0.0574 - accuracy: 0.9058 - val_loss: 0.0735 - val_accuracy: 0.8754\n",
            "Epoch 6/50\n",
            "459/459 [==============================] - 146s 318ms/step - loss: 0.0506 - accuracy: 0.9192 - val_loss: 0.0649 - val_accuracy: 0.8901\n",
            "Epoch 7/50\n",
            "459/459 [==============================] - 145s 317ms/step - loss: 0.0461 - accuracy: 0.9260 - val_loss: 0.0587 - val_accuracy: 0.9024\n",
            "Epoch 8/50\n",
            "459/459 [==============================] - 147s 320ms/step - loss: 0.0399 - accuracy: 0.9366 - val_loss: 0.0760 - val_accuracy: 0.8724\n",
            "Epoch 9/50\n",
            "459/459 [==============================] - 144s 315ms/step - loss: 0.0343 - accuracy: 0.9499 - val_loss: 0.0536 - val_accuracy: 0.9146\n",
            "Epoch 10/50\n",
            "459/459 [==============================] - 143s 312ms/step - loss: 0.0345 - accuracy: 0.9465 - val_loss: 0.0577 - val_accuracy: 0.9065\n",
            "Epoch 11/50\n",
            "459/459 [==============================] - 144s 314ms/step - loss: 0.0306 - accuracy: 0.9567 - val_loss: 0.0642 - val_accuracy: 0.8986\n",
            "Epoch 12/50\n",
            "459/459 [==============================] - 143s 311ms/step - loss: 0.0284 - accuracy: 0.9581 - val_loss: 0.0561 - val_accuracy: 0.9089\n",
            "Epoch 13/50\n",
            "459/459 [==============================] - 143s 311ms/step - loss: 0.0261 - accuracy: 0.9642 - val_loss: 0.0776 - val_accuracy: 0.8819\n",
            "Epoch 14/50\n",
            "459/459 [==============================] - 145s 317ms/step - loss: 0.0263 - accuracy: 0.9612 - val_loss: 0.0677 - val_accuracy: 0.8936\n",
            "Epoch 15/50\n",
            "459/459 [==============================] - 141s 308ms/step - loss: 0.0237 - accuracy: 0.9658 - val_loss: 0.0481 - val_accuracy: 0.9291\n",
            "Epoch 16/50\n",
            "459/459 [==============================] - 142s 310ms/step - loss: 0.0231 - accuracy: 0.9662 - val_loss: 0.0632 - val_accuracy: 0.9125\n",
            "Epoch 17/50\n",
            "459/459 [==============================] - 142s 309ms/step - loss: 0.0214 - accuracy: 0.9717 - val_loss: 0.0644 - val_accuracy: 0.9078\n",
            "Epoch 18/50\n",
            "459/459 [==============================] - 143s 312ms/step - loss: 0.0202 - accuracy: 0.9730 - val_loss: 0.0538 - val_accuracy: 0.9261\n",
            "Epoch 19/50\n",
            "459/459 [==============================] - 141s 308ms/step - loss: 0.0176 - accuracy: 0.9762 - val_loss: 0.0731 - val_accuracy: 0.9040\n",
            "Epoch 20/50\n",
            "459/459 [==============================] - 141s 307ms/step - loss: 0.0189 - accuracy: 0.9753 - val_loss: 0.0560 - val_accuracy: 0.9223\n",
            "Epoch 21/50\n",
            "459/459 [==============================] - 143s 312ms/step - loss: 0.0169 - accuracy: 0.9787 - val_loss: 0.0478 - val_accuracy: 0.9337\n",
            "Epoch 22/50\n",
            "459/459 [==============================] - 141s 308ms/step - loss: 0.0171 - accuracy: 0.9777 - val_loss: 0.0508 - val_accuracy: 0.9362\n",
            "Epoch 23/50\n",
            "459/459 [==============================] - 142s 309ms/step - loss: 0.0169 - accuracy: 0.9783 - val_loss: 0.0481 - val_accuracy: 0.9422\n",
            "Epoch 24/50\n",
            "459/459 [==============================] - 144s 315ms/step - loss: 0.0137 - accuracy: 0.9833 - val_loss: 0.0565 - val_accuracy: 0.9242\n",
            "Epoch 25/50\n",
            "459/459 [==============================] - 143s 312ms/step - loss: 0.0164 - accuracy: 0.9802 - val_loss: 0.0499 - val_accuracy: 0.9340\n",
            "Epoch 26/50\n",
            "459/459 [==============================] - 143s 313ms/step - loss: 0.0138 - accuracy: 0.9834 - val_loss: 0.0527 - val_accuracy: 0.9335\n",
            "Epoch 27/50\n",
            "459/459 [==============================] - 143s 312ms/step - loss: 0.0151 - accuracy: 0.9815 - val_loss: 0.0601 - val_accuracy: 0.9157\n",
            "Epoch 28/50\n",
            "459/459 [==============================] - 143s 312ms/step - loss: 0.0145 - accuracy: 0.9811 - val_loss: 0.0514 - val_accuracy: 0.9332\n",
            "Epoch 29/50\n",
            "459/459 [==============================] - 143s 311ms/step - loss: 0.0131 - accuracy: 0.9834 - val_loss: 0.0508 - val_accuracy: 0.9362\n",
            "Epoch 30/50\n",
            "459/459 [==============================] - 141s 308ms/step - loss: 0.0121 - accuracy: 0.9861 - val_loss: 0.0620 - val_accuracy: 0.9302\n",
            "Epoch 31/50\n",
            "459/459 [==============================] - 144s 314ms/step - loss: 0.0102 - accuracy: 0.9884 - val_loss: 0.0574 - val_accuracy: 0.9321\n",
            "Epoch 32/50\n",
            "459/459 [==============================] - 142s 310ms/step - loss: 0.0123 - accuracy: 0.9854 - val_loss: 0.0616 - val_accuracy: 0.9269\n",
            "Epoch 33/50\n",
            "459/459 [==============================] - 140s 304ms/step - loss: 0.0131 - accuracy: 0.9836 - val_loss: 0.0614 - val_accuracy: 0.9253\n",
            "Epoch 34/50\n",
            "459/459 [==============================] - 140s 305ms/step - loss: 0.0113 - accuracy: 0.9877 - val_loss: 0.0521 - val_accuracy: 0.9400\n",
            "Epoch 35/50\n",
            "459/459 [==============================] - 140s 304ms/step - loss: 0.0122 - accuracy: 0.9853 - val_loss: 0.0507 - val_accuracy: 0.9343\n",
            "Epoch 36/50\n",
            "459/459 [==============================] - 149s 325ms/step - loss: 0.0104 - accuracy: 0.9883 - val_loss: 0.0563 - val_accuracy: 0.9337\n",
            "Epoch 37/50\n",
            "459/459 [==============================] - 139s 303ms/step - loss: 0.0107 - accuracy: 0.9886 - val_loss: 0.0597 - val_accuracy: 0.9321\n",
            "Epoch 38/50\n",
            "459/459 [==============================] - 138s 300ms/step - loss: 0.0097 - accuracy: 0.9891 - val_loss: 0.0627 - val_accuracy: 0.9294\n",
            "Epoch 39/50\n",
            "459/459 [==============================] - 139s 303ms/step - loss: 0.0090 - accuracy: 0.9905 - val_loss: 0.0682 - val_accuracy: 0.9247\n",
            "Epoch 40/50\n",
            "459/459 [==============================] - 139s 304ms/step - loss: 0.0109 - accuracy: 0.9877 - val_loss: 0.0596 - val_accuracy: 0.9332\n",
            "Epoch 41/50\n",
            "459/459 [==============================] - 142s 309ms/step - loss: 0.0103 - accuracy: 0.9891 - val_loss: 0.0572 - val_accuracy: 0.9291\n",
            "Epoch 42/50\n",
            "459/459 [==============================] - 138s 301ms/step - loss: 0.0088 - accuracy: 0.9906 - val_loss: 0.0557 - val_accuracy: 0.9400\n",
            "Epoch 43/50\n",
            "459/459 [==============================] - 138s 302ms/step - loss: 0.0106 - accuracy: 0.9882 - val_loss: 0.0621 - val_accuracy: 0.9296\n",
            "Epoch 44/50\n",
            "459/459 [==============================] - 136s 297ms/step - loss: 0.0103 - accuracy: 0.9893 - val_loss: 0.0636 - val_accuracy: 0.9280\n",
            "Epoch 45/50\n",
            "459/459 [==============================] - 137s 299ms/step - loss: 0.0074 - accuracy: 0.9922 - val_loss: 0.0528 - val_accuracy: 0.9457\n",
            "Epoch 46/50\n",
            "459/459 [==============================] - 138s 301ms/step - loss: 0.0101 - accuracy: 0.9896 - val_loss: 0.0523 - val_accuracy: 0.9422\n",
            "Epoch 47/50\n",
            "459/459 [==============================] - 137s 299ms/step - loss: 0.0077 - accuracy: 0.9911 - val_loss: 0.0685 - val_accuracy: 0.9310\n",
            "Epoch 48/50\n",
            "459/459 [==============================] - 138s 301ms/step - loss: 0.0089 - accuracy: 0.9894 - val_loss: 0.0732 - val_accuracy: 0.9256\n",
            "Epoch 49/50\n",
            "459/459 [==============================] - 146s 319ms/step - loss: 0.0072 - accuracy: 0.9932 - val_loss: 0.0617 - val_accuracy: 0.9351\n",
            "Epoch 50/50\n",
            "459/459 [==============================] - 142s 310ms/step - loss: 0.0091 - accuracy: 0.9903 - val_loss: 0.0631 - val_accuracy: 0.9356\n"
          ]
        }
      ],
      "source": [
        "# First model\n",
        "\n",
        "from keras.layers import BatchNormalization\n",
        "from keras.layers import Dropout\n",
        "\n",
        "cnn = tf.keras.models.Sequential()\n",
        "\n",
        "#Convolution layer 1\n",
        "cnn.add(tf.keras.layers.Conv2D(filters=32,kernel_size = 3, activation='relu',input_shape=[150, 150,3]))\n",
        "# cnn.add(BatchNormalization())\n",
        "\n",
        "# Pooling 1\n",
        "cnn.add(tf.keras.layers.MaxPool2D(pool_size=2, strides=2))\n",
        "# cnn.add(BatchNormalization())\n",
        "\n",
        "#Convolution layer 2\n",
        "cnn.add(tf.keras.layers.Conv2D(filters=32,kernel_size = 3, activation='relu',input_shape=[150, 150,3]))\n",
        "# cnn.add(Dropout(0.25))\n",
        "\n",
        "# cnn.add(BatchNormalization())\n",
        "\n",
        "# Pooling 2\n",
        "cnn.add(tf.keras.layers.MaxPool2D(pool_size=2, strides=2))\n",
        "# cnn.add(BatchNormalization())\n",
        "\n",
        "# Flattening\n",
        "cnn.add(tf.keras.layers.Flatten())\n",
        "# cnn.add(BatchNormalization())\n",
        "\n",
        "#Full Connection\n",
        "cnn.add(tf.keras.layers.Dense(units=128,activation='relu'))\n",
        "# cnn.add(BatchNormalization())\n",
        "\n",
        "#Output Layer\n",
        "cnn.add(tf.keras.layers.Dense(units=10,activation='softmax'))\n",
        "\n",
        "#Compiling\n",
        "cnn.compile(optimizer='adam',loss='binary_crossentropy',metrics=['accuracy'])\n",
        "\n",
        "# Summary of the model\n",
        "cnn.summary()\n",
        "\n",
        "# Fit\n",
        "\n",
        "# temp = cnn.fit(x = train_generator, validation_data=test_generator,epochs=5)\n",
        "temp = cnn.fit(x = train_generator, validation_data=validation_generator,epochs=50)\n"
      ]
    },
    {
      "cell_type": "code",
      "execution_count": 20,
      "metadata": {
        "colab": {
          "base_uri": "https://localhost:8080/",
          "height": 282
        },
        "id": "ATtNkChNYCNh",
        "outputId": "b38d9207-b91b-48f5-a861-a681d545490b"
      },
      "outputs": [
        {
          "data": {
            "text/plain": [
              "<matplotlib.legend.Legend at 0x7f23544c1640>"
            ]
          },
          "execution_count": 20,
          "metadata": {},
          "output_type": "execute_result"
        },
        {
          "data": {
            "image/png": "[encoded data removed]",
            "text/plain": [
              "<Figure size 432x288 with 1 Axes>"
            ]
          },
          "metadata": {
            "needs_background": "light"
          },
          "output_type": "display_data"
        }
      ],
      "source": [
        "# plot the model accuracy and validation accuracy\n",
        "\n",
        "plt.plot(temp.history['accuracy'])\n",
        "plt.plot(temp.history['val_accuracy'])\n",
        "plt.legend(['accuracy','validation accuracy'])"
      ]
    },
    {
      "cell_type": "code",
      "execution_count": 21,
      "metadata": {
        "colab": {
          "base_uri": "https://localhost:8080/"
        },
        "id": "p5Tcje1QFP6h",
        "outputId": "661fa683-1651-442b-8137-305c9cb57ae8"
      },
      "outputs": [
        {
          "name": "stdout",
          "output_type": "stream",
          "text": [
            "459/459 [==============================] - 108s 236ms/step - loss: 0.0058 - accuracy: 0.9937\n",
            "144/144 [==============================] - 14s 96ms/step - loss: 0.0739 - accuracy: 0.9354\n",
            "Training Loss is : 0.005788342095911503\n",
            "Training Accuracy is : 99.37320947647095 %\n",
            "Testing Loss is : 0.07387925684452057\n",
            "Testing Accuracy is : 93.54416728019714 %\n"
          ]
        }
      ],
      "source": [
        "# Scores is just a list containing loss and accuracy value\n",
        "scores=cnn.evaluate(train_generator)\n",
        "scores2=cnn.evaluate(test_generator)\n",
        "print(\"Training Loss is : \"+str(scores[0]))\n",
        "print(\"Training Accuracy is : \"+str(scores[1]*100)+\" %\")\n",
        "print(\"Testing Loss is : \"+str(scores2[0]))\n",
        "print(\"Testing Accuracy is : \"+str(scores2[1]*100)+\" %\")"
      ]
    },
    {
      "cell_type": "code",
      "execution_count": 22,
      "metadata": {
        "colab": {
          "base_uri": "https://localhost:8080/"
        },
        "id": "DEvMRQASX4x-",
        "outputId": "84e7e1bb-9dcf-48b6-b32c-9c3ce7c4d416"
      },
      "outputs": [
        {
          "name": "stdout",
          "output_type": "stream",
          "text": [
            "144/144 [==============================] - 14s 96ms/step\n"
          ]
        }
      ],
      "source": [
        "test_steps_per_epoch = np.math.ceil(test_generator.samples / test_generator.batch_size)\n",
        "predictions = cnn.predict(test_generator, steps=test_steps_per_epoch)\n",
        "\n",
        "# Get most likely class\n",
        "predicted_classes = np.argmax(predictions, axis=1)\n",
        "\n",
        "# Get true classes and class Labels\n",
        "true_classes = test_generator.classes\n",
        "class_labels = list(test_generator.class_indices.keys())   "
      ]
    },
    {
      "cell_type": "markdown",
      "metadata": {
        "id": "CHzcODZ2bApr"
      },
      "source": [
        "## Classification Report"
      ]
    },
    {
      "cell_type": "code",
      "execution_count": 23,
      "metadata": {
        "colab": {
          "base_uri": "https://localhost:8080/"
        },
        "id": "IvJFqG9DX-9x",
        "outputId": "d1ee0afc-1476-42af-aef8-9794c2d27fa7"
      },
      "outputs": [
        {
          "name": "stdout",
          "output_type": "stream",
          "text": [
            "                                               precision    recall  f1-score   support\n",
            "\n",
            "                      Tomato___Bacterial_spot       0.09      0.09      0.09       425\n",
            "                        Tomato___Early_blight       0.09      0.10      0.09       480\n",
            "                         Tomato___Late_blight       0.08      0.08      0.08       463\n",
            "                           Tomato___Leaf_Mold       0.10      0.10      0.10       470\n",
            "                  Tomato___Septoria_leaf_spot       0.10      0.10      0.10       436\n",
            "Tomato___Spider_mites Two-spotted_spider_mite       0.08      0.09      0.09       435\n",
            "                         Tomato___Target_Spot       0.09      0.07      0.08       457\n",
            "       Tomato___Tomato_Yellow_Leaf_Curl_Virus       0.12      0.11      0.11       490\n",
            "                 Tomato___Tomato_mosaic_virus       0.09      0.10      0.10       448\n",
            "                             Tomato___healthy       0.10      0.12      0.11       481\n",
            "\n",
            "                                     accuracy                           0.09      4585\n",
            "                                    macro avg       0.09      0.09      0.09      4585\n",
            "                                 weighted avg       0.09      0.09      0.09      4585\n",
            "\n"
          ]
        }
      ],
      "source": [
        "import sklearn.metrics as metrics\n",
        "report = metrics.classification_report(true_classes, predicted_classes, target_names=class_labels)\n",
        "print(report) "
      ]
    },
    {
      "cell_type": "markdown",
      "metadata": {
        "id": "O3ol20wRbFij"
      },
      "source": [
        "## Confusion Matrix"
      ]
    },
    {
      "cell_type": "code",
      "execution_count": 24,
      "metadata": {
        "colab": {
          "base_uri": "https://localhost:8080/",
          "height": 282
        },
        "id": "-8yTtgmIYT-V",
        "outputId": "1d552906-ba7e-4510-915f-56f4c2eb90b4"
      },
      "outputs": [
        {
          "data": {
            "text/plain": [
              "<matplotlib.axes._subplots.AxesSubplot at 0x7f235447f340>"
            ]
          },
          "execution_count": 24,
          "metadata": {},
          "output_type": "execute_result"
        },
        {
          "data": {
            "image/png": "[encoded data removed]",
            "text/plain": [
              "<Figure size 432x288 with 2 Axes>"
            ]
          },
          "metadata": {
            "needs_background": "light"
          },
          "output_type": "display_data"
        }
      ],
      "source": [
        "#Confusion Matrix\n",
        "from sklearn.metrics import confusion_matrix\n",
        "sns.heatmap(confusion_matrix(true_classes,predicted_classes),annot=True,fmt='.5g') "
      ]
    },
    {
      "cell_type": "code",
      "execution_count": 26,
      "metadata": {
        "colab": {
          "base_uri": "https://localhost:8080/"
        },
        "id": "UZrzKqwL7NSV",
        "outputId": "b41dc835-cbb7-482c-e366-1e5241cfd5cf"
      },
      "outputs": [
        {
          "name": "stdout",
          "output_type": "stream",
          "text": [
            "1/1 [==============================] - 0s 111ms/step\n",
            "[[0. 0. 0. 0. 0. 0. 0. 0. 1. 0.]]\n"
          ]
        }
      ],
      "source": [
        "# Testing the model\n",
        "# from keras.preprocessing import image\n",
        "\n",
        "import keras.utils as image\n",
        "\n",
        "test = image.load_img(\"/content/drive/MyDrive/BTP/Dataset/dataset/New Plant Diseases Dataset(Augmented)/valid/Tomato___Spider_mites Two-spotted_spider_mite/00fa99e8-2605-4d72-be69-98277587d84b___Com.G_SpM_FL 1453_flipTB.JPG\",target_size = (150, 150))\n",
        "test=image.img_to_array(test)\n",
        "# /content/drive/MyDrive/BTP/Dataset/dataset/New Plant Diseases Dataset(Augmented)/valid/Tomato___Spider_mites Two-spotted_spider_mite/00fa99e8-2605-4d72-be69-98277587d84b___Com.G_SpM_FL 1453_flipTB.JPG\n",
        "test=np.expand_dims(test,axis=0)\n",
        "result=cnn.predict(test)\n",
        "print(result)"
      ]
    },
    {
      "cell_type": "code",
      "execution_count": 27,
      "metadata": {
        "colab": {
          "base_uri": "https://localhost:8080/",
          "height": 530
        },
        "id": "r9ud3a6Q7NSU",
        "outputId": "83b4d681-1e7c-4ea9-8ddd-75455e461616"
      },
      "outputs": [
        {
          "data": {
            "image/png": "[encoded data removed]",
            "text/plain": [
              "<Figure size 432x288 with 1 Axes>"
            ]
          },
          "metadata": {
            "needs_background": "light"
          },
          "output_type": "display_data"
        },
        {
          "data": {
            "image/png": "[encoded data removed]",
            "text/plain": [
              "<Figure size 432x288 with 1 Axes>"
            ]
          },
          "metadata": {
            "needs_background": "light"
          },
          "output_type": "display_data"
        },
        {
          "data": {
            "text/plain": [
              "<Figure size 432x288 with 0 Axes>"
            ]
          },
          "metadata": {},
          "output_type": "display_data"
        }
      ],
      "source": [
        "# plot the loss\n",
        "plt.plot(temp.history['loss'], label='train loss')\n",
        "plt.plot(temp.history['val_loss'], label='val loss')\n",
        "plt.legend()\n",
        "plt.show()\n",
        "plt.savefig('LossVal_loss')\n",
        "\n",
        "# plot the accuracy\n",
        "plt.plot(temp.history['accuracy'], label='train acc')\n",
        "plt.plot(temp.history['val_accuracy'], label='val acc')\n",
        "plt.legend()\n",
        "plt.show()\n",
        "plt.savefig('AccVal_acc')"
      ]
    },
    {
      "cell_type": "code",
      "execution_count": 28,
      "metadata": {
        "colab": {
          "base_uri": "https://localhost:8080/"
        },
        "id": "fnLB2h9a7NSW",
        "outputId": "e7a613fe-9f0c-4965-bee0-cbbe20d95c48"
      },
      "outputs": [
        {
          "data": {
            "text/plain": [
              "array([[0., 0., 0., 0., 0., 0., 0., 0., 1., 0.]], dtype=float32)"
            ]
          },
          "execution_count": 28,
          "metadata": {},
          "output_type": "execute_result"
        }
      ],
      "source": [
        "result"
      ]
    },
    {
      "cell_type": "markdown",
      "metadata": {
        "id": "xmWWvFwRoP5y"
      },
      "source": [
        "## CNN Model-2"
      ]
    },
    {
      "cell_type": "code",
      "execution_count": null,
      "metadata": {
        "colab": {
          "base_uri": "https://localhost:8080/"
        },
        "id": "cYclMOga7NSX",
        "outputId": "16c7e5d4-27fd-4d12-ac3a-d56e83b04b8a"
      },
      "outputs": [
        {
          "name": "stdout",
          "output_type": "stream",
          "text": [
            "Model: \"sequential\"\n",
            "_________________________________________________________________\n",
            " Layer (type)                Output Shape              Param #   \n",
            "=================================================================\n",
            " conv2d (Conv2D)             (None, 148, 148, 32)      896       \n",
            "                                                                 \n",
            " max_pooling2d (MaxPooling2D  (None, 74, 74, 32)       0         \n",
            " )                                                               \n",
            "                                                                 \n",
            " conv2d_1 (Conv2D)           (None, 72, 72, 32)        9248      \n",
            "                                                                 \n",
            " max_pooling2d_1 (MaxPooling  (None, 36, 36, 32)       0         \n",
            " 2D)                                                             \n",
            "                                                                 \n",
            " flatten (Flatten)           (None, 41472)             0         \n",
            "                                                                 \n",
            " dense (Dense)               (None, 128)               5308544   \n",
            "                                                                 \n",
            " batch_normalization (BatchN  (None, 128)              512       \n",
            " ormalization)                                                   \n",
            "                                                                 \n",
            " dense_1 (Dense)             (None, 128)               16512     \n",
            "                                                                 \n",
            " dense_2 (Dense)             (None, 10)                1290      \n",
            "                                                                 \n",
            "=================================================================\n",
            "Total params: 5,337,002\n",
            "Trainable params: 5,336,746\n",
            "Non-trainable params: 256\n",
            "_________________________________________________________________\n",
            "Epoch 1/50\n",
            "459/459 [==============================] - 3173s 7s/step - loss: 0.1513 - accuracy: 0.7245 - val_loss: 0.1585 - val_accuracy: 0.6804\n",
            "Epoch 2/50\n",
            "459/459 [==============================] - 547s 1s/step - loss: 0.0840 - accuracy: 0.8468 - val_loss: 0.1741 - val_accuracy: 0.7188\n",
            "Epoch 3/50\n",
            " 22/459 [>.............................] - ETA: 8:33 - loss: 0.0730 - accuracy: 0.8778"
          ]
        }
      ],
      "source": [
        "# Second model\n",
        "\n",
        "from keras.layers import BatchNormalization\n",
        "from keras.layers import Dropout\n",
        "\n",
        "cnn2 = tf.keras.models.Sequential()\n",
        "\n",
        "#Convolution layer 1\n",
        "cnn2.add(tf.keras.layers.Conv2D(filters=32,kernel_size = 3, activation='relu',input_shape=[150, 150,3]))\n",
        "# cnn2.add(BatchNormalization())\n",
        "\n",
        "# Pooling 1\n",
        "cnn2.add(tf.keras.layers.MaxPool2D(pool_size=2, strides=2))\n",
        "# cnn2.add(BatchNormalization())\n",
        "\n",
        "#Convolution layer 2\n",
        "cnn2.add(tf.keras.layers.Conv2D(filters=32,kernel_size = 3, activation='relu',input_shape=[150, 150,3]))\n",
        "# cnn2.add(BatchNormalization())\n",
        "\n",
        "# Pooling 2\n",
        "cnn2.add(tf.keras.layers.MaxPool2D(pool_size=2, strides=2))\n",
        "#cnn2.add(Dropout(0.25))\n",
        "# cnn2.add(BatchNormalization())\n",
        "\n",
        "# Flattening\n",
        "cnn2.add(tf.keras.layers.Flatten())\n",
        "\n",
        "#Full Conncetion\n",
        "cnn2.add(tf.keras.layers.Dense(units=128,activation='relu'))\n",
        "cnn2.add(BatchNormalization())\n",
        "\n",
        "#Full Conncetion\n",
        "cnn2.add(tf.keras.layers.Dense(units=128,activation='relu'))\n",
        "# cnn2.add(BatchNormalization())\n",
        "\n",
        "#Output Layer\n",
        "cnn2.add(tf.keras.layers.Dense(units=10,activation='softmax'))\n",
        "\n",
        "#Compiling\n",
        "cnn2.compile(optimizer='adam',loss='binary_crossentropy',metrics=['accuracy'])\n",
        "\n",
        "# Summary of the model\n",
        "cnn2.summary()\n",
        "\n",
        "# Fit\n",
        "#temp = cnn2.fit(x = train_generator, validation_data=test_generator,epochs=25)\n",
        "temp = cnn2.fit(x = train_generator, validation_data=validation_generator,epochs=50)\n"
      ]
    },
    {
      "cell_type": "code",
      "execution_count": null,
      "metadata": {
        "id": "K1Oj49WwnsuG"
      },
      "outputs": [],
      "source": [
        "# Scores is just a list containing loss and accuracy value\n",
        "scores=cnn2.evaluate(train_generator)\n",
        "scores2=cnn2.evaluate(test_generator)\n",
        "print(\"Training Loss is :\"+str(scores[0]))\n",
        "print(\"Training Accuracy is :\"+str(scores[1]*100)+\" %\")\n",
        "print(\"Testing Loss is : \"+str(scores2[0]))\n",
        "print(\"Testing Accuracy is : \"+str(scores2[1]*100)+\" %\")"
      ]
    },
    {
      "cell_type": "code",
      "execution_count": null,
      "metadata": {
        "id": "TlX5p_HYn2iU"
      },
      "outputs": [],
      "source": [
        "test_steps_per_epoch = np.math.ceil(test_generator.samples / test_generator.batch_size)\n",
        "predictions = cnn2.predict(test_generator, steps=test_steps_per_epoch)\n",
        "\n",
        "# Get most likely class\n",
        "predicted_classes = np.argmax(predictions, axis=1)\n",
        "\n",
        "# Get true classes and class Labels\n",
        "true_classes = test_generator.classes\n",
        "class_labels = list(test_generator.class_indices.keys())   "
      ]
    },
    {
      "cell_type": "code",
      "execution_count": null,
      "metadata": {
        "id": "fSmaloEbn7jL"
      },
      "outputs": [],
      "source": [
        "#Classification Report\n",
        "import sklearn.metrics as metrics\n",
        "report = metrics.classification_report(true_classes, predicted_classes, target_names=class_labels)\n",
        "print(report) "
      ]
    },
    {
      "cell_type": "code",
      "execution_count": null,
      "metadata": {
        "id": "epRFfRNqoBsw"
      },
      "outputs": [],
      "source": [
        "#Confusion Matrix\n",
        "from sklearn.metrics import confusion_matrix\n",
        "sns.heatmap(confusion_matrix(true_classes,predicted_classes),annot=True,fmt='.5g') "
      ]
    },
    {
      "cell_type": "code",
      "execution_count": null,
      "metadata": {
        "id": "EX4UvOcU7NSX"
      },
      "outputs": [],
      "source": [
        "# plot the loss\n",
        "plt.plot(temp.history['loss'], label='train loss')\n",
        "plt.plot(temp.history['val_loss'], label='val loss')\n",
        "plt.legend()\n",
        "plt.show()\n",
        "plt.savefig('LossVal_loss')\n",
        "\n",
        "# plot the accuracy\n",
        "plt.plot(temp.history['accuracy'], label='train acc')\n",
        "plt.plot(temp.history['val_accuracy'], label='val acc')\n",
        "plt.legend()\n",
        "plt.show()\n",
        "plt.savefig('AccVal_acc')"
      ]
    },
    {
      "cell_type": "code",
      "execution_count": null,
      "metadata": {
        "id": "3-5UMyq2n-XK"
      },
      "outputs": [],
      "source": []
    },
    {
      "cell_type": "markdown",
      "metadata": {
        "id": "FTyILRi8oZ6l"
      },
      "source": [
        "## CNN Model-3 "
      ]
    },
    {
      "cell_type": "code",
      "execution_count": null,
      "metadata": {
        "id": "dRg6C7yG7NSY"
      },
      "outputs": [],
      "source": [
        "# Third model\n",
        "\n",
        "from keras.layers import BatchNormalization\n",
        "from keras.layers import Dropout\n",
        "\n",
        "cnn3 = tf.keras.models.Sequential()\n",
        "\n",
        "#Convolution layer 1\n",
        "cnn3.add(tf.keras.layers.Conv2D(filters=32,kernel_size = 3, activation='relu',input_shape=[150, 150,3]))\n",
        "# cnn3.add(BatchNormalization())\n",
        "\n",
        "# Pooling 1\n",
        "cnn3.add(tf.keras.layers.MaxPool2D(pool_size=2, strides=2))\n",
        "# cnn3.add(BatchNormalization())\n",
        "\n",
        "#Convolution layer 2\n",
        "cnn3.add(tf.keras.layers.Conv2D(filters=32,kernel_size = 3, activation='relu',input_shape=[150, 150,3]))\n",
        "# cnn3.add(BatchNormalization())\n",
        "\n",
        "# Pooling 2\n",
        "cnn3.add(tf.keras.layers.MaxPool2D(pool_size=2, strides=2))\n",
        "# cnn3.add(BatchNormalization())\n",
        "\n",
        "# Flattening\n",
        "cnn3.add(tf.keras.layers.Flatten())\n",
        "# cnn3.add(BatchNormalization())\n",
        "\n",
        "#Full Conncetion\n",
        "cnn3.add(tf.keras.layers.Dense(units=128,activation='relu'))\n",
        "# cnn3.add(Dropout(0.25))\n",
        "\n",
        "#Output Layer\n",
        "cnn3.add(tf.keras.layers.Dense(units=10,activation='softmax'))\n",
        "\n",
        "#Compiling\n",
        "cnn3.compile(optimizer='adam',loss='binary_crossentropy',metrics=['accuracy'])\n",
        "\n",
        "# Summary of the model\n",
        "cnn3.summary()\n",
        "\n",
        "# Fit\n",
        "#temp = cnn3.fit(x = train_generator, validation_data=test_generator,epochs=25,batch_size = 64)\n",
        "temp = cnn3.fit(x = train_generator, validation_data=validation_generator,epochs=50,batch_size = 64)\n"
      ]
    },
    {
      "cell_type": "code",
      "execution_count": null,
      "metadata": {
        "id": "WHrLyCgNo28T"
      },
      "outputs": [],
      "source": [
        "# Scores is just a list containing loss and accuracy value\n",
        "scores=cnn3.evaluate(train_generator)\n",
        "scores2=cnn3.evaluate(test_generator)\n",
        "print(\"Training Loss is :\"+str(scores[0]))\n",
        "print(\"Training Accuracy is :\"+str(scores[1]*100)+\" %\")\n",
        "print(\"Testing Loss is : \"+str(scores2[0]))\n",
        "print(\"Testing Accuracy is : \"+str(scores2[1]*100)+\" %\")"
      ]
    },
    {
      "cell_type": "code",
      "execution_count": null,
      "metadata": {
        "id": "9UxJNONco48K"
      },
      "outputs": [],
      "source": [
        "test_steps_per_epoch = np.math.ceil(test_generator.samples / test_generator.batch_size)\n",
        "predictions = cnn3.predict(test_generator, steps=test_steps_per_epoch)\n",
        "\n",
        "# Get most likely class\n",
        "predicted_classes = np.argmax(predictions, axis=1)\n",
        "\n",
        "# Get true classes and class Labels\n",
        "true_classes = test_generator.classes\n",
        "class_labels = list(test_generator.class_indices.keys())   "
      ]
    },
    {
      "cell_type": "code",
      "execution_count": null,
      "metadata": {
        "id": "NabyKcUeo6b7"
      },
      "outputs": [],
      "source": [
        "#Classification Report\n",
        "import sklearn.metrics as metrics\n",
        "report = metrics.classification_report(true_classes, predicted_classes, target_names=class_labels)\n",
        "print(report) "
      ]
    },
    {
      "cell_type": "code",
      "execution_count": null,
      "metadata": {
        "id": "Zfn3dlUQo8c_"
      },
      "outputs": [],
      "source": [
        "#Confusion Matrix\n",
        "from sklearn.metrics import confusion_matrix\n",
        "sns.heatmap(confusion_matrix(true_classes,predicted_classes),annot=True,fmt='.5g') "
      ]
    },
    {
      "cell_type": "code",
      "execution_count": null,
      "metadata": {
        "id": "g3qXXAkn7NSY"
      },
      "outputs": [],
      "source": [
        "# plot the loss\n",
        "plt.plot(temp.history['loss'], label='train loss')\n",
        "plt.plot(temp.history['val_loss'], label='val loss')\n",
        "plt.legend()\n",
        "plt.show()\n",
        "plt.savefig('LossVal_loss')\n",
        "\n",
        "# plot the accuracy\n",
        "plt.plot(temp.history['accuracy'], label='train acc')\n",
        "plt.plot(temp.history['val_accuracy'], label='val acc')\n",
        "plt.legend()\n",
        "plt.show()\n",
        "plt.savefig('AccVal_acc')"
      ]
    },
    {
      "cell_type": "markdown",
      "metadata": {
        "id": "W0KbT9jWoucE"
      },
      "source": [
        "## Inception-V3"
      ]
    },
    {
      "cell_type": "markdown",
      "metadata": {
        "id": "a46vCVPMaEya"
      },
      "source": [
        "## Detection of Tomato Leaf Disease by Transfer learning InceptionV3\n",
        "\n",
        "#### Importing libraries and essentials for the model"
      ]
    },
    {
      "cell_type": "code",
      "execution_count": null,
      "metadata": {
        "id": "8F9_Wwr2Zm29"
      },
      "outputs": [],
      "source": [
        "from tensorflow import keras \n",
        "from tensorflow.keras.layers import Dense , Flatten\n",
        "from tensorflow.keras.models import Model, Sequential\n",
        "from tensorflow.keras.applications import InceptionV3\n",
        "from tensorflow.keras.preprocessing import image\n",
        "from tensorflow.keras.preprocessing.image import ImageDataGenerator\n",
        "import numpy as np\n",
        "import matplotlib.pyplot as plt\n",
        "from glob import glob"
      ]
    },
    {
      "cell_type": "markdown",
      "metadata": {
        "id": "wZUVoMgZaIpV"
      },
      "source": [
        "##### Data Augmentation\n",
        "\n",
        "Increasing the data by horizontal flip, shear range and rotation range to get the image classification better accuracy.\n",
        "Data augmentation is a strategy that enables practitioners to significantly increase the diversity of data available for training models, without actually collecting new data."
      ]
    },
    {
      "cell_type": "code",
      "execution_count": null,
      "metadata": {
        "id": "NNq1TuABaY9i"
      },
      "outputs": [],
      "source": [
        "train_datagen=ImageDataGenerator(validation_split=0.2,rescale=1./255,\n",
        "                                 horizontal_flip=True,rotation_range=.2,shear_range=.2)\n",
        "test_datagen=ImageDataGenerator(rescale=1./255)"
      ]
    },
    {
      "cell_type": "markdown",
      "metadata": {
        "id": "b92n98soai-0"
      },
      "source": [
        "##### About Dataset\n",
        "\n",
        "   1. The dataset consists of training data, and validation data.\n",
        "   2. The training data consists of 18345  images with 10 classes and 3,875 test images with 10.\n",
        "   3. The classes are Tomato___Bacterial_spot, Tomato___Early_blight, Tomato___healthy, Tomato___Late_blight, Tomato___Leaf_Mold, Tomato___Septoria_leaf_spot, Tomato___Spider_mites Two-spotted_spider_mite, Tomato___Target_Spot, Tomato___Tomato_mosaic_virus, Tomato___Tomato_Yellow_Leaf_Curl_Virus."
      ]
    },
    {
      "cell_type": "code",
      "execution_count": null,
      "metadata": {
        "id": "sTw5a39F2kks"
      },
      "outputs": [],
      "source": [
        "TRAINING_DIR = '/content/drive/MyDrive/BTP/Dataset/dataset/New Plant Diseases Dataset(Augmented)/train/' \n",
        "TESTING_DIR = '/content/drive/MyDrive/BTP/Dataset/dataset/New Plant Diseases Dataset(Augmented)/valid/'"
      ]
    },
    {
      "cell_type": "code",
      "execution_count": null,
      "metadata": {
        "id": "96pNsIdqahzL"
      },
      "outputs": [],
      "source": [
        "training_set=train_datagen.flow_from_directory(TRAINING_DIR,\n",
        "                                               target_size=(224,224),class_mode=\"categorical\",batch_size=32,shuffle=True,subset=\"training\")\n",
        "\n",
        "validation_generator = train_datagen.flow_from_directory(\n",
        "        TRAINING_DIR,\n",
        "        target_size=(224, 224),\n",
        "        batch_size=32,\n",
        "        class_mode='categorical',\n",
        "        shuffle=True,\n",
        "        subset=\"validation\")\n",
        "\n",
        "test_set=test_datagen.flow_from_directory(TESTING_DIR,\n",
        "                                          target_size=(224,224),class_mode=\"categorical\",batch_size=32,shuffle=True)"
      ]
    },
    {
      "cell_type": "markdown",
      "metadata": {
        "id": "yzqJLAEzbtz1"
      },
      "source": [
        "### InceptionV3\n",
        "\n",
        "Inception v3 is a convolutional neural network for assisting in image analysis and object detection, and got its start as a module for Googlenet. It is the third edition of Google's Inception Convolutional Neural Network, originally introduced during the ImageNet Recognition Challenge. Just as ImageNet can be thought of as a database of classified visual objects, Inception helps classification of objects in the world of computer vision.\n"
      ]
    },
    {
      "cell_type": "code",
      "execution_count": null,
      "metadata": {
        "id": "5Ifa_GFFbyVd"
      },
      "outputs": [],
      "source": [
        "inception=InceptionV3(input_shape=[224,224,3],weights=\"imagenet\",include_top=False)"
      ]
    },
    {
      "cell_type": "markdown",
      "metadata": {
        "id": "bwOhK3Ddb6BC"
      },
      "source": [
        "**We will not train the layers because the layers of InceptionV3 layers are already trained with imagenet dataset.** "
      ]
    },
    {
      "cell_type": "code",
      "execution_count": null,
      "metadata": {
        "id": "0ah8TVZ_b1qu"
      },
      "outputs": [],
      "source": [
        "for layer in inception.layers:\n",
        "  layer.trainable=False"
      ]
    },
    {
      "cell_type": "code",
      "execution_count": null,
      "metadata": {
        "id": "NgHr0kyOb9uV"
      },
      "outputs": [],
      "source": [
        "folder=glob(\"/content/drive/MyDrive/BTP/Dataset/dataset/New Plant Diseases Dataset(Augmented)/train/*\")"
      ]
    },
    {
      "cell_type": "markdown",
      "metadata": {
        "id": "3YxVbQzscH3F"
      },
      "source": [
        "**Adding a flatten layer along with a Dense layer whose neuron will be equal to the number of classes with and activation funtion softmax**\n",
        "\n",
        "**Then we will concat the model and name inception_model**"
      ]
    },
    {
      "cell_type": "code",
      "execution_count": null,
      "metadata": {
        "id": "v63mx2KHcJG_"
      },
      "outputs": [],
      "source": [
        "x=Flatten()(inception.output)\n",
        "predict_inception=Dense(units=len(folder),activation=\"softmax\")(x)\n",
        "inception_model=Model(inputs=inception.input,outputs=predict_inception)"
      ]
    },
    {
      "cell_type": "markdown",
      "metadata": {
        "id": "0fc5kq2EcOPO"
      },
      "source": [
        "**We have taken the optimizer Adam and the loss will be categorical crossentropy and our aim will be to find the accuracy**"
      ]
    },
    {
      "cell_type": "code",
      "execution_count": null,
      "metadata": {
        "id": "c9g93COAcKsk"
      },
      "outputs": [],
      "source": [
        "inception_model.compile(optimizer=\"adam\",\n",
        "                        loss=\"categorical_crossentropy\",metrics=[\"accuracy\"])"
      ]
    },
    {
      "cell_type": "markdown",
      "metadata": {
        "id": "dW-M984ocR6B"
      },
      "source": [
        "#### Final Architecture"
      ]
    },
    {
      "cell_type": "code",
      "execution_count": null,
      "metadata": {
        "id": "6MprrSEIcT3t"
      },
      "outputs": [],
      "source": [
        "inception_model.summary()"
      ]
    },
    {
      "cell_type": "code",
      "execution_count": null,
      "metadata": {
        "id": "qG_9vNEDcUW5"
      },
      "outputs": [],
      "source": [
        "transfer_inception=inception_model.fit_generator(training_set,validation_data=validation_generator,\n",
        "                                                 validation_steps=len(validation_generator),steps_per_epoch=len(training_set),epochs=50)"
      ]
    },
    {
      "cell_type": "markdown",
      "metadata": {
        "id": "GMsu4KhJcdsM"
      },
      "source": [
        "After training the model I have noticed that the model is **Overfiiting.**\n",
        "\n",
        "**Overfitting means for training dataset the model perform good but for test dataset the model will not perform well.**  "
      ]
    },
    {
      "cell_type": "code",
      "execution_count": null,
      "metadata": {
        "id": "nPL4GyZUAKbc"
      },
      "outputs": [],
      "source": [
        "# Scores is just a list containing loss and accuracy value\n",
        "scores=inception_model.evaluate(training_set)\n",
        "scores2=inception_model.evaluate(test_set)\n",
        "print(\"Training Loss is :\"+str(scores[0]))\n",
        "print(\"Training Accuracy is :\"+str(scores[1]*100)+\" %\")\n",
        "print(\"Testing Loss is : \"+str(scores2[0]))\n",
        "print(\"Testing Accuracy is : \"+str(scores2[1]*100)+\" %\")"
      ]
    },
    {
      "cell_type": "code",
      "execution_count": null,
      "metadata": {
        "id": "MpSLB3DVBQcF"
      },
      "outputs": [],
      "source": [
        "test_steps_per_epoch = np.math.ceil(test_set.samples / test_set.batch_size)\n",
        "predictions = inception_model.predict(test_set, steps=test_steps_per_epoch)\n",
        "\n",
        "# Get most likely class\n",
        "predicted_classes = np.argmax(predictions, axis=1)\n",
        "\n",
        "# Get true classes and class Labels\n",
        "true_classes = test_set.classes\n",
        "class_labels = list(test_set.class_indices.keys())   "
      ]
    },
    {
      "cell_type": "code",
      "execution_count": null,
      "metadata": {
        "id": "v_hiN2MlBVUv"
      },
      "outputs": [],
      "source": [
        "#Classification Report\n",
        "import sklearn.metrics as metrics\n",
        "report = metrics.classification_report(true_classes, predicted_classes, target_names=class_labels)\n",
        "print(report) "
      ]
    },
    {
      "cell_type": "code",
      "execution_count": null,
      "metadata": {
        "id": "o6Y8WiMiBaHV"
      },
      "outputs": [],
      "source": [
        "#Confusion Matrix\n",
        "from sklearn.metrics import confusion_matrix\n",
        "sns.heatmap(confusion_matrix(true_classes,predicted_classes),annot=True,fmt='.5g') "
      ]
    },
    {
      "cell_type": "code",
      "execution_count": null,
      "metadata": {
        "id": "LUUvEHYWcXsZ"
      },
      "outputs": [],
      "source": [
        "# plot the loss\n",
        "plt.plot(transfer_inception.history['loss'], label='train loss')\n",
        "plt.plot(transfer_inception.history['val_loss'], label='val loss')\n",
        "plt.legend()\n",
        "plt.show()\n",
        "plt.savefig('LossVal_loss')\n",
        "\n",
        "# plot the accuracy\n",
        "plt.plot(transfer_inception.history['accuracy'], label='train acc')\n",
        "plt.plot(transfer_inception.history['val_accuracy'], label='val acc')\n",
        "plt.legend()\n",
        "plt.show()\n",
        "plt.savefig('AccVal_acc')"
      ]
    },
    {
      "cell_type": "markdown",
      "metadata": {
        "id": "JbvZiC-6cmyh"
      },
      "source": [
        "#### Prediction"
      ]
    },
    {
      "cell_type": "code",
      "execution_count": null,
      "metadata": {
        "id": "ZGdh89j9cxiy"
      },
      "outputs": [],
      "source": [
        "y_pred_incep=inception_model.predict(test_set)"
      ]
    },
    {
      "cell_type": "markdown",
      "metadata": {
        "id": "C6QO7M3hc2pX"
      },
      "source": [
        "**The predicted output is a probability due to the activation funtion Softmax, it returns probability of the classes\n",
        "We will now change the probability to discrete values**"
      ]
    },
    {
      "cell_type": "code",
      "execution_count": null,
      "metadata": {
        "id": "u43JkG-bcztG"
      },
      "outputs": [],
      "source": [
        "import numpy as np\n",
        "y_pred_incep=np.argmax(y_pred_incep,axis=1)"
      ]
    },
    {
      "cell_type": "markdown",
      "metadata": {
        "id": "wVjR0wjwc7E1"
      },
      "source": [
        "**Saving the model**"
      ]
    },
    {
      "cell_type": "code",
      "execution_count": null,
      "metadata": {
        "id": "c7Kw6x6Lc57i"
      },
      "outputs": [],
      "source": [
        "inception_model.save(\"Tomato_inceptionv3.h5\")\n",
        "from tensorflow.keras.models import load_model\n",
        "modelinception=load_model(\"Tomato_inceptionv3.h5\")"
      ]
    },
    {
      "cell_type": "markdown",
      "metadata": {
        "id": "znmkuzP8dTag"
      },
      "source": [
        "**Testing the Model with validation dataset** "
      ]
    },
    {
      "cell_type": "code",
      "execution_count": null,
      "metadata": {
        "id": "nbR1OXcRdQIr"
      },
      "outputs": [],
      "source": [
        "# from google.colab import files\n",
        "# uploaded = files.upload()\n",
        "\n",
        "# for fn in uploaded.keys():\n",
        "#   # predict images\n",
        "#   path = '/content/' + fn\n",
        "#   img = image.load_img(path, target_size=(224,224))\n",
        "#   x = image.img_to_array(img)\n",
        "#   x = np.expand_dims(x, axis =0)\n",
        "\n",
        "#   preds = modelinception.predict(x)\n",
        "#   preds=np.argmax(preds, axis=1)\n",
        "#   if preds==0:\n",
        "#         preds=\"Tomato___Bacterial_spot\"\n",
        "#   elif preds==1:\n",
        "#         preds=\"Tomato___Early_blight\"\n",
        "#   elif preds==2:\n",
        "#         preds=\"Tomato___healthy\"\n",
        "#   elif preds==3:\n",
        "#         preds=\"Tomato___Late_blight\"\n",
        "#   elif preds==4:\n",
        "#         preds=\"Tomato___Leaf_Mold\"\n",
        "#   elif preds==5:\n",
        "#         preds=\"Tomato___Septoria_leaf_spot\"\n",
        "#   elif preds==6:\n",
        "#         preds=\"Tomato___Spider_mites Two-spotted_spider_mite\"\n",
        "#   elif preds==7:\n",
        "#         preds=\"Tomato___Target_Spot\"\n",
        "#   elif preds==8:\n",
        "#         preds=\"Tomato___Tomato_mosaic_virus\"\n",
        "#   else:\n",
        "#         preds=\"Tomato___Tomato_Yellow_Leaf_Curl_Virus\"\n",
        "#   print(preds)\n",
        "#   plt.imshow(img)"
      ]
    },
    {
      "cell_type": "markdown",
      "metadata": {
        "id": "t6pwgxTCeJI4"
      },
      "source": [
        "### VGG16\n",
        "\n",
        "VGG16 is a convolutional neural network model proposed by K. Simonyan and A. Zisserman from the University of Oxford in the paper “Very Deep Convolutional Networks for Large-Scale Image Recognition”. The model achieves 92.7% top-5 test accuracy in ImageNet, which is a dataset of over 14 million images belonging to 1000 classes.\n",
        "\n"
      ]
    },
    {
      "cell_type": "code",
      "execution_count": null,
      "metadata": {
        "id": "FlQy84KIhVtp"
      },
      "outputs": [],
      "source": [
        "from tensorflow import keras \n",
        "from tensorflow.keras.layers import Dense,Flatten\n",
        "from tensorflow.keras.models import Model, Sequential,load_model\n",
        "from tensorflow.keras.preprocessing import image\n",
        "from tensorflow.keras.preprocessing.image import ImageDataGenerator\n",
        "from tensorflow.keras.applications import VGG16\n",
        "import pandas as pd\n",
        "import numpy as np\n",
        "import matplotlib.pyplot as plt\n",
        "from glob import glob"
      ]
    },
    {
      "cell_type": "code",
      "execution_count": null,
      "metadata": {
        "id": "VxdDg_fv4gJp"
      },
      "outputs": [],
      "source": [
        "TRAINING_DIR = '/content/drive/MyDrive/BTP/Dataset/dataset/New Plant Diseases Dataset(Augmented)/train/' \n",
        "TESTING_DIR = '/content/drive/MyDrive/BTP/Dataset/dataset/New Plant Diseases Dataset(Augmented)/valid/'"
      ]
    },
    {
      "cell_type": "code",
      "execution_count": null,
      "metadata": {
        "id": "GS52YX5wgZe9"
      },
      "outputs": [],
      "source": [
        "train_datagen=ImageDataGenerator(validation_split=0.2,rescale=1./255,\n",
        "                                 horizontal_flip=True,shear_range=.2,rotation_range=.2)\n",
        "test_datagen=ImageDataGenerator(rescale=1./255)\n",
        "\n",
        "training_set=train_datagen.flow_from_directory(TRAINING_DIR,\n",
        "                                               target_size=(224,224),class_mode=\"categorical\",batch_size=50,shuffle=True,subset=\"training\")\n",
        "\n",
        "validation_generator = train_datagen.flow_from_directory(\n",
        "        TRAINING_DIR,\n",
        "        target_size=(150, 150),\n",
        "        batch_size=32,\n",
        "        class_mode='categorical',\n",
        "        shuffle=True,\n",
        "        subset=\"validation\")\n",
        "\n",
        "test_set=test_datagen.flow_from_directory(TESTING_DIR,\n",
        "                                          target_size=(224,224),batch_size=50,class_mode=\"categorical\",shuffle=True)"
      ]
    },
    {
      "cell_type": "code",
      "execution_count": null,
      "metadata": {
        "id": "HW2SjSoreYG4"
      },
      "outputs": [],
      "source": [
        "vgg16=VGG16(include_top=False,weights=\"imagenet\",input_shape=[224,224,3])"
      ]
    },
    {
      "cell_type": "markdown",
      "metadata": {
        "id": "IOBcORk5eacd"
      },
      "source": [
        "**We will not train the layers because the layers of VGG16 layers are already trained with imagenet dataset.** "
      ]
    },
    {
      "cell_type": "code",
      "execution_count": null,
      "metadata": {
        "id": "84jretNSeYkt"
      },
      "outputs": [],
      "source": [
        "for layer in vgg16.layers:\n",
        "  layer.trainable=False"
      ]
    },
    {
      "cell_type": "code",
      "execution_count": null,
      "metadata": {
        "id": "gGNFXTK1ejJl"
      },
      "outputs": [],
      "source": [
        "folder=glob(\"/content/drive/MyDrive/BTP/Dataset/dataset/New Plant Diseases Dataset(Augmented)/train/*\")\n",
        "folder"
      ]
    },
    {
      "cell_type": "markdown",
      "metadata": {
        "id": "qEBhR0pNevVB"
      },
      "source": [
        "**Adding a flatten layer along with a Dense layer whose neuron will be equal to the number of classes with and activation funtion softmax**\n",
        "\n",
        "**Then we will concat the model and name vgg16_model**"
      ]
    },
    {
      "cell_type": "code",
      "execution_count": null,
      "metadata": {
        "id": "56oSxIc4ewYI"
      },
      "outputs": [],
      "source": [
        "x=Flatten()(vgg16.output)\n",
        "pred_vgg16=Dense(units=len(folder),activation=\"softmax\")(x)\n",
        "vgg16_model=Model(inputs=vgg16.input,outputs=pred_vgg16)"
      ]
    },
    {
      "cell_type": "markdown",
      "metadata": {
        "id": "KyOY069ie3cH"
      },
      "source": [
        "**We have taken the optimizer Adam and the loss will be categorical crossentropy and our aim will be to find the accuracy**"
      ]
    },
    {
      "cell_type": "code",
      "execution_count": null,
      "metadata": {
        "id": "OqDz8PfXeyr8"
      },
      "outputs": [],
      "source": [
        "vgg16_model.compile(optimizer=\"adam\",loss=\"categorical_crossentropy\",metrics=[\"accuracy\"])"
      ]
    },
    {
      "cell_type": "markdown",
      "metadata": {
        "id": "6BroOCbkfHDc"
      },
      "source": [
        "#### Final Architecture"
      ]
    },
    {
      "cell_type": "code",
      "execution_count": null,
      "metadata": {
        "id": "cNGGyH4sfEF1"
      },
      "outputs": [],
      "source": [
        "vgg16_model.summary()"
      ]
    },
    {
      "cell_type": "markdown",
      "metadata": {
        "id": "tofsceQ2fOAA"
      },
      "source": [
        "**Train the model with an epoch of 20 and the validation data will be the test data**"
      ]
    },
    {
      "cell_type": "code",
      "execution_count": null,
      "metadata": {
        "id": "Nr2Om-QefLVi"
      },
      "outputs": [],
      "source": [
        "transfer_vgg16=vgg16_model.fit_generator(training_set,validation_data=validation_generator,epochs=50,\n",
        "                                         validation_steps=len(validation_generator),steps_per_epoch=len(training_set))"
      ]
    },
    {
      "cell_type": "markdown",
      "metadata": {
        "id": "suJfNqEPfVpu"
      },
      "source": [
        "After the training I have noticed that the model is not **overfit and the loss and accuracy is somewhat equal to validation loss and validation accuracy.**\n",
        "\n",
        "Which means the model will perform good"
      ]
    },
    {
      "cell_type": "code",
      "execution_count": null,
      "metadata": {
        "id": "07e9TFYrBm2B"
      },
      "outputs": [],
      "source": [
        "# Scores is just a list containing loss and accuracy value\n",
        "scores=vgg16_model.evaluate(training_set)\n",
        "scores2=vgg16_model.evaluate(test_set)\n",
        "print(\"Training Loss is :\"+str(scores[0]))\n",
        "print(\"Training Accuracy is :\"+str(scores[1]*100)+\" %\")\n",
        "print(\"Testing Loss is : \"+str(scores2[0]))\n",
        "print(\"Testing Accuracy is : \"+str(scores2[1]*100)+\" %\")"
      ]
    },
    {
      "cell_type": "code",
      "execution_count": null,
      "metadata": {
        "id": "2wlDNlu8Bvoy"
      },
      "outputs": [],
      "source": [
        "test_steps_per_epoch = np.math.ceil(test_set.samples / test_set.batch_size)\n",
        "predictions = vgg16_model.predict(test_set, steps=test_steps_per_epoch)\n",
        "\n",
        "# Get most likely class\n",
        "predicted_classes = np.argmax(predictions, axis=1)\n",
        "\n",
        "# Get true classes and class Labels\n",
        "true_classes = test_set.classes\n",
        "class_labels = list(test_set.class_indices.keys())   "
      ]
    },
    {
      "cell_type": "code",
      "execution_count": null,
      "metadata": {
        "id": "lAmhW9jfB0ou"
      },
      "outputs": [],
      "source": [
        "#Classification Report\n",
        "import sklearn.metrics as metrics\n",
        "report = metrics.classification_report(true_classes, predicted_classes, target_names=class_labels)\n",
        "print(report) "
      ]
    },
    {
      "cell_type": "code",
      "execution_count": null,
      "metadata": {
        "id": "MdCeC_UVB2Rm"
      },
      "outputs": [],
      "source": [
        "#Confusion Matrix\n",
        "from sklearn.metrics import confusion_matrix\n",
        "sns.heatmap(confusion_matrix(true_classes,predicted_classes),annot=True,fmt='.5g') "
      ]
    },
    {
      "cell_type": "code",
      "execution_count": null,
      "metadata": {
        "id": "Dihpv1CmfU1R"
      },
      "outputs": [],
      "source": [
        "# plot the loss\n",
        "plt.plot(transfer_vgg16.history['loss'], label='train loss')\n",
        "plt.plot(transfer_vgg16.history['val_loss'], label='val loss')\n",
        "plt.legend()\n",
        "plt.show()\n",
        "plt.savefig('LossVal_loss')\n",
        "\n",
        "# plot the accuracy\n",
        "plt.plot(transfer_vgg16.history['accuracy'], label='train acc')\n",
        "plt.plot(transfer_vgg16.history['val_accuracy'], label='val acc')\n",
        "plt.legend()\n",
        "plt.show()\n",
        "plt.savefig('AccVal_acc')"
      ]
    },
    {
      "cell_type": "markdown",
      "metadata": {
        "id": "AUQn2ez7fagb"
      },
      "source": [
        "#### Prediction"
      ]
    },
    {
      "cell_type": "code",
      "execution_count": null,
      "metadata": {
        "id": "u61kMqKjfYOg"
      },
      "outputs": [],
      "source": [
        "y_pred_vgg16=vgg16_model.predict(test_set)"
      ]
    },
    {
      "cell_type": "markdown",
      "metadata": {
        "id": "H_UlqUXRfgnL"
      },
      "source": [
        "**The predicted output is a probability due to the activation funtion Softmax, it returns probability of the classes\n",
        "We will now change the probability to discrete values**"
      ]
    },
    {
      "cell_type": "code",
      "execution_count": null,
      "metadata": {
        "id": "4TenMDiuff_6"
      },
      "outputs": [],
      "source": [
        "import numpy as np\n",
        "y_pred_vgg16=np.argmax(y_pred_vgg16,axis=1)"
      ]
    },
    {
      "cell_type": "markdown",
      "metadata": {
        "id": "lfDUk7TZfk7F"
      },
      "source": [
        "**Saving the model**"
      ]
    },
    {
      "cell_type": "code",
      "execution_count": null,
      "metadata": {
        "id": "RcXXGBnpfkNx"
      },
      "outputs": [],
      "source": [
        "vgg16_model.save(\"Tomato_vgg16.h5\")\n",
        "from tensorflow.keras.models import load_model\n",
        "modelvgg16=load_model(\"Tomato_vgg16.h5\")"
      ]
    },
    {
      "cell_type": "markdown",
      "metadata": {
        "id": "oxKUfESRfs2J"
      },
      "source": [
        "**Testing the Model with validation dataset** "
      ]
    },
    {
      "cell_type": "code",
      "execution_count": null,
      "metadata": {
        "colab": {
          "base_uri": "https://localhost:8080/",
          "height": 343,
          "resources": {
            "http://localhost:8080/nbextensions/google.colab/files.js": {
              "data": "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",
              "headers": [
                [
                  "content-type",
                  "application/javascript"
                ]
              ],
              "ok": true,
              "status": 200,
              "status_text": ""
            }
          }
        },
        "id": "3wGsW4nYfpuK",
        "outputId": "3eeb1dc4-e461-4b01-a02d-d70df10b7df3"
      },
      "outputs": [
        {
          "data": {
            "text/html": [
              "\n",
              "     <input type=\"file\" id=\"files-f300f5c6-c8a0-4150-92a0-ed5ef7d22ca4\" name=\"files[]\" multiple disabled\n",
              "        style=\"border:none\" />\n",
              "     <output id=\"result-f300f5c6-c8a0-4150-92a0-ed5ef7d22ca4\">\n",
              "      Upload widget is only available when the cell has been executed in the\n",
              "      current browser session. Please rerun this cell to enable.\n",
              "      </output>\n",
              "      <script src=\"/nbextensions/google.colab/files.js\"></script> "
            ],
            "text/plain": [
              "<IPython.core.display.HTML object>"
            ]
          },
          "metadata": {},
          "output_type": "display_data"
        },
        {
          "name": "stdout",
          "output_type": "stream",
          "text": [
            "Saving Inception-V3.JPG to Inception-V3.JPG\n",
            "Tomato___Target_Spot\n"
          ]
        },
        {
          "data": {
            "image/png": "[encoded data removed]",
            "text/plain": [
              "<Figure size 432x288 with 1 Axes>"
            ]
          },
          "metadata": {
            "needs_background": "light"
          },
          "output_type": "display_data"
        }
      ],
      "source": [
        "# from google.colab import files\n",
        "# uploaded = files.upload()\n",
        "\n",
        "# for fn in uploaded.keys():\n",
        "#   # predict images\n",
        "#   path = '/content/' + fn\n",
        "#   img = image.load_img(path, target_size=(224,224))\n",
        "#   x = image.img_to_array(img)\n",
        "#   x = np.expand_dims(x, axis =0)\n",
        "\n",
        "#   preds = modelvgg16.predict(x)\n",
        "#   preds=np.argmax(preds, axis=1)\n",
        "#   if preds==0:\n",
        "#         preds=\"Tomato___Bacterial_spot\"\n",
        "#   elif preds==1:\n",
        "#         preds=\"Tomato___Early_blight\"\n",
        "#   elif preds==2:\n",
        "#         preds=\"Tomato___healthy\"\n",
        "#   elif preds==3:\n",
        "#         preds=\"Tomato___Late_blight\"\n",
        "#   elif preds==4:\n",
        "#         preds=\"Tomato___Leaf_Mold\"\n",
        "#   elif preds==5:\n",
        "#         preds=\"Tomato___Septoria_leaf_spot\"\n",
        "#   elif preds==6:\n",
        "#         preds=\"Tomato___Spider_mites Two-spotted_spider_mite\"\n",
        "#   elif preds==7:\n",
        "#         preds=\"Tomato___Target_Spot\"\n",
        "#   elif preds==8:\n",
        "#         preds=\"Tomato___Tomato_mosaic_virus\"\n",
        "#   else:\n",
        "#         preds=\"Tomato___Tomato_Yellow_Leaf_Curl_Virus\"\n",
        "#   print(preds)\n",
        "#   plt.imshow(img)"
      ]
    },
    {
      "cell_type": "markdown",
      "metadata": {
        "id": "sO_1Qp1baahI"
      },
      "source": [
        "# Misc"
      ]
    },
    {
      "cell_type": "code",
      "execution_count": null,
      "metadata": {
        "id": "zyggnvy5AR0k"
      },
      "outputs": [],
      "source": [
        "# fit the model, it will take some time to execute\n",
        "r = model.fit_generator(\n",
        "  training_set,\n",
        "  validation_data=test_set,\n",
        "  epochs=30,\n",
        "  steps_per_epoch=len(training_set),\n",
        "  validation_steps=len(test_set)\n",
        ")"
      ]
    },
    {
      "cell_type": "code",
      "execution_count": null,
      "metadata": {
        "id": "6cBbaJvgDGBl"
      },
      "outputs": [],
      "source": [
        "# Scores is just a list containing loss and accuracy value\n",
        "scores=r.evaluate(train_generator)\n",
        "scores2=r.evaluate(test_generator)\n",
        "print(\"Training Loss is :\"+str(scores[0]))\n",
        "print(\"Training Accuracy is :\"+str(scores[1]*100)+\" %\")\n",
        "print(\"Testing Loss is :\"+str(scores2[0]))\n",
        "print(\"Testing Accuracy is :\"+str(scores2[1]*100)+\" %\")"
      ]
    },
    {
      "cell_type": "code",
      "execution_count": null,
      "metadata": {
        "id": "mnUPy5FcDLEZ"
      },
      "outputs": [],
      "source": [
        "test_steps_per_epoch = np.math.ceil(test_generator.samples / test_generator.batch_size)\n",
        "predictions = r.predict(test_generator, steps=test_steps_per_epoch)\n",
        "\n",
        "# Get most likely class\n",
        "predicted_classes = np.argmax(predictions, axis=1)\n",
        "\n",
        "# Get true classes and class Labels\n",
        "true_classes = test_generator.classes\n",
        "class_labels = list(test_generator.class_indices.keys())   "
      ]
    },
    {
      "cell_type": "code",
      "execution_count": null,
      "metadata": {
        "id": "LGGcMpEZDRBM"
      },
      "outputs": [],
      "source": [
        "#Classification Report\n",
        "import sklearn.metrics as metrics\n",
        "report = metrics.classification_report(true_classes, predicted_classes, target_names=class_labels)\n",
        "print(report) "
      ]
    },
    {
      "cell_type": "code",
      "execution_count": null,
      "metadata": {
        "id": "wMxXVhvDDXJq"
      },
      "outputs": [],
      "source": [
        "#Confusion Matrix\n",
        "from sklearn.metrics import confusion_matrix\n",
        "sns.heatmap(confusion_matrix(true_classes,predicted_classes),annot=True,fmt='.5g') "
      ]
    },
    {
      "cell_type": "code",
      "execution_count": null,
      "metadata": {
        "id": "y9NY1W2kATBT"
      },
      "outputs": [],
      "source": [
        "# Plot the Loss and Accuracy\n",
        "# Loss\n",
        "plt.plot(r.history['loss'], label='train loss')\n",
        "plt.plot(r.history['val_loss'], label='val loss')\n",
        "plt.legend()\n",
        "plt.show()\n",
        "plt.savefig('LossVal_loss')\n",
        "\n",
        "# Accuracy\n",
        "plt.plot(r.history['accuracy'], label='train acc')\n",
        "plt.plot(r.history['val_accuracy'], label='val acc')\n",
        "plt.legend()\n",
        "plt.show()\n",
        "plt.savefig('AccVal_acc')"
      ]
    }
  ],
  "metadata": {
    "colab": {
      "collapsed_sections": [
        "W0KbT9jWoucE",
        "JbvZiC-6cmyh",
        "AUQn2ez7fagb",
        "sO_1Qp1baahI"
      ],
      "provenance": []
    },
    "gpuClass": "standard",
    "kernelspec": {
      "display_name": "Python 3.10.8 64-bit",
      "language": "python",
      "name": "python3"
    },
    "language_info": {
      "codemirror_mode": {
        "name": "ipython",
        "version": 3
      },
      "file_extension": ".py",
      "mimetype": "text/x-python",
      "name": "python",
      "nbconvert_exporter": "python",
      "pygments_lexer": "ipython3",
      "version": "3.10.8 (tags/v3.10.8:aaaf517, Oct 11 2022, 16:50:30) [MSC v.1933 64 bit (AMD64)]"
    },
    "vscode": {
      "interpreter": {
        "hash": "b2a8588e3ad7e07cfdec7f9a787e4a6b265ca4cc403aa707d971eb4fd1ad0edc"
      }
    }
  },
  "nbformat": 4,
  "nbformat_minor": 0
}
