{
  "cells": [
    {
      "cell_type": "code",
      "execution_count": 1,
      "metadata": {
        "_cell_guid": "b1076dfc-b9ad-4769-8c92-a6c4dae69d19",
        "_uuid": "8f2839f25d086af736a60e9eeb907d3b93b6e0e5",
        "colab": {
          "base_uri": "https://localhost:8080/"
        },
        "id": "3_HjethpAPFR",
        "outputId": "8ca82356-8235-4a1c-879b-e84d94e6e8db"
      },
      "outputs": [
        {
          "output_type": "stream",
          "name": "stdout",
          "text": [
            "[INFO]: Tensorflow version2.9.2\n",
            "[INFO]: GPU usage/device:GPU:0\n"
          ]
        }
      ],
      "source": [
        "#Import tensorflow and keras library\n",
        "import tensorflow as tf\n",
        "import keras_preprocessing\n",
        "from tensorflow.keras.preprocessing import image\n",
        "import pickle\n",
        "from tensorflow.keras.preprocessing.image import ImageDataGenerator\n",
        "from keras.callbacks import TensorBoard\n",
        "from keras.models import Sequential\n",
        "from keras.layers import Convolution2D,MaxPooling2D,Flatten,Dense,Dropout\n",
        "from tensorflow.keras.layers import BatchNormalization\n",
        "from tensorflow.keras.optimizers import Adam\n",
        "import keras\n",
        "from tensorflow.keras.callbacks import ModelCheckpoint\n",
        "\n",
        "print(\"[INFO]: Tensorflow version{}\".format(tf.__version__))\n",
        "state_gpu = tf.test.gpu_device_name()\n",
        "print(\"[INFO]: GPU usage{0}\".format(state_gpu))"
      ]
    },
    {
      "cell_type": "code",
      "source": [
        "# Importing the images \n",
        "from google.colab import drive\n",
        "drive.mount('/content/drive')"
      ],
      "metadata": {
        "colab": {
          "base_uri": "https://localhost:8080/"
        },
        "id": "8znChDsIBi-4",
        "outputId": "9c25b64c-3103-43d9-d87f-b6c9fc95bca8"
      },
      "execution_count": 2,
      "outputs": [
        {
          "output_type": "stream",
          "name": "stdout",
          "text": [
            "Mounted at /content/drive\n"
          ]
        }
      ]
    },
    {
      "cell_type": "code",
      "source": [
        "from zipfile import ZipFile\n",
        "with ZipFile('/content/drive/MyDrive/BTP/Dataset/tomato.zip','r') as zipObj:\n",
        "  zipObj.extractall('/content/drive/MyDrive/BTP/Dataset/dataset')"
      ],
      "metadata": {
        "id": "4Ax-U93PCLNi"
      },
      "execution_count": 9,
      "outputs": []
    },
    {
      "cell_type": "code",
      "source": [
        "train_datagen=ImageDataGenerator(validation_split=0.2,rescale=1./255,\n",
        "                                 horizontal_flip=True,rotation_range=.2,shear_range=.2)\n",
        "test_datagen=ImageDataGenerator(rescale=1./255)"
      ],
      "metadata": {
        "id": "zORkxp3x4_fx"
      },
      "execution_count": 10,
      "outputs": []
    },
    {
      "cell_type": "code",
      "execution_count": 11,
      "metadata": {
        "id": "eAkYeJD4APFb"
      },
      "outputs": [],
      "source": [
        "TRAINING_DIR = '/content/drive/MyDrive/BTP/Dataset/dataset/New Plant Diseases Dataset(Augmented)/train/' \n",
        "TESTING_DIR = '/content/drive/MyDrive/BTP/Dataset/dataset/New Plant Diseases Dataset(Augmented)/valid/'"
      ]
    },
    {
      "cell_type": "code",
      "source": [
        "training_set=train_datagen.flow_from_directory(TRAINING_DIR,\n",
        "                                               target_size=(224,224),class_mode=\"categorical\",batch_size=32,shuffle=True,subset=\"training\")\n",
        "\n",
        "validation_generator = train_datagen.flow_from_directory(\n",
        "        TRAINING_DIR,\n",
        "        target_size=(224, 224),\n",
        "        batch_size=32,\n",
        "        class_mode='categorical',\n",
        "        shuffle=True,\n",
        "        subset=\"validation\")\n",
        "\n",
        "test_set=test_datagen.flow_from_directory(TESTING_DIR,\n",
        "                                          target_size=(224,224),batch_size=32,class_mode=\"categorical\",shuffle=True)"
      ],
      "metadata": {
        "colab": {
          "base_uri": "https://localhost:8080/"
        },
        "id": "w1l9rY-LyZBA",
        "outputId": "6fdec38c-849c-4a31-81ed-125d0a82037a"
      },
      "execution_count": 12,
      "outputs": [
        {
          "output_type": "stream",
          "name": "stdout",
          "text": [
            "Found 14678 images belonging to 10 classes.\n",
            "Found 3667 images belonging to 10 classes.\n",
            "Found 4585 images belonging to 10 classes.\n"
          ]
        }
      ]
    },
    {
      "cell_type": "code",
      "execution_count": 13,
      "metadata": {
        "id": "ZQ3tLewdAPFc"
      },
      "outputs": [],
      "source": [
        "# TARGET_SIZE = (150,150)\n",
        "# # TRAIN_BATCH_SIZE = 128\n",
        "# # VALID_BATCH_SIZE = 32\n",
        "# SEED = 42\n",
        "\n",
        "# #Data Iterator\n",
        "# train_data = train_gen.flow_from_directory(\n",
        "# TRAINING_DIR,\n",
        "# target_size = TARGET_SIZE,\n",
        "# class_mode = 'categorical',\n",
        "# color_mode = \"rgb\",\n",
        "# batch_size = 32,\n",
        "# shuffle = True,\n",
        "# seed = SEED,\n",
        "# subset=\"training\"\n",
        "# )\n",
        "\n",
        "# validation_generator = train_gen.flow_from_directory(\n",
        "#         TRAINING_DIR,\n",
        "#         target_size=(150, 150),\n",
        "#         batch_size=32,\n",
        "#         class_mode='categorical',\n",
        "#         shuffle=True,\n",
        "#         subset=\"validation\")\n",
        "\n",
        "\n",
        "# test_data = valid_gen.flow_from_directory(\n",
        "\n",
        "# TESTING_DIR,\n",
        "# target_size = TARGET_SIZE,\n",
        "# class_mode = 'categorical',\n",
        "# color_mode = \"rgb\",\n",
        "# batch_size = 32\n",
        "# )"
      ]
    },
    {
      "cell_type": "code",
      "source": [
        "from glob import glob\n",
        "folder=glob(\"/content/drive/MyDrive/BTP/Dataset/dataset/New Plant Diseases Dataset(Augmented)/train/*\")\n",
        "folder"
      ],
      "metadata": {
        "colab": {
          "base_uri": "https://localhost:8080/"
        },
        "id": "7A9TVsGpy4zY",
        "outputId": "3e632eb9-4c7c-497b-bd13-00828b3c7f0f"
      },
      "execution_count": 14,
      "outputs": [
        {
          "output_type": "execute_result",
          "data": {
            "text/plain": [
              "['/content/drive/MyDrive/BTP/Dataset/dataset/New Plant Diseases Dataset(Augmented)/train/Tomato___Bacterial_spot',\n",
              " '/content/drive/MyDrive/BTP/Dataset/dataset/New Plant Diseases Dataset(Augmented)/train/Tomato___Early_blight',\n",
              " '/content/drive/MyDrive/BTP/Dataset/dataset/New Plant Diseases Dataset(Augmented)/train/Tomato___Late_blight',\n",
              " '/content/drive/MyDrive/BTP/Dataset/dataset/New Plant Diseases Dataset(Augmented)/train/Tomato___Leaf_Mold',\n",
              " '/content/drive/MyDrive/BTP/Dataset/dataset/New Plant Diseases Dataset(Augmented)/train/Tomato___Septoria_leaf_spot',\n",
              " '/content/drive/MyDrive/BTP/Dataset/dataset/New Plant Diseases Dataset(Augmented)/train/Tomato___Spider_mites Two-spotted_spider_mite',\n",
              " '/content/drive/MyDrive/BTP/Dataset/dataset/New Plant Diseases Dataset(Augmented)/train/Tomato___Target_Spot',\n",
              " '/content/drive/MyDrive/BTP/Dataset/dataset/New Plant Diseases Dataset(Augmented)/train/Tomato___Tomato_Yellow_Leaf_Curl_Virus',\n",
              " '/content/drive/MyDrive/BTP/Dataset/dataset/New Plant Diseases Dataset(Augmented)/train/Tomato___Tomato_mosaic_virus',\n",
              " '/content/drive/MyDrive/BTP/Dataset/dataset/New Plant Diseases Dataset(Augmented)/train/Tomato___healthy']"
            ]
          },
          "metadata": {},
          "execution_count": 14
        }
      ]
    },
    {
      "cell_type": "code",
      "execution_count": 15,
      "metadata": {
        "id": "HRF-R7jfAPFe",
        "colab": {
          "base_uri": "https://localhost:8080/"
        },
        "outputId": "52aa562d-d780-460d-9d72-825847519e23"
      },
      "outputs": [
        {
          "output_type": "stream",
          "name": "stdout",
          "text": [
            "Downloading data from https://storage.googleapis.com/tensorflow/keras-applications/vgg16/vgg16_weights_tf_dim_ordering_tf_kernels_notop.h5\n",
            "58889256/58889256 [==============================] - 3s 0us/step\n"
          ]
        }
      ],
      "source": [
        "from tensorflow import keras\n",
        "from keras.applications.vgg16 import VGG16\n",
        "base_model = keras.applications.VGG16(weights='imagenet', include_top=False, input_shape=[224, 224, 3])\n",
        "#load weight from local file which is just added\n",
        "#base_model = applications.VGG16(weights='../input/vgg16/vgg16_weights_tf_dim_ordering_tf_kernels_notop.h5', include_top=False, input_shape=(img_rows, img_cols, img_channel))\n",
        "\n",
        "base_model_weights_path = '/kaggle/input/vgg16/vgg16_weights_tf_dim_ordering_tf_kernels_notop.h5'\n",
        "# base_model = VGG16(weights=base_model_weights_path, include_top=False, input_shape=(224, 224, 3))\n",
        "\n",
        "x = keras.layers.Flatten() (base_model.output)\n",
        "x = keras.layers.Dense(256, activation=\"relu\")(x)\n",
        "x = keras.layers.Dropout(0.25)(x)\n",
        "output = keras.layers.Dense(units=len(folder), activation='softmax')(x)\n",
        "model = keras.models.Model(inputs=base_model.input, outputs=output)\n",
        "\n",
        "# The newly added layers are initialized with random values.\n",
        "# Make sure based model remain unchanged until newly added layers weights get reasonable values.\n",
        "for layer in base_model.layers:\n",
        "    layer.trainable = False"
      ]
    },
    {
      "cell_type": "code",
      "execution_count": 16,
      "metadata": {
        "colab": {
          "base_uri": "https://localhost:8080/"
        },
        "id": "cwSSsjfeAPFh",
        "outputId": "7141b1b0-3738-4ed7-b3d6-e15981abc7dd"
      },
      "outputs": [
        {
          "output_type": "stream",
          "name": "stdout",
          "text": [
            "Model: \"model\"\n",
            "_________________________________________________________________\n",
            " Layer (type)                Output Shape              Param #   \n",
            "=================================================================\n",
            " input_1 (InputLayer)        [(None, 224, 224, 3)]     0         \n",
            "                                                                 \n",
            " block1_conv1 (Conv2D)       (None, 224, 224, 64)      1792      \n",
            "                                                                 \n",
            " block1_conv2 (Conv2D)       (None, 224, 224, 64)      36928     \n",
            "                                                                 \n",
            " block1_pool (MaxPooling2D)  (None, 112, 112, 64)      0         \n",
            "                                                                 \n",
            " block2_conv1 (Conv2D)       (None, 112, 112, 128)     73856     \n",
            "                                                                 \n",
            " block2_conv2 (Conv2D)       (None, 112, 112, 128)     147584    \n",
            "                                                                 \n",
            " block2_pool (MaxPooling2D)  (None, 56, 56, 128)       0         \n",
            "                                                                 \n",
            " block3_conv1 (Conv2D)       (None, 56, 56, 256)       295168    \n",
            "                                                                 \n",
            " block3_conv2 (Conv2D)       (None, 56, 56, 256)       590080    \n",
            "                                                                 \n",
            " block3_conv3 (Conv2D)       (None, 56, 56, 256)       590080    \n",
            "                                                                 \n",
            " block3_pool (MaxPooling2D)  (None, 28, 28, 256)       0         \n",
            "                                                                 \n",
            " block4_conv1 (Conv2D)       (None, 28, 28, 512)       1180160   \n",
            "                                                                 \n",
            " block4_conv2 (Conv2D)       (None, 28, 28, 512)       2359808   \n",
            "                                                                 \n",
            " block4_conv3 (Conv2D)       (None, 28, 28, 512)       2359808   \n",
            "                                                                 \n",
            " block4_pool (MaxPooling2D)  (None, 14, 14, 512)       0         \n",
            "                                                                 \n",
            " block5_conv1 (Conv2D)       (None, 14, 14, 512)       2359808   \n",
            "                                                                 \n",
            " block5_conv2 (Conv2D)       (None, 14, 14, 512)       2359808   \n",
            "                                                                 \n",
            " block5_conv3 (Conv2D)       (None, 14, 14, 512)       2359808   \n",
            "                                                                 \n",
            " block5_pool (MaxPooling2D)  (None, 7, 7, 512)         0         \n",
            "                                                                 \n",
            " flatten (Flatten)           (None, 25088)             0         \n",
            "                                                                 \n",
            " dense (Dense)               (None, 256)               6422784   \n",
            "                                                                 \n",
            " dropout (Dropout)           (None, 256)               0         \n",
            "                                                                 \n",
            " dense_1 (Dense)             (None, 10)                2570      \n",
            "                                                                 \n",
            "=================================================================\n",
            "Total params: 21,140,042\n",
            "Trainable params: 6,425,354\n",
            "Non-trainable params: 14,714,688\n",
            "_________________________________________________________________\n"
          ]
        }
      ],
      "source": [
        "model.summary()"
      ]
    },
    {
      "cell_type": "code",
      "execution_count": 17,
      "metadata": {
        "id": "XQZZbqXSAPFi",
        "colab": {
          "base_uri": "https://localhost:8080/"
        },
        "outputId": "f8f55248-98af-44df-db27-af5c580b9485"
      },
      "outputs": [
        {
          "output_type": "stream",
          "name": "stderr",
          "text": [
            "/usr/local/lib/python3.8/dist-packages/keras/optimizers/optimizer_v2/adam.py:110: UserWarning: The `lr` argument is deprecated, use `learning_rate` instead.\n",
            "  super(Adam, self).__init__(name, **kwargs)\n"
          ]
        }
      ],
      "source": [
        "LEARNING_RATE = 0.0001\n",
        "#LEARNING_RATE = 0.001\n",
        "\n",
        "#Optimizer\n",
        "opt = Adam(lr = LEARNING_RATE)\n",
        "model.compile(optimizer=opt, loss=keras.losses.categorical_crossentropy, metrics=['accuracy'])"
      ]
    },
    {
      "cell_type": "code",
      "execution_count": 18,
      "metadata": {
        "colab": {
          "base_uri": "https://localhost:8080/",
          "height": 449
        },
        "id": "IB6I7fl2APFk",
        "outputId": "0bdc1ae0-8686-443b-8dc2-fb80d93818c0"
      },
      "outputs": [
        {
          "output_type": "stream",
          "name": "stdout",
          "text": [
            "Epoch 1/50\n",
            "459/459 [==============================] - 282s 591ms/step - loss: 0.8848 - accuracy: 0.7156 - val_loss: 0.5942 - val_accuracy: 0.8116\n",
            "Epoch 2/50\n",
            " 16/459 [>.............................] - ETA: 3:17 - loss: 0.5531 - accuracy: 0.8223"
          ]
        },
        {
          "output_type": "error",
          "ename": "KeyboardInterrupt",
          "evalue": "ignored",
          "traceback": [
            "\u001b[0;31m---------------------------------------------------------------------------\u001b[0m",
            "\u001b[0;31mKeyboardInterrupt\u001b[0m                         Traceback (most recent call last)",
            "\u001b[0;32m<ipython-input-18-c3f591c7b030>\u001b[0m in \u001b[0;36m<module>\u001b[0;34m\u001b[0m\n\u001b[1;32m      7\u001b[0m \u001b[0;34m\u001b[0m\u001b[0m\n\u001b[1;32m      8\u001b[0m \u001b[0;31m# Fit model to get reasonable weights for newly added layers.\u001b[0m\u001b[0;34m\u001b[0m\u001b[0;34m\u001b[0m\u001b[0;34m\u001b[0m\u001b[0m\n\u001b[0;32m----> 9\u001b[0;31m \u001b[0mhistory\u001b[0m \u001b[0;34m=\u001b[0m \u001b[0mmodel\u001b[0m\u001b[0;34m.\u001b[0m\u001b[0mfit\u001b[0m\u001b[0;34m(\u001b[0m\u001b[0mx\u001b[0m \u001b[0;34m=\u001b[0m \u001b[0mtraining_set\u001b[0m\u001b[0;34m,\u001b[0m \u001b[0mvalidation_data\u001b[0m\u001b[0;34m=\u001b[0m\u001b[0mvalidation_generator\u001b[0m\u001b[0;34m,\u001b[0m\u001b[0mepochs\u001b[0m\u001b[0;34m=\u001b[0m\u001b[0mEPOCHS\u001b[0m\u001b[0;34m)\u001b[0m\u001b[0;34m\u001b[0m\u001b[0;34m\u001b[0m\u001b[0m\n\u001b[0m\u001b[1;32m     10\u001b[0m \u001b[0;34m\u001b[0m\u001b[0m\n\u001b[1;32m     11\u001b[0m \u001b[0;31m# history = model.fit_generator(train_data,\u001b[0m\u001b[0;34m\u001b[0m\u001b[0;34m\u001b[0m\u001b[0;34m\u001b[0m\u001b[0m\n",
            "\u001b[0;32m/usr/local/lib/python3.8/dist-packages/keras/utils/traceback_utils.py\u001b[0m in \u001b[0;36merror_handler\u001b[0;34m(*args, **kwargs)\u001b[0m\n\u001b[1;32m     62\u001b[0m     \u001b[0mfiltered_tb\u001b[0m \u001b[0;34m=\u001b[0m \u001b[0;32mNone\u001b[0m\u001b[0;34m\u001b[0m\u001b[0;34m\u001b[0m\u001b[0m\n\u001b[1;32m     63\u001b[0m     \u001b[0;32mtry\u001b[0m\u001b[0;34m:\u001b[0m\u001b[0;34m\u001b[0m\u001b[0;34m\u001b[0m\u001b[0m\n\u001b[0;32m---> 64\u001b[0;31m       \u001b[0;32mreturn\u001b[0m \u001b[0mfn\u001b[0m\u001b[0;34m(\u001b[0m\u001b[0;34m*\u001b[0m\u001b[0margs\u001b[0m\u001b[0;34m,\u001b[0m \u001b[0;34m**\u001b[0m\u001b[0mkwargs\u001b[0m\u001b[0;34m)\u001b[0m\u001b[0;34m\u001b[0m\u001b[0;34m\u001b[0m\u001b[0m\n\u001b[0m\u001b[1;32m     65\u001b[0m     \u001b[0;32mexcept\u001b[0m \u001b[0mException\u001b[0m \u001b[0;32mas\u001b[0m \u001b[0me\u001b[0m\u001b[0;34m:\u001b[0m  \u001b[0;31m# pylint: disable=broad-except\u001b[0m\u001b[0;34m\u001b[0m\u001b[0;34m\u001b[0m\u001b[0m\n\u001b[1;32m     66\u001b[0m       \u001b[0mfiltered_tb\u001b[0m \u001b[0;34m=\u001b[0m \u001b[0m_process_traceback_frames\u001b[0m\u001b[0;34m(\u001b[0m\u001b[0me\u001b[0m\u001b[0;34m.\u001b[0m\u001b[0m__traceback__\u001b[0m\u001b[0;34m)\u001b[0m\u001b[0;34m\u001b[0m\u001b[0;34m\u001b[0m\u001b[0m\n",
            "\u001b[0;32m/usr/local/lib/python3.8/dist-packages/keras/engine/training.py\u001b[0m in \u001b[0;36mfit\u001b[0;34m(self, x, y, batch_size, epochs, verbose, callbacks, validation_split, validation_data, shuffle, class_weight, sample_weight, initial_epoch, steps_per_epoch, validation_steps, validation_batch_size, validation_freq, max_queue_size, workers, use_multiprocessing)\u001b[0m\n\u001b[1;32m   1407\u001b[0m                 _r=1):\n\u001b[1;32m   1408\u001b[0m               \u001b[0mcallbacks\u001b[0m\u001b[0;34m.\u001b[0m\u001b[0mon_train_batch_begin\u001b[0m\u001b[0;34m(\u001b[0m\u001b[0mstep\u001b[0m\u001b[0;34m)\u001b[0m\u001b[0;34m\u001b[0m\u001b[0;34m\u001b[0m\u001b[0m\n\u001b[0;32m-> 1409\u001b[0;31m               \u001b[0mtmp_logs\u001b[0m \u001b[0;34m=\u001b[0m \u001b[0mself\u001b[0m\u001b[0;34m.\u001b[0m\u001b[0mtrain_function\u001b[0m\u001b[0;34m(\u001b[0m\u001b[0miterator\u001b[0m\u001b[0;34m)\u001b[0m\u001b[0;34m\u001b[0m\u001b[0;34m\u001b[0m\u001b[0m\n\u001b[0m\u001b[1;32m   1410\u001b[0m               \u001b[0;32mif\u001b[0m \u001b[0mdata_handler\u001b[0m\u001b[0;34m.\u001b[0m\u001b[0mshould_sync\u001b[0m\u001b[0;34m:\u001b[0m\u001b[0;34m\u001b[0m\u001b[0;34m\u001b[0m\u001b[0m\n\u001b[1;32m   1411\u001b[0m                 \u001b[0mcontext\u001b[0m\u001b[0;34m.\u001b[0m\u001b[0masync_wait\u001b[0m\u001b[0;34m(\u001b[0m\u001b[0;34m)\u001b[0m\u001b[0;34m\u001b[0m\u001b[0;34m\u001b[0m\u001b[0m\n",
            "\u001b[0;32m/usr/local/lib/python3.8/dist-packages/tensorflow/python/util/traceback_utils.py\u001b[0m in \u001b[0;36merror_handler\u001b[0;34m(*args, **kwargs)\u001b[0m\n\u001b[1;32m    148\u001b[0m     \u001b[0mfiltered_tb\u001b[0m \u001b[0;34m=\u001b[0m \u001b[0;32mNone\u001b[0m\u001b[0;34m\u001b[0m\u001b[0;34m\u001b[0m\u001b[0m\n\u001b[1;32m    149\u001b[0m     \u001b[0;32mtry\u001b[0m\u001b[0;34m:\u001b[0m\u001b[0;34m\u001b[0m\u001b[0;34m\u001b[0m\u001b[0m\n\u001b[0;32m--> 150\u001b[0;31m       \u001b[0;32mreturn\u001b[0m \u001b[0mfn\u001b[0m\u001b[0;34m(\u001b[0m\u001b[0;34m*\u001b[0m\u001b[0margs\u001b[0m\u001b[0;34m,\u001b[0m \u001b[0;34m**\u001b[0m\u001b[0mkwargs\u001b[0m\u001b[0;34m)\u001b[0m\u001b[0;34m\u001b[0m\u001b[0;34m\u001b[0m\u001b[0m\n\u001b[0m\u001b[1;32m    151\u001b[0m     \u001b[0;32mexcept\u001b[0m \u001b[0mException\u001b[0m \u001b[0;32mas\u001b[0m \u001b[0me\u001b[0m\u001b[0;34m:\u001b[0m\u001b[0;34m\u001b[0m\u001b[0;34m\u001b[0m\u001b[0m\n\u001b[1;32m    152\u001b[0m       \u001b[0mfiltered_tb\u001b[0m \u001b[0;34m=\u001b[0m \u001b[0m_process_traceback_frames\u001b[0m\u001b[0;34m(\u001b[0m\u001b[0me\u001b[0m\u001b[0;34m.\u001b[0m\u001b[0m__traceback__\u001b[0m\u001b[0;34m)\u001b[0m\u001b[0;34m\u001b[0m\u001b[0;34m\u001b[0m\u001b[0m\n",
            "\u001b[0;32m/usr/local/lib/python3.8/dist-packages/tensorflow/python/eager/def_function.py\u001b[0m in \u001b[0;36m__call__\u001b[0;34m(self, *args, **kwds)\u001b[0m\n\u001b[1;32m    913\u001b[0m \u001b[0;34m\u001b[0m\u001b[0m\n\u001b[1;32m    914\u001b[0m       \u001b[0;32mwith\u001b[0m \u001b[0mOptionalXlaContext\u001b[0m\u001b[0;34m(\u001b[0m\u001b[0mself\u001b[0m\u001b[0;34m.\u001b[0m\u001b[0m_jit_compile\u001b[0m\u001b[0;34m)\u001b[0m\u001b[0;34m:\u001b[0m\u001b[0;34m\u001b[0m\u001b[0;34m\u001b[0m\u001b[0m\n\u001b[0;32m--> 915\u001b[0;31m         \u001b[0mresult\u001b[0m \u001b[0;34m=\u001b[0m \u001b[0mself\u001b[0m\u001b[0;34m.\u001b[0m\u001b[0m_call\u001b[0m\u001b[0;34m(\u001b[0m\u001b[0;34m*\u001b[0m\u001b[0margs\u001b[0m\u001b[0;34m,\u001b[0m \u001b[0;34m**\u001b[0m\u001b[0mkwds\u001b[0m\u001b[0;34m)\u001b[0m\u001b[0;34m\u001b[0m\u001b[0;34m\u001b[0m\u001b[0m\n\u001b[0m\u001b[1;32m    916\u001b[0m \u001b[0;34m\u001b[0m\u001b[0m\n\u001b[1;32m    917\u001b[0m       \u001b[0mnew_tracing_count\u001b[0m \u001b[0;34m=\u001b[0m \u001b[0mself\u001b[0m\u001b[0;34m.\u001b[0m\u001b[0mexperimental_get_tracing_count\u001b[0m\u001b[0;34m(\u001b[0m\u001b[0;34m)\u001b[0m\u001b[0;34m\u001b[0m\u001b[0;34m\u001b[0m\u001b[0m\n",
            "\u001b[0;32m/usr/local/lib/python3.8/dist-packages/tensorflow/python/eager/def_function.py\u001b[0m in \u001b[0;36m_call\u001b[0;34m(self, *args, **kwds)\u001b[0m\n\u001b[1;32m    945\u001b[0m       \u001b[0;31m# In this case we have created variables on the first call, so we run the\u001b[0m\u001b[0;34m\u001b[0m\u001b[0;34m\u001b[0m\u001b[0;34m\u001b[0m\u001b[0m\n\u001b[1;32m    946\u001b[0m       \u001b[0;31m# defunned version which is guaranteed to never create variables.\u001b[0m\u001b[0;34m\u001b[0m\u001b[0;34m\u001b[0m\u001b[0;34m\u001b[0m\u001b[0m\n\u001b[0;32m--> 947\u001b[0;31m       \u001b[0;32mreturn\u001b[0m \u001b[0mself\u001b[0m\u001b[0;34m.\u001b[0m\u001b[0m_stateless_fn\u001b[0m\u001b[0;34m(\u001b[0m\u001b[0;34m*\u001b[0m\u001b[0margs\u001b[0m\u001b[0;34m,\u001b[0m \u001b[0;34m**\u001b[0m\u001b[0mkwds\u001b[0m\u001b[0;34m)\u001b[0m  \u001b[0;31m# pylint: disable=not-callable\u001b[0m\u001b[0;34m\u001b[0m\u001b[0;34m\u001b[0m\u001b[0m\n\u001b[0m\u001b[1;32m    948\u001b[0m     \u001b[0;32melif\u001b[0m \u001b[0mself\u001b[0m\u001b[0;34m.\u001b[0m\u001b[0m_stateful_fn\u001b[0m \u001b[0;32mis\u001b[0m \u001b[0;32mnot\u001b[0m \u001b[0;32mNone\u001b[0m\u001b[0;34m:\u001b[0m\u001b[0;34m\u001b[0m\u001b[0;34m\u001b[0m\u001b[0m\n\u001b[1;32m    949\u001b[0m       \u001b[0;31m# Release the lock early so that multiple threads can perform the call\u001b[0m\u001b[0;34m\u001b[0m\u001b[0;34m\u001b[0m\u001b[0;34m\u001b[0m\u001b[0m\n",
            "\u001b[0;32m/usr/local/lib/python3.8/dist-packages/tensorflow/python/eager/function.py\u001b[0m in \u001b[0;36m__call__\u001b[0;34m(self, *args, **kwargs)\u001b[0m\n\u001b[1;32m   2451\u001b[0m       (graph_function,\n\u001b[1;32m   2452\u001b[0m        filtered_flat_args) = self._maybe_define_function(args, kwargs)\n\u001b[0;32m-> 2453\u001b[0;31m     return graph_function._call_flat(\n\u001b[0m\u001b[1;32m   2454\u001b[0m         filtered_flat_args, captured_inputs=graph_function.captured_inputs)  # pylint: disable=protected-access\n\u001b[1;32m   2455\u001b[0m \u001b[0;34m\u001b[0m\u001b[0m\n",
            "\u001b[0;32m/usr/local/lib/python3.8/dist-packages/tensorflow/python/eager/function.py\u001b[0m in \u001b[0;36m_call_flat\u001b[0;34m(self, args, captured_inputs, cancellation_manager)\u001b[0m\n\u001b[1;32m   1858\u001b[0m         and executing_eagerly):\n\u001b[1;32m   1859\u001b[0m       \u001b[0;31m# No tape is watching; skip to running the function.\u001b[0m\u001b[0;34m\u001b[0m\u001b[0;34m\u001b[0m\u001b[0;34m\u001b[0m\u001b[0m\n\u001b[0;32m-> 1860\u001b[0;31m       return self._build_call_outputs(self._inference_function.call(\n\u001b[0m\u001b[1;32m   1861\u001b[0m           ctx, args, cancellation_manager=cancellation_manager))\n\u001b[1;32m   1862\u001b[0m     forward_backward = self._select_forward_and_backward_functions(\n",
            "\u001b[0;32m/usr/local/lib/python3.8/dist-packages/tensorflow/python/eager/function.py\u001b[0m in \u001b[0;36mcall\u001b[0;34m(self, ctx, args, cancellation_manager)\u001b[0m\n\u001b[1;32m    495\u001b[0m       \u001b[0;32mwith\u001b[0m \u001b[0m_InterpolateFunctionError\u001b[0m\u001b[0;34m(\u001b[0m\u001b[0mself\u001b[0m\u001b[0;34m)\u001b[0m\u001b[0;34m:\u001b[0m\u001b[0;34m\u001b[0m\u001b[0;34m\u001b[0m\u001b[0m\n\u001b[1;32m    496\u001b[0m         \u001b[0;32mif\u001b[0m \u001b[0mcancellation_manager\u001b[0m \u001b[0;32mis\u001b[0m \u001b[0;32mNone\u001b[0m\u001b[0;34m:\u001b[0m\u001b[0;34m\u001b[0m\u001b[0;34m\u001b[0m\u001b[0m\n\u001b[0;32m--> 497\u001b[0;31m           outputs = execute.execute(\n\u001b[0m\u001b[1;32m    498\u001b[0m               \u001b[0mstr\u001b[0m\u001b[0;34m(\u001b[0m\u001b[0mself\u001b[0m\u001b[0;34m.\u001b[0m\u001b[0msignature\u001b[0m\u001b[0;34m.\u001b[0m\u001b[0mname\u001b[0m\u001b[0;34m)\u001b[0m\u001b[0;34m,\u001b[0m\u001b[0;34m\u001b[0m\u001b[0;34m\u001b[0m\u001b[0m\n\u001b[1;32m    499\u001b[0m               \u001b[0mnum_outputs\u001b[0m\u001b[0;34m=\u001b[0m\u001b[0mself\u001b[0m\u001b[0;34m.\u001b[0m\u001b[0m_num_outputs\u001b[0m\u001b[0;34m,\u001b[0m\u001b[0;34m\u001b[0m\u001b[0;34m\u001b[0m\u001b[0m\n",
            "\u001b[0;32m/usr/local/lib/python3.8/dist-packages/tensorflow/python/eager/execute.py\u001b[0m in \u001b[0;36mquick_execute\u001b[0;34m(op_name, num_outputs, inputs, attrs, ctx, name)\u001b[0m\n\u001b[1;32m     52\u001b[0m   \u001b[0;32mtry\u001b[0m\u001b[0;34m:\u001b[0m\u001b[0;34m\u001b[0m\u001b[0;34m\u001b[0m\u001b[0m\n\u001b[1;32m     53\u001b[0m     \u001b[0mctx\u001b[0m\u001b[0;34m.\u001b[0m\u001b[0mensure_initialized\u001b[0m\u001b[0;34m(\u001b[0m\u001b[0;34m)\u001b[0m\u001b[0;34m\u001b[0m\u001b[0;34m\u001b[0m\u001b[0m\n\u001b[0;32m---> 54\u001b[0;31m     tensors = pywrap_tfe.TFE_Py_Execute(ctx._handle, device_name, op_name,\n\u001b[0m\u001b[1;32m     55\u001b[0m                                         inputs, attrs, num_outputs)\n\u001b[1;32m     56\u001b[0m   \u001b[0;32mexcept\u001b[0m \u001b[0mcore\u001b[0m\u001b[0;34m.\u001b[0m\u001b[0m_NotOkStatusException\u001b[0m \u001b[0;32mas\u001b[0m \u001b[0me\u001b[0m\u001b[0;34m:\u001b[0m\u001b[0;34m\u001b[0m\u001b[0;34m\u001b[0m\u001b[0m\n",
            "\u001b[0;31mKeyboardInterrupt\u001b[0m: "
          ]
        }
      ],
      "source": [
        "#TRAINING_NUM = train_data.n #or train_data.samples\n",
        "# VALID_NUM = test_data.n\n",
        "EPOCHS = 50\n",
        "\n",
        "# STEP_SIZE_TRAIN = TRAINING_NUM // TRAIN_BATCH_SIZE \n",
        "# STEP_SIZE_VALID = VALID_NUM // VALID_BATCH_SIZE\n",
        "\n",
        "# Fit model to get reasonable weights for newly added layers.\n",
        "history = model.fit(x = training_set, validation_data=validation_generator,epochs=EPOCHS)\n",
        "\n",
        "# history = model.fit_generator(train_data,\n",
        "#                              validation_data = validation_generator,\n",
        "#                              epochs = EPOCHS)"
      ]
    },
    {
      "cell_type": "code",
      "execution_count": null,
      "metadata": {
        "id": "CS54zB_qAPFm",
        "colab": {
          "base_uri": "https://localhost:8080/",
          "height": 535
        },
        "outputId": "6a18440d-cb8b-4ad0-e3f5-488aa220c1ae"
      },
      "outputs": [
        {
          "output_type": "display_data",
          "data": {
            "text/plain": [
              "<Figure size 1080x576 with 1 Axes>"
            ],
            "image/png": "[encoded data removed]"
          },
          "metadata": {
            "needs_background": "light"
          }
        },
        {
          "output_type": "display_data",
          "data": {
            "text/plain": [
              "<Figure size 1080x576 with 1 Axes>"
            ],
            "image/png": "[encoded data removed]"
          },
          "metadata": {
            "needs_background": "light"
          }
        }
      ],
      "source": [
        "import matplotlib.pyplot as plt\n",
        "\n",
        "plt.figure( figsize = (15,8)) \n",
        "    \n",
        "plt.subplot(221)  \n",
        "# Accuracy \n",
        "plt.plot(model.history.history['accuracy'])\n",
        "plt.plot(model.history.history['val_accuracy'])\n",
        "plt.title('Model Accuracy')\n",
        "plt.ylabel('Accuracy')\n",
        "plt.xlabel('Epoch')\n",
        "plt.legend(['Training set', 'Validation set'], loc='upper left')\n",
        "plt.show()\n",
        "\n",
        "\n",
        "# Loss\n",
        "plt.figure( figsize = (15,8)) \n",
        "plt.subplot(222)  \n",
        "plt.plot(model.history.history['loss'])\n",
        "plt.plot(model.history.history['val_loss'])\n",
        "plt.title('Model Loss')\n",
        "plt.ylabel('Loss')\n",
        "plt.xlabel('Epoch')\n",
        "plt.legend(['Training set', 'Validation set'], loc='upper left')\n",
        "plt.show()"
      ]
    },
    {
      "cell_type": "code",
      "execution_count": null,
      "metadata": {
        "id": "Kr-JgBdYAPFo",
        "colab": {
          "base_uri": "https://localhost:8080/"
        },
        "outputId": "3c8f8023-2c57-47f7-a801-adc9ef2f0fdf"
      },
      "outputs": [
        {
          "output_type": "stream",
          "name": "stdout",
          "text": [
            "[INFO] Best Validation Accuracy: % 91.76438450813293\n"
          ]
        }
      ],
      "source": [
        "best_val_acc = max(history.history['val_accuracy'])\n",
        "print(\"[INFO] Best Validation Accuracy: %\",best_val_acc*100)"
      ]
    },
    {
      "cell_type": "code",
      "source": [
        "# Scores is just a list containing loss and accuracy value\n",
        "scores=model.evaluate(training_set)\n",
        "scores2=model.evaluate(test_set)\n",
        "print(\"Training Loss is : \"+str(scores[0]))\n",
        "print(\"Training Accuracy is : \"+str(scores[1]*100)+\" %\")\n",
        "print(\"Testing Loss is : \"+str(scores2[0]))\n",
        "print(\"Testing Accuracy is : \"+str(scores2[1]*100)+\" %\")"
      ],
      "metadata": {
        "id": "3FG1-j-AQlpx",
        "colab": {
          "base_uri": "https://localhost:8080/"
        },
        "outputId": "826e2f63-9140-4732-ff7c-2158a4aa67db"
      },
      "execution_count": 24,
      "outputs": [
        {
          "output_type": "stream",
          "name": "stdout",
          "text": [
            "459/459 [==============================] - 191s 416ms/step - loss: 1.5400e-04 - accuracy: 1.0000\n",
            "144/144 [==============================] - 23s 161ms/step - loss: 0.0484 - accuracy: 0.9882\n",
            "Training Loss is : 0.00015399519179482013\n",
            "Training Accuracy is : 100.0 %\n",
            "Testing Loss is : 0.048378780484199524\n",
            "Testing Accuracy is : 98.82224798202515 %\n"
          ]
        }
      ]
    },
    {
      "cell_type": "markdown",
      "source": [
        "# FINE-TUNING"
      ],
      "metadata": {
        "id": "EDb2jhumSX87"
      }
    },
    {
      "cell_type": "code",
      "execution_count": 19,
      "metadata": {
        "id": "HndY3ZWaAPFq",
        "colab": {
          "base_uri": "https://localhost:8080/"
        },
        "outputId": "c6b8f619-50d7-4565-d476-264fe3688bd6"
      },
      "outputs": [
        {
          "output_type": "stream",
          "name": "stderr",
          "text": [
            "/usr/local/lib/python3.8/dist-packages/keras/optimizers/optimizer_v2/gradient_descent.py:108: UserWarning: The `lr` argument is deprecated, use `learning_rate` instead.\n",
            "  super(SGD, self).__init__(name, **kwargs)\n"
          ]
        }
      ],
      "source": [
        "for layer in base_model.layers:\n",
        "    layer.trainable = True\n",
        "\n",
        "# compile the model with a SGD/momentum optimizer\n",
        "# and a very slow learning rate (This ensures the base model weights do not change a lot)\n",
        "model.compile(loss='categorical_crossentropy',\n",
        "              optimizer=keras.optimizers.SGD(lr=1e-4, momentum=0.9),\n",
        "              metrics=['accuracy'])"
      ]
    },
    {
      "cell_type": "code",
      "execution_count": 20,
      "metadata": {
        "id": "xS1Xtg_3APFs",
        "outputId": "a7908c3b-34c7-466d-e37c-6bed5e708f06",
        "colab": {
          "base_uri": "https://localhost:8080/"
        }
      },
      "outputs": [
        {
          "output_type": "stream",
          "name": "stdout",
          "text": [
            "Epoch 1/50\n",
            "459/459 [==============================] - 311s 665ms/step - loss: 0.3342 - accuracy: 0.8898 - val_loss: 0.2565 - val_accuracy: 0.9149\n",
            "Epoch 2/50\n",
            "459/459 [==============================] - 299s 651ms/step - loss: 0.1988 - accuracy: 0.9328 - val_loss: 0.1879 - val_accuracy: 0.9359\n",
            "Epoch 3/50\n",
            "459/459 [==============================] - 297s 646ms/step - loss: 0.1335 - accuracy: 0.9547 - val_loss: 0.2084 - val_accuracy: 0.9318\n",
            "Epoch 4/50\n",
            "459/459 [==============================] - 291s 634ms/step - loss: 0.1082 - accuracy: 0.9624 - val_loss: 0.1495 - val_accuracy: 0.9476\n",
            "Epoch 5/50\n",
            "459/459 [==============================] - 292s 635ms/step - loss: 0.0883 - accuracy: 0.9700 - val_loss: 0.1820 - val_accuracy: 0.9389\n",
            "Epoch 6/50\n",
            "459/459 [==============================] - 289s 630ms/step - loss: 0.0642 - accuracy: 0.9775 - val_loss: 0.1474 - val_accuracy: 0.9490\n",
            "Epoch 7/50\n",
            "459/459 [==============================] - 292s 635ms/step - loss: 0.0515 - accuracy: 0.9817 - val_loss: 0.1153 - val_accuracy: 0.9605\n",
            "Epoch 8/50\n",
            "459/459 [==============================] - 286s 623ms/step - loss: 0.0540 - accuracy: 0.9811 - val_loss: 0.1210 - val_accuracy: 0.9618\n",
            "Epoch 9/50\n",
            "459/459 [==============================] - 291s 634ms/step - loss: 0.0411 - accuracy: 0.9862 - val_loss: 0.0865 - val_accuracy: 0.9708\n",
            "Epoch 10/50\n",
            "459/459 [==============================] - 292s 636ms/step - loss: 0.0297 - accuracy: 0.9909 - val_loss: 0.0765 - val_accuracy: 0.9765\n",
            "Epoch 11/50\n",
            "459/459 [==============================] - 290s 632ms/step - loss: 0.0276 - accuracy: 0.9909 - val_loss: 0.0858 - val_accuracy: 0.9727\n",
            "Epoch 12/50\n",
            "459/459 [==============================] - 286s 623ms/step - loss: 0.0241 - accuracy: 0.9925 - val_loss: 0.0801 - val_accuracy: 0.9741\n",
            "Epoch 13/50\n",
            "459/459 [==============================] - 288s 626ms/step - loss: 0.0201 - accuracy: 0.9939 - val_loss: 0.0875 - val_accuracy: 0.9722\n",
            "Epoch 14/50\n",
            "459/459 [==============================] - 296s 645ms/step - loss: 0.0192 - accuracy: 0.9935 - val_loss: 0.0858 - val_accuracy: 0.9765\n",
            "Epoch 15/50\n",
            "459/459 [==============================] - 296s 645ms/step - loss: 0.0171 - accuracy: 0.9945 - val_loss: 0.0894 - val_accuracy: 0.9711\n",
            "Epoch 16/50\n",
            "459/459 [==============================] - 294s 641ms/step - loss: 0.0172 - accuracy: 0.9938 - val_loss: 0.0865 - val_accuracy: 0.9714\n",
            "Epoch 17/50\n",
            "459/459 [==============================] - 298s 648ms/step - loss: 0.0099 - accuracy: 0.9973 - val_loss: 0.0805 - val_accuracy: 0.9760\n",
            "Epoch 18/50\n",
            "459/459 [==============================] - 295s 642ms/step - loss: 0.0093 - accuracy: 0.9970 - val_loss: 0.0851 - val_accuracy: 0.9757\n",
            "Epoch 19/50\n",
            "459/459 [==============================] - 297s 646ms/step - loss: 0.0105 - accuracy: 0.9965 - val_loss: 0.0943 - val_accuracy: 0.9746\n",
            "Epoch 20/50\n",
            "459/459 [==============================] - 295s 643ms/step - loss: 0.0128 - accuracy: 0.9957 - val_loss: 0.0816 - val_accuracy: 0.9760\n",
            "Epoch 21/50\n",
            "459/459 [==============================] - 291s 634ms/step - loss: 0.0089 - accuracy: 0.9975 - val_loss: 0.0868 - val_accuracy: 0.9757\n",
            "Epoch 22/50\n",
            "459/459 [==============================] - 289s 630ms/step - loss: 0.0116 - accuracy: 0.9962 - val_loss: 0.0922 - val_accuracy: 0.9746\n",
            "Epoch 23/50\n",
            "459/459 [==============================] - 288s 628ms/step - loss: 0.0055 - accuracy: 0.9986 - val_loss: 0.1001 - val_accuracy: 0.9708\n",
            "Epoch 24/50\n",
            "459/459 [==============================] - 290s 631ms/step - loss: 0.0087 - accuracy: 0.9972 - val_loss: 0.1448 - val_accuracy: 0.9580\n",
            "Epoch 25/50\n",
            "459/459 [==============================] - 309s 672ms/step - loss: 0.0057 - accuracy: 0.9985 - val_loss: 0.0937 - val_accuracy: 0.9785\n",
            "Epoch 26/50\n",
            "459/459 [==============================] - 292s 636ms/step - loss: 0.0078 - accuracy: 0.9978 - val_loss: 0.0812 - val_accuracy: 0.9765\n",
            "Epoch 27/50\n",
            "459/459 [==============================] - 291s 633ms/step - loss: 0.0027 - accuracy: 0.9995 - val_loss: 0.0802 - val_accuracy: 0.9757\n",
            "Epoch 28/50\n",
            "459/459 [==============================] - 290s 631ms/step - loss: 0.0084 - accuracy: 0.9973 - val_loss: 0.0742 - val_accuracy: 0.9828\n",
            "Epoch 29/50\n",
            "459/459 [==============================] - 292s 637ms/step - loss: 0.0044 - accuracy: 0.9988 - val_loss: 0.0707 - val_accuracy: 0.9779\n",
            "Epoch 30/50\n",
            "459/459 [==============================] - 295s 643ms/step - loss: 0.0057 - accuracy: 0.9984 - val_loss: 0.0869 - val_accuracy: 0.9776\n",
            "Epoch 31/50\n",
            "459/459 [==============================] - 294s 640ms/step - loss: 0.0043 - accuracy: 0.9990 - val_loss: 0.0941 - val_accuracy: 0.9757\n",
            "Epoch 32/50\n",
            "459/459 [==============================] - 299s 652ms/step - loss: 0.0052 - accuracy: 0.9987 - val_loss: 0.0798 - val_accuracy: 0.9817\n",
            "Epoch 33/50\n",
            "459/459 [==============================] - 301s 655ms/step - loss: 0.0044 - accuracy: 0.9987 - val_loss: 0.1208 - val_accuracy: 0.9686\n",
            "Epoch 34/50\n",
            "459/459 [==============================] - 298s 649ms/step - loss: 0.0048 - accuracy: 0.9988 - val_loss: 0.0726 - val_accuracy: 0.9815\n",
            "Epoch 35/50\n",
            "459/459 [==============================] - 300s 653ms/step - loss: 0.0035 - accuracy: 0.9988 - val_loss: 0.0822 - val_accuracy: 0.9790\n",
            "Epoch 36/50\n",
            "459/459 [==============================] - 299s 650ms/step - loss: 0.0025 - accuracy: 0.9994 - val_loss: 0.0846 - val_accuracy: 0.9785\n",
            "Epoch 37/50\n",
            "459/459 [==============================] - 299s 651ms/step - loss: 0.0050 - accuracy: 0.9987 - val_loss: 0.1073 - val_accuracy: 0.9684\n",
            "Epoch 38/50\n",
            "459/459 [==============================] - 300s 652ms/step - loss: 0.0021 - accuracy: 0.9997 - val_loss: 0.0718 - val_accuracy: 0.9817\n",
            "Epoch 39/50\n",
            "459/459 [==============================] - 293s 639ms/step - loss: 0.0017 - accuracy: 0.9996 - val_loss: 0.0745 - val_accuracy: 0.9806\n",
            "Epoch 40/50\n",
            "459/459 [==============================] - 293s 639ms/step - loss: 0.0022 - accuracy: 0.9995 - val_loss: 0.0677 - val_accuracy: 0.9804\n",
            "Epoch 41/50\n",
            "459/459 [==============================] - 287s 626ms/step - loss: 0.0029 - accuracy: 0.9990 - val_loss: 0.0865 - val_accuracy: 0.9760\n",
            "Epoch 42/50\n",
            "459/459 [==============================] - 283s 616ms/step - loss: 0.0020 - accuracy: 0.9995 - val_loss: 0.0644 - val_accuracy: 0.9823\n",
            "Epoch 43/50\n",
            "459/459 [==============================] - 282s 613ms/step - loss: 0.0012 - accuracy: 0.9997 - val_loss: 0.0617 - val_accuracy: 0.9815\n",
            "Epoch 44/50\n",
            "459/459 [==============================] - 283s 616ms/step - loss: 0.0091 - accuracy: 0.9964 - val_loss: 0.0648 - val_accuracy: 0.9820\n",
            "Epoch 45/50\n",
            "459/459 [==============================] - 282s 614ms/step - loss: 0.0040 - accuracy: 0.9988 - val_loss: 0.0764 - val_accuracy: 0.9809\n",
            "Epoch 46/50\n",
            "459/459 [==============================] - 279s 608ms/step - loss: 0.0018 - accuracy: 0.9994 - val_loss: 0.0762 - val_accuracy: 0.9793\n",
            "Epoch 47/50\n",
            "459/459 [==============================] - 278s 605ms/step - loss: 8.7270e-04 - accuracy: 0.9999 - val_loss: 0.0646 - val_accuracy: 0.9806\n",
            "Epoch 48/50\n",
            "459/459 [==============================] - 278s 606ms/step - loss: 6.7272e-04 - accuracy: 1.0000 - val_loss: 0.0684 - val_accuracy: 0.9831\n",
            "Epoch 49/50\n",
            "459/459 [==============================] - 279s 608ms/step - loss: 0.0073 - accuracy: 0.9976 - val_loss: 0.0810 - val_accuracy: 0.9795\n",
            "Epoch 50/50\n",
            "459/459 [==============================] - 280s 610ms/step - loss: 0.0022 - accuracy: 0.9995 - val_loss: 0.0648 - val_accuracy: 0.9828\n"
          ]
        }
      ],
      "source": [
        "EPOCHS = 50\n",
        "\n",
        "# STEP_SIZE_TRAIN = TRAINING_NUM // TRAIN_BATCH_SIZE \n",
        "# STEP_SIZE_VALID = VALID_NUM // VALID_BATCH_SIZE\n",
        "\n",
        "# Fit model to get reasonable weights for newly added layers.\n",
        "history = model.fit(x = training_set, validation_data=validation_generator,epochs=EPOCHS)\n"
      ]
    },
    {
      "cell_type": "code",
      "execution_count": 21,
      "metadata": {
        "id": "Ps7c3-7kAPFv",
        "colab": {
          "base_uri": "https://localhost:8080/"
        },
        "outputId": "a4753041-5445-4609-9579-f97b0538fa4e"
      },
      "outputs": [
        {
          "output_type": "stream",
          "name": "stdout",
          "text": [
            "[INFO] Best Validation Accuracy: % 98.30924272537231\n"
          ]
        }
      ],
      "source": [
        "best_val_acc = max(history.history['val_accuracy'])\n",
        "print(\"[INFO] Best Validation Accuracy: %\",best_val_acc*100)"
      ]
    },
    {
      "cell_type": "code",
      "execution_count": 22,
      "metadata": {
        "id": "6NdG6UCdAPFy",
        "colab": {
          "base_uri": "https://localhost:8080/",
          "height": 535
        },
        "outputId": "30ef67c0-2ae5-42b3-d410-915c68b7a876"
      },
      "outputs": [
        {
          "output_type": "display_data",
          "data": {
            "text/plain": [
              "<Figure size 1080x576 with 1 Axes>"
            ],
            "image/png": "[encoded data removed]"
          },
          "metadata": {
            "needs_background": "light"
          }
        },
        {
          "output_type": "display_data",
          "data": {
            "text/plain": [
              "<Figure size 1080x576 with 1 Axes>"
            ],
            "image/png": "[encoded data removed]"
          },
          "metadata": {
            "needs_background": "light"
          }
        }
      ],
      "source": [
        "import matplotlib.pyplot as plt\n",
        "\n",
        "plt.figure( figsize = (15,8)) \n",
        "    \n",
        "plt.subplot(221)  \n",
        "# Accuracy \n",
        "plt.plot(model.history.history['accuracy'])\n",
        "plt.plot(model.history.history['val_accuracy'])\n",
        "plt.title('Model Accuracy')\n",
        "plt.ylabel('Accuracy')\n",
        "plt.xlabel('Epoch')\n",
        "plt.legend(['Training set', 'Validation set'], loc='upper left')\n",
        "plt.show()\n",
        "\n",
        "\n",
        "# Loss\n",
        "plt.figure( figsize = (15,8)) \n",
        "plt.subplot(222)  \n",
        "plt.plot(model.history.history['loss'])\n",
        "plt.plot(model.history.history['val_loss'])\n",
        "plt.title('Model Loss')\n",
        "plt.ylabel('Loss')\n",
        "plt.xlabel('Epoch')\n",
        "plt.legend(['Training set', 'Validation set'], loc='upper left')\n",
        "plt.show()"
      ]
    },
    {
      "cell_type": "code",
      "source": [
        "# Scores is just a list containing loss and accuracy value\n",
        "scores=model.evaluate(training_set)\n",
        "scores2=model.evaluate(test_set)\n",
        "print(\"Training Loss is : \"+str(scores[0]))\n",
        "print(\"Training Accuracy is : \"+str(scores[1]*100)+\" %\")\n",
        "print(\"Testing Loss is : \"+str(scores2[0]))\n",
        "print(\"Testing Accuracy is : \"+str(scores2[1]*100)+\" %\")"
      ],
      "metadata": {
        "id": "j_YN0tkUM8yZ",
        "colab": {
          "base_uri": "https://localhost:8080/"
        },
        "outputId": "126039c8-f9bc-49ce-e804-d684cc0dd026"
      },
      "execution_count": 23,
      "outputs": [
        {
          "output_type": "stream",
          "name": "stdout",
          "text": [
            "459/459 [==============================] - 192s 419ms/step - loss: 1.7660e-04 - accuracy: 1.0000\n",
            "144/144 [==============================] - 25s 170ms/step - loss: 0.0484 - accuracy: 0.9882\n",
            "Training Loss is : 0.00017659775039646775\n",
            "Training Accuracy is : 100.0 %\n",
            "Testing Loss is : 0.048378780484199524\n",
            "Testing Accuracy is : 98.82224798202515 %\n"
          ]
        }
      ]
    },
    {
      "cell_type": "code",
      "source": [],
      "metadata": {
        "id": "kJRlY8FZGGZ-"
      },
      "execution_count": null,
      "outputs": []
    }
  ],
  "metadata": {
    "kernelspec": {
      "display_name": "Python 3.9.7 64-bit",
      "language": "python",
      "name": "python3"
    },
    "language_info": {
      "codemirror_mode": {
        "name": "ipython",
        "version": 3
      },
      "file_extension": ".py",
      "mimetype": "text/x-python",
      "name": "python",
      "nbconvert_exporter": "python",
      "pygments_lexer": "ipython3",
      "version": "3.9.7"
    },
    "vscode": {
      "interpreter": {
        "hash": "8c93b56f12893a73f3fb26b619faf35eb67f0f4410719b74190040acf104b72e"
      }
    },
    "colab": {
      "provenance": []
    },
    "gpuClass": "standard",
    "accelerator": "GPU"
  },
  "nbformat": 4,
  "nbformat_minor": 0
}